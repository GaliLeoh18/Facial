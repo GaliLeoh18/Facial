{
 "cells": [
  {
   "cell_type": "markdown",
   "id": "5d945d97",
   "metadata": {},
   "source": [
    "# Facial Emotion Recognition\n",
    "\n",
    "Name: Mendoza, Patrick T. &  Quinol, Clyde Earl Cyrus C.\n",
    "\n",
    "Student No.: 202030478 & 202030080\n",
    "\n",
    "Date of Experiment: 12/06/23\n",
    "\n",
    "Date of Submission: 12/06/23"
   ]
  },
  {
   "cell_type": "markdown",
   "id": "30b735de",
   "metadata": {},
   "source": [
    "# INTRODUCTION"
   ]
  },
  {
   "cell_type": "markdown",
   "id": "3f475083",
   "metadata": {},
   "source": [
    "ML algorithms play a crucial role in developing models dedicated to accurately discerning human emotions. These algorithms facilitate the training of sophisticated emotion recognition models, contributing to a nuanced understanding and interpretation of human emotions. In this context, our objective is to:\n",
    "\n",
    "Apply ML techniques to analyze and classify facial expressions in real-time, focusing on the integration of emotion recognition into applications that can benefit from a deeper understanding of human emotions."
   ]
  },
  {
   "cell_type": "markdown",
   "id": "c6ba030b",
   "metadata": {},
   "source": [
    "# 1. Installing Dependencies / Importing Necessary Libraries"
   ]
  },
  {
   "cell_type": "markdown",
   "id": "033f4dc6",
   "metadata": {},
   "source": [
    "In this section, the libraries will be installed/imported. It includes the (1) `OpenCV (cv2)`; (2) and `DeepFace` libraries."
   ]
  },
  {
   "cell_type": "code",
   "execution_count": 1,
   "id": "5327ff4d",
   "metadata": {
    "scrolled": true
   },
   "outputs": [
    {
     "name": "stdout",
     "output_type": "stream",
     "text": [
      "WARNING:tensorflow:From C:\\Users\\Clyde Quinol\\anaconda3\\Lib\\site-packages\\keras\\src\\losses.py:2976: The name tf.losses.sparse_softmax_cross_entropy is deprecated. Please use tf.compat.v1.losses.sparse_softmax_cross_entropy instead.\n",
      "\n"
     ]
    }
   ],
   "source": [
    "# Importing the OpenCV library for computer vision tasks.\n",
    "# Note: Before running this code, you need to install the OpenCV library.\n",
    "# You can install it using the following command in your jupyter notebook directly: 'pip install opencv-python'\n",
    "import cv2\n",
    "\n",
    "# Importing the DeepFace library for facial analysis tasks.\n",
    "# Note: Before running this code, you need to install the DeepFace library.\n",
    "# You can install it using the following command in your jupyter notebook directly: 'pip install deepface'\n",
    "from deepface import DeepFace"
   ]
  },
  {
   "cell_type": "markdown",
   "id": "4bcd7276",
   "metadata": {},
   "source": [
    "## a. Alternative:"
   ]
  },
  {
   "cell_type": "markdown",
   "id": "aac1e674",
   "metadata": {},
   "source": [
    "Importing the os module to interact with the operating system."
   ]
  },
  {
   "cell_type": "code",
   "execution_count": 2,
   "id": "6980d964",
   "metadata": {},
   "outputs": [],
   "source": [
    "# import os #uncomment this if you want to interact with the operating system."
   ]
  },
  {
   "cell_type": "markdown",
   "id": "8f5c5543",
   "metadata": {},
   "source": [
    "Setting the `CUDA_VISIBLE_DEVICES` environment variable to `'-1'` to use CPU instead of GPU.\n",
    "\n",
    "This is useful if you don't have a compatible GPU or if you want to allocate resources differently."
   ]
  },
  {
   "cell_type": "code",
   "execution_count": 3,
   "id": "c8d9c708",
   "metadata": {},
   "outputs": [],
   "source": [
    "# os.environ['CUDA_VISIBLE_DEVICES'] = '-1' # Uncomment this line only if you intend to use it."
   ]
  },
  {
   "cell_type": "markdown",
   "id": "8d721ba0",
   "metadata": {},
   "source": [
    "Note: If you have a GPU and want to use it, you can skip this line or set it to the appropriate GPU index."
   ]
  },
  {
   "cell_type": "markdown",
   "id": "ff97c0fe",
   "metadata": {},
   "source": [
    "# 2. Load the Cascade Classifier"
   ]
  },
  {
   "cell_type": "code",
   "execution_count": 4,
   "id": "125c4639",
   "metadata": {},
   "outputs": [],
   "source": [
    "# Note: The 'haarcascade_frontalface_default.xml' file must be in the same directory as this script for easier use.\n",
    "face_classifier = cv2.CascadeClassifier(cv2.data.haarcascades + 'haarcascade_frontalface_default.xml')\n",
    "\n",
    "# Check if the cascade is loaded successfully\n",
    "if face_classifier.empty():\n",
    "    print(\"Error: Unable to load the face cascade classifier.\")"
   ]
  },
  {
   "cell_type": "markdown",
   "id": "a4447b99",
   "metadata": {},
   "source": [
    "Verify if the `face cascade classifier` has been loaded properly.\n",
    "\n",
    "If it fails to load, an error message `\"Error: Unable to load the face cascade classifier.\"` will be displayed."
   ]
  },
  {
   "cell_type": "markdown",
   "id": "bdd553d3",
   "metadata": {},
   "source": [
    "# 3. Real-Time Facial Emotion Recognition Integration"
   ]
  },
  {
   "cell_type": "code",
   "execution_count": null,
   "id": "9b454371",
   "metadata": {},
   "outputs": [
    {
     "name": "stderr",
     "output_type": "stream",
     "text": [
      "Action: emotion: 100%|██████████| 1/1 [00:00<00:00,  3.57it/s]\n",
      "Action: emotion: 100%|██████████| 1/1 [00:00<00:00,  8.39it/s]\n"
     ]
    },
    {
     "name": "stdout",
     "output_type": "stream",
     "text": [
      "[{'emotion': {'angry': 1.8662754446268082, 'disgust': 0.0022643956981482916, 'fear': 3.8561128079891205, 'happy': 0.07322201854549348, 'sad': 32.468780875205994, 'surprise': 0.0010292585102433804, 'neutral': 61.732321977615356}, 'dominant_emotion': 'neutral', 'region': {'x': 179, 'y': 156, 'w': 40, 'h': 40}}, {'emotion': {'angry': 0.07894980371929705, 'disgust': 2.278652093401501e-09, 'fear': 83.12143683433533, 'happy': 0.7190819829702377, 'sad': 2.0372357219457626, 'surprise': 0.0699780008289963, 'neutral': 13.97332102060318}, 'dominant_emotion': 'fear', 'region': {'x': 180, 'y': 297, 'w': 137, 'h': 137}}]\n"
     ]
    },
    {
     "name": "stderr",
     "output_type": "stream",
     "text": [
      "Action: emotion: 100%|██████████| 1/1 [00:00<00:00,  9.21it/s]\n"
     ]
    },
    {
     "name": "stdout",
     "output_type": "stream",
     "text": [
      "[{'emotion': {'angry': 0.7624351885169744, 'disgust': 1.05384314608159e-06, 'fear': 41.26359224319458, 'happy': 19.16927993297577, 'sad': 2.7231963351368904, 'surprise': 2.772754617035389, 'neutral': 33.308738470077515}, 'dominant_emotion': 'fear', 'region': {'x': 179, 'y': 291, 'w': 138, 'h': 138}}]\n"
     ]
    },
    {
     "name": "stderr",
     "output_type": "stream",
     "text": [
      "Action: emotion: 100%|██████████| 1/1 [00:00<00:00,  7.02it/s]\n"
     ]
    },
    {
     "name": "stdout",
     "output_type": "stream",
     "text": [
      "[{'emotion': {'angry': 1.3590038996632219, 'disgust': 1.3474384089827734e-05, 'fear': 75.12828408142518, 'happy': 4.011108993159652, 'sad': 4.0286275412288255, 'surprise': 1.320084120174155, 'neutral': 14.15287534560259}, 'dominant_emotion': 'fear', 'region': {'x': 181, 'y': 291, 'w': 135, 'h': 135}}]\n"
     ]
    },
    {
     "name": "stderr",
     "output_type": "stream",
     "text": [
      "Action: emotion: 100%|██████████| 1/1 [00:00<00:00, 10.62it/s]\n"
     ]
    },
    {
     "name": "stdout",
     "output_type": "stream",
     "text": [
      "[{'emotion': {'angry': 4.454854344742972, 'disgust': 3.5162530381218694e-05, 'fear': 73.32235296698177, 'happy': 2.272418243000717, 'sad': 2.0853060605757165, 'surprise': 4.1506121575102615, 'neutral': 13.714414690206684}, 'dominant_emotion': 'fear', 'region': {'x': 177, 'y': 290, 'w': 136, 'h': 136}}]\n"
     ]
    },
    {
     "name": "stderr",
     "output_type": "stream",
     "text": [
      "Action: emotion: 100%|██████████| 1/1 [00:00<00:00, 11.17it/s]\n",
      "Action: emotion: 100%|██████████| 1/1 [00:00<00:00, 12.35it/s]\n"
     ]
    },
    {
     "name": "stdout",
     "output_type": "stream",
     "text": [
      "[{'emotion': {'angry': 10.618924349546432, 'disgust': 0.017662318714428693, 'fear': 15.410307049751282, 'happy': 0.5643375683575869, 'sad': 37.12540566921234, 'surprise': 0.5926673300564289, 'neutral': 35.67069470882416}, 'dominant_emotion': 'sad', 'region': {'x': 186, 'y': 155, 'w': 42, 'h': 42}}, {'emotion': {'angry': 0.8073324337601662, 'disgust': 7.698814918910557e-07, 'fear': 76.12736821174622, 'happy': 3.8627155125141144, 'sad': 3.3321887254714966, 'surprise': 1.0105222463607788, 'neutral': 14.859867095947266}, 'dominant_emotion': 'fear', 'region': {'x': 175, 'y': 290, 'w': 137, 'h': 137}}]\n"
     ]
    },
    {
     "name": "stderr",
     "output_type": "stream",
     "text": [
      "Action: emotion: 100%|██████████| 1/1 [00:00<00:00, 10.36it/s]\n",
      "Action: emotion: 100%|██████████| 1/1 [00:00<00:00, 10.81it/s]\n"
     ]
    },
    {
     "name": "stdout",
     "output_type": "stream",
     "text": [
      "[{'emotion': {'angry': 1.9399379861428754, 'disgust': 0.0018486661771854658, 'fear': 4.128112151847821, 'happy': 0.16740695906049502, 'sad': 21.753964215044473, 'surprise': 0.007569432462204848, 'neutral': 72.00115656838935}, 'dominant_emotion': 'neutral', 'region': {'x': 186, 'y': 156, 'w': 41, 'h': 41}}, {'emotion': {'angry': 0.13383848924717243, 'disgust': 3.230617355234831e-08, 'fear': 12.414540345343372, 'happy': 1.3585095172232102, 'sad': 2.0987778290377754, 'surprise': 0.15110883132644481, 'neutral': 83.84322427768852}, 'dominant_emotion': 'neutral', 'region': {'x': 170, 'y': 289, 'w': 143, 'h': 143}}]\n"
     ]
    },
    {
     "name": "stderr",
     "output_type": "stream",
     "text": [
      "Action: emotion: 100%|██████████| 1/1 [00:00<00:00, 10.81it/s]\n",
      "Action: emotion: 100%|██████████| 1/1 [00:00<00:00,  9.79it/s]\n"
     ]
    },
    {
     "name": "stdout",
     "output_type": "stream",
     "text": [
      "[{'emotion': {'angry': 20.98746943623192, 'disgust': 0.01803735434424006, 'fear': 4.648050484293641, 'happy': 0.636864237935634, 'sad': 38.34532042201514, 'surprise': 0.05723437543399627, 'neutral': 35.307018720266974}, 'dominant_emotion': 'sad', 'region': {'x': 184, 'y': 155, 'w': 42, 'h': 42}}, {'emotion': {'angry': 0.7290342822670937, 'disgust': 3.5445846258141955e-07, 'fear': 72.54133224487305, 'happy': 6.512641906738281, 'sad': 1.4941510744392872, 'surprise': 2.8033677488565445, 'neutral': 15.91947078704834}, 'dominant_emotion': 'fear', 'region': {'x': 176, 'y': 290, 'w': 137, 'h': 137}}]\n"
     ]
    },
    {
     "name": "stderr",
     "output_type": "stream",
     "text": [
      "Action: emotion: 100%|██████████| 1/1 [00:00<00:00, 10.87it/s]\n",
      "Action: emotion: 100%|██████████| 1/1 [00:00<00:00, 12.57it/s]\n"
     ]
    },
    {
     "name": "stdout",
     "output_type": "stream",
     "text": [
      "[{'emotion': {'angry': 7.582280784845352, 'disgust': 0.002605412373668514, 'fear': 5.245227366685867, 'happy': 0.02303788933204487, 'sad': 25.897201895713806, 'surprise': 0.020778233010787517, 'neutral': 61.22886538505554}, 'dominant_emotion': 'neutral', 'region': {'x': 184, 'y': 156, 'w': 40, 'h': 40}}, {'emotion': {'angry': 0.3247769277409868, 'disgust': 1.1270568262093968e-06, 'fear': 95.81807230818703, 'happy': 0.8483259512976379, 'sad': 1.2094219936085935, 'surprise': 0.38424958436933665, 'neutral': 1.4151555398199285}, 'dominant_emotion': 'fear', 'region': {'x': 177, 'y': 292, 'w': 135, 'h': 135}}]\n"
     ]
    },
    {
     "name": "stderr",
     "output_type": "stream",
     "text": [
      "Action: emotion: 100%|██████████| 1/1 [00:00<00:00,  8.68it/s]\n",
      "Action: emotion: 100%|██████████| 1/1 [00:00<00:00,  9.25it/s]\n"
     ]
    },
    {
     "name": "stdout",
     "output_type": "stream",
     "text": [
      "[{'emotion': {'angry': 1.1292782353924653, 'disgust': 2.5893642552515084e-06, 'fear': 0.3375517638431051, 'happy': 0.03585523440943565, 'sad': 1.3210430597390568, 'surprise': 0.010613138052160699, 'neutral': 97.16565592084264}, 'dominant_emotion': 'neutral', 'region': {'x': 183, 'y': 155, 'w': 42, 'h': 42}}, {'emotion': {'angry': 0.19754406557012386, 'disgust': 1.4810455739878245e-07, 'fear': 20.25289478932557, 'happy': 13.88160602827144, 'sad': 2.567504093647491, 'surprise': 0.260997757695348, 'neutral': 62.83945594304275}, 'dominant_emotion': 'neutral', 'region': {'x': 170, 'y': 289, 'w': 141, 'h': 141}}]\n"
     ]
    },
    {
     "name": "stderr",
     "output_type": "stream",
     "text": [
      "Action: emotion: 100%|██████████| 1/1 [00:00<00:00,  8.23it/s]\n",
      "Action: emotion: 100%|██████████| 1/1 [00:00<00:00,  8.16it/s]\n"
     ]
    },
    {
     "name": "stdout",
     "output_type": "stream",
     "text": [
      "[{'emotion': {'angry': 0.22602348687964835, 'disgust': 6.708199773122796e-06, 'fear': 0.19635905033540127, 'happy': 0.028733125722184692, 'sad': 1.7032448034590717, 'surprise': 0.0037106542673765253, 'neutral': 97.84191872573868}, 'dominant_emotion': 'neutral', 'region': {'x': 184, 'y': 156, 'w': 41, 'h': 41}}, {'emotion': {'angry': 0.1091699684283175, 'disgust': 8.449472752297429e-09, 'fear': 86.44151253205388, 'happy': 0.5076669482687773, 'sad': 2.6484115617380666, 'surprise': 0.1580479832085391, 'neutral': 10.135186745502144}, 'dominant_emotion': 'fear', 'region': {'x': 169, 'y': 296, 'w': 141, 'h': 141}}]\n"
     ]
    },
    {
     "name": "stderr",
     "output_type": "stream",
     "text": [
      "Action: emotion: 100%|██████████| 1/1 [00:00<00:00, 12.42it/s]\n",
      "Action: emotion: 100%|██████████| 1/1 [00:00<00:00, 12.05it/s]\n"
     ]
    },
    {
     "name": "stdout",
     "output_type": "stream",
     "text": [
      "[{'emotion': {'angry': 5.107039213180542, 'disgust': 0.004877557876170613, 'fear': 2.691386267542839, 'happy': 0.01822438935050741, 'sad': 33.76885950565338, 'surprise': 0.005102421346236952, 'neutral': 58.40451121330261}, 'dominant_emotion': 'neutral', 'region': {'x': 184, 'y': 156, 'w': 40, 'h': 40}}, {'emotion': {'angry': 0.09927275823429227, 'disgust': 1.5932047348066192e-08, 'fear': 25.967136025428772, 'happy': 0.5613033194094896, 'sad': 5.578265339136124, 'surprise': 0.15160668408498168, 'neutral': 67.64241456985474}, 'dominant_emotion': 'neutral', 'region': {'x': 163, 'y': 291, 'w': 148, 'h': 148}}]\n"
     ]
    },
    {
     "name": "stderr",
     "output_type": "stream",
     "text": [
      "Action: emotion: 100%|██████████| 1/1 [00:00<00:00,  8.74it/s]\n"
     ]
    },
    {
     "name": "stdout",
     "output_type": "stream",
     "text": [
      "[{'emotion': {'angry': 0.04852723503088862, 'disgust': 5.886778915491538e-09, 'fear': 27.407668674449244, 'happy': 3.1339457263914183, 'sad': 6.136606254375354, 'surprise': 0.34763617184824774, 'neutral': 62.92561667714218}, 'dominant_emotion': 'neutral', 'region': {'x': 169, 'y': 291, 'w': 142, 'h': 142}}]\n"
     ]
    },
    {
     "name": "stderr",
     "output_type": "stream",
     "text": [
      "Action: emotion: 100%|██████████| 1/1 [00:00<00:00, 11.26it/s]\n",
      "Action: emotion: 100%|██████████| 1/1 [00:00<00:00, 12.58it/s]\n"
     ]
    },
    {
     "name": "stdout",
     "output_type": "stream",
     "text": [
      "[{'emotion': {'angry': 0.39399461820721626, 'disgust': 1.5762720906309369e-06, 'fear': 0.12582921190187335, 'happy': 0.006883084279252216, 'sad': 1.1664844118058681, 'surprise': 0.0009051712368091103, 'neutral': 98.30590486526489}, 'dominant_emotion': 'neutral', 'region': {'x': 183, 'y': 156, 'w': 41, 'h': 41}}, {'emotion': {'angry': 0.008556170359952375, 'disgust': 4.572996170106036e-11, 'fear': 27.72195339202881, 'happy': 2.492145262658596, 'sad': 6.863044202327728, 'surprise': 0.056266505271196365, 'neutral': 62.858039140701294}, 'dominant_emotion': 'neutral', 'region': {'x': 166, 'y': 295, 'w': 144, 'h': 144}}]\n"
     ]
    },
    {
     "name": "stderr",
     "output_type": "stream",
     "text": [
      "Action: emotion: 100%|██████████| 1/1 [00:00<00:00, 11.43it/s]\n",
      "Action: emotion: 100%|██████████| 1/1 [00:00<00:00, 12.42it/s]\n"
     ]
    },
    {
     "name": "stdout",
     "output_type": "stream",
     "text": [
      "[{'emotion': {'angry': 0.6781391737991079, 'disgust': 0.00011333193690672653, 'fear': 0.8245046741965218, 'happy': 0.03507297287664401, 'sad': 5.9531085016196075, 'surprise': 0.006075866984418116, 'neutral': 92.50298693793934}, 'dominant_emotion': 'neutral', 'region': {'x': 183, 'y': 156, 'w': 41, 'h': 41}}, {'emotion': {'angry': 0.012893456651025963, 'disgust': 2.60630982229461e-09, 'fear': 84.60447375721053, 'happy': 1.9067465848628777, 'sad': 6.46892038358207, 'surprise': 0.31341920595834183, 'neutral': 6.693547166163067}, 'dominant_emotion': 'fear', 'region': {'x': 160, 'y': 294, 'w': 149, 'h': 149}}]\n"
     ]
    },
    {
     "name": "stderr",
     "output_type": "stream",
     "text": [
      "Action: emotion: 100%|██████████| 1/1 [00:00<00:00, 10.92it/s]\n",
      "Action: emotion: 100%|██████████| 1/1 [00:00<00:00, 12.00it/s]\n"
     ]
    },
    {
     "name": "stdout",
     "output_type": "stream",
     "text": [
      "[{'emotion': {'angry': 0.19189780618723556, 'disgust': 2.7695955558037405e-07, 'fear': 0.08444904390771163, 'happy': 0.002945392056009562, 'sad': 1.2669537568743519, 'surprise': 0.00012549454236357574, 'neutral': 98.45362324075421}, 'dominant_emotion': 'neutral', 'region': {'x': 182, 'y': 156, 'w': 43, 'h': 43}}, {'emotion': {'angry': 0.0009210360076394863, 'disgust': 1.3581508388359111e-12, 'fear': 39.1959011554718, 'happy': 0.02857942890841514, 'sad': 35.143446922302246, 'surprise': 0.005241079998086207, 'neutral': 25.625911355018616}, 'dominant_emotion': 'fear', 'region': {'x': 147, 'y': 295, 'w': 157, 'h': 157}}]\n"
     ]
    },
    {
     "name": "stderr",
     "output_type": "stream",
     "text": [
      "Action: emotion: 100%|██████████| 1/1 [00:00<00:00,  9.36it/s]\n",
      "Action: emotion: 100%|██████████| 1/1 [00:00<00:00,  9.70it/s]\n"
     ]
    },
    {
     "name": "stdout",
     "output_type": "stream",
     "text": [
      "[{'emotion': {'angry': 3.600382003142595, 'disgust': 0.0005192643874934021, 'fear': 0.7001758649735612, 'happy': 0.12552337388788176, 'sad': 13.05834793348933, 'surprise': 0.007469864632102965, 'neutral': 82.50757664351742}, 'dominant_emotion': 'neutral', 'region': {'x': 183, 'y': 155, 'w': 42, 'h': 42}}, {'emotion': {'angry': 6.36783795471274e-05, 'disgust': 2.313273448731096e-13, 'fear': 55.87209463119507, 'happy': 0.012440874706953764, 'sad': 42.655354738235474, 'surprise': 0.00043540599108382594, 'neutral': 1.459614746272564}, 'dominant_emotion': 'fear', 'region': {'x': 128, 'y': 293, 'w': 160, 'h': 160}}]\n"
     ]
    },
    {
     "name": "stderr",
     "output_type": "stream",
     "text": [
      "Action: emotion: 100%|██████████| 1/1 [00:00<00:00,  9.13it/s]\n",
      "Action: emotion: 100%|██████████| 1/1 [00:00<00:00,  8.73it/s]\n"
     ]
    },
    {
     "name": "stdout",
     "output_type": "stream",
     "text": [
      "[{'emotion': {'angry': 9.056975282070074, 'disgust': 0.010846588540229326, 'fear': 3.3365272237690955, 'happy': 0.007791484150625739, 'sad': 61.653651196199796, 'surprise': 0.0009304811300899225, 'neutral': 25.93328069845208}, 'dominant_emotion': 'sad', 'region': {'x': 183, 'y': 156, 'w': 40, 'h': 40}}, {'emotion': {'angry': 0.0001851835349953035, 'disgust': 2.5258884593708187e-13, 'fear': 27.805444598197937, 'happy': 0.024290608416777104, 'sad': 46.0806280374527, 'surprise': 0.0006759664756827988, 'neutral': 26.088780164718628}, 'dominant_emotion': 'sad', 'region': {'x': 117, 'y': 290, 'w': 163, 'h': 163}}]\n"
     ]
    },
    {
     "name": "stderr",
     "output_type": "stream",
     "text": [
      "Action: emotion: 100%|██████████| 1/1 [00:00<00:00,  9.34it/s]\n",
      "Action: emotion: 100%|██████████| 1/1 [00:00<00:00,  9.85it/s]\n"
     ]
    },
    {
     "name": "stdout",
     "output_type": "stream",
     "text": [
      "[{'emotion': {'angry': 1.058176252990961, 'disgust': 2.186865941666838e-05, 'fear': 1.2284785509109497, 'happy': 0.037338887341320515, 'sad': 2.2002218291163445, 'surprise': 0.010099697101395577, 'neutral': 95.46566605567932}, 'dominant_emotion': 'neutral', 'region': {'x': 182, 'y': 156, 'w': 41, 'h': 41}}, {'emotion': {'angry': 0.00018983214431500528, 'disgust': 2.1211866627329073e-12, 'fear': 38.055139780044556, 'happy': 0.02347488043596968, 'sad': 44.64100003242493, 'surprise': 0.00040863405956770293, 'neutral': 17.279787361621857}, 'dominant_emotion': 'sad', 'region': {'x': 110, 'y': 293, 'w': 154, 'h': 154}}]\n"
     ]
    },
    {
     "name": "stderr",
     "output_type": "stream",
     "text": [
      "Action: emotion: 100%|██████████| 1/1 [00:00<00:00,  9.47it/s]\n",
      "Action: emotion: 100%|██████████| 1/1 [00:00<00:00,  9.13it/s]\n"
     ]
    },
    {
     "name": "stdout",
     "output_type": "stream",
     "text": [
      "[{'emotion': {'angry': 0.9583252482116222, 'disgust': 9.984224647041628e-06, 'fear': 0.8609103970229626, 'happy': 0.007342565368162468, 'sad': 10.703850537538528, 'surprise': 0.0012621689165825956, 'neutral': 87.46830224990845}, 'dominant_emotion': 'neutral', 'region': {'x': 181, 'y': 156, 'w': 41, 'h': 41}}, {'emotion': {'angry': 5.785393568658037e-05, 'disgust': 9.369233658695973e-14, 'fear': 35.163384675979614, 'happy': 0.0020665414922405034, 'sad': 61.44985556602478, 'surprise': 2.1119217308296356e-05, 'neutral': 3.3846188336610794}, 'dominant_emotion': 'sad', 'region': {'x': 109, 'y': 288, 'w': 162, 'h': 162}}]\n"
     ]
    },
    {
     "name": "stderr",
     "output_type": "stream",
     "text": [
      "Action: emotion: 100%|██████████| 1/1 [00:00<00:00, 11.97it/s]\n",
      "Action: emotion: 100%|██████████| 1/1 [00:00<00:00, 12.73it/s]\n",
      "Action: emotion: 100%|██████████| 1/1 [00:00<00:00, 13.08it/s]\n"
     ]
    },
    {
     "name": "stdout",
     "output_type": "stream",
     "text": [
      "[{'emotion': {'angry': 0.0018788208762998693, 'disgust': 8.994374689486051e-09, 'fear': 0.010518559429328889, 'happy': 99.94233846664429, 'sad': 0.04251512000337243, 'surprise': 2.222221127112789e-05, 'neutral': 0.002724379373830743}, 'dominant_emotion': 'happy', 'region': {'x': 312, 'y': 382, 'w': 58, 'h': 58}}, {'emotion': {'angry': 10.029032826423645, 'disgust': 0.009635323658585548, 'fear': 4.089134931564331, 'happy': 0.08014269988052547, 'sad': 37.19274401664734, 'surprise': 0.027948644128628075, 'neutral': 48.57136011123657}, 'dominant_emotion': 'neutral', 'region': {'x': 181, 'y': 155, 'w': 42, 'h': 42}}, {'emotion': {'angry': 0.0002221000121507197, 'disgust': 2.375132447599347e-12, 'fear': 63.044755095868695, 'happy': 0.031365677467727365, 'sad': 36.67447427815505, 'surprise': 0.0005233817604669693, 'neutral': 0.248652853232282}, 'dominant_emotion': 'fear', 'region': {'x': 117, 'y': 290, 'w': 155, 'h': 155}}]\n"
     ]
    },
    {
     "name": "stderr",
     "output_type": "stream",
     "text": [
      "Action: emotion: 100%|██████████| 1/1 [00:00<00:00, 11.69it/s]\n",
      "Action: emotion: 100%|██████████| 1/1 [00:00<00:00, 13.30it/s]\n"
     ]
    },
    {
     "name": "stdout",
     "output_type": "stream",
     "text": [
      "[{'emotion': {'angry': 0.8671155199408531, 'disgust': 2.8273137786527514e-05, 'fear': 0.832096766680479, 'happy': 0.006946305074961856, 'sad': 5.93775138258934, 'surprise': 0.0018863018340198323, 'neutral': 92.35417246818542}, 'dominant_emotion': 'neutral', 'region': {'x': 182, 'y': 156, 'w': 40, 'h': 40}}, {'emotion': {'angry': 7.054528623484657e-05, 'disgust': 4.189758264584514e-13, 'fear': 60.264164209365845, 'happy': 0.01341176830464974, 'sad': 39.126744866371155, 'surprise': 0.0006958368885534583, 'neutral': 0.5949110258370638}, 'dominant_emotion': 'fear', 'region': {'x': 117, 'y': 294, 'w': 157, 'h': 157}}]\n"
     ]
    },
    {
     "name": "stderr",
     "output_type": "stream",
     "text": [
      "Action: emotion: 100%|██████████| 1/1 [00:00<00:00, 12.41it/s]\n",
      "Action: emotion: 100%|██████████| 1/1 [00:00<00:00, 12.99it/s]\n"
     ]
    },
    {
     "name": "stdout",
     "output_type": "stream",
     "text": [
      "[{'emotion': {'angry': 6.000947579741478, 'disgust': 0.0001801373286980379, 'fear': 0.9144828654825687, 'happy': 0.008469212480122223, 'sad': 14.803627133369446, 'surprise': 0.0011667028957162984, 'neutral': 78.27112674713135}, 'dominant_emotion': 'neutral', 'region': {'x': 181, 'y': 155, 'w': 41, 'h': 41}}, {'emotion': {'angry': 0.0007684835509280674, 'disgust': 1.6744357365493928e-11, 'fear': 96.54902815818787, 'happy': 0.06194457528181374, 'sad': 3.3734478056430817, 'surprise': 0.0018917637135018595, 'neutral': 0.01292012893827632}, 'dominant_emotion': 'fear', 'region': {'x': 121, 'y': 294, 'w': 155, 'h': 155}}]\n"
     ]
    },
    {
     "name": "stderr",
     "output_type": "stream",
     "text": [
      "Action: emotion: 100%|██████████| 1/1 [00:00<00:00,  9.39it/s]\n",
      "Action: emotion: 100%|██████████| 1/1 [00:00<00:00,  8.97it/s]\n"
     ]
    },
    {
     "name": "stdout",
     "output_type": "stream",
     "text": [
      "[{'emotion': {'angry': 2.424103207886219, 'disgust': 0.0014791338799113873, 'fear': 2.9953408986330032, 'happy': 0.11568034533411264, 'sad': 10.981830209493637, 'surprise': 0.023457508359570056, 'neutral': 83.45810770988464}, 'dominant_emotion': 'neutral', 'region': {'x': 181, 'y': 156, 'w': 41, 'h': 41}}, {'emotion': {'angry': 0.0015192571481748018, 'disgust': 3.809116650571598e-11, 'fear': 95.28459310531616, 'happy': 1.737295277416706, 'sad': 2.95830350369215, 'surprise': 0.007900251512182876, 'neutral': 0.010388595546828583}, 'dominant_emotion': 'fear', 'region': {'x': 122, 'y': 289, 'w': 156, 'h': 156}}]\n"
     ]
    },
    {
     "name": "stderr",
     "output_type": "stream",
     "text": [
      "Action: emotion: 100%|██████████| 1/1 [00:00<00:00,  9.95it/s]\n",
      "Action: emotion: 100%|██████████| 1/1 [00:00<00:00, 10.15it/s]\n",
      "Action: emotion: 100%|██████████| 1/1 [00:00<00:00,  9.30it/s]\n"
     ]
    },
    {
     "name": "stdout",
     "output_type": "stream",
     "text": [
      "[{'emotion': {'angry': 0.26941259134784884, 'disgust': 2.562624931789912e-06, 'fear': 0.09196642752350435, 'happy': 0.004800463206814272, 'sad': 1.672080817644645, 'surprise': 0.0006102778479500276, 'neutral': 97.96112763649985}, 'dominant_emotion': 'neutral', 'region': {'x': 181, 'y': 156, 'w': 40, 'h': 40}}, {'emotion': {'angry': 0.009285910899563038, 'disgust': 4.184141283041648e-06, 'fear': 1.458743394687378, 'happy': 92.87418084586744, 'sad': 2.342876186542284, 'surprise': 0.0014075816509350907, 'neutral': 3.3135065921250937}, 'dominant_emotion': 'happy', 'region': {'x': 359, 'y': 377, 'w': 65, 'h': 65}}, {'emotion': {'angry': 0.00027703078390503783, 'disgust': 8.635362498561957e-12, 'fear': 72.89444046583417, 'happy': 2.8902759635612942, 'sad': 24.209442687597434, 'surprise': 0.0006437657177137499, 'neutral': 0.004922561422613385}, 'dominant_emotion': 'fear', 'region': {'x': 125, 'y': 289, 'w': 151, 'h': 151}}]\n"
     ]
    },
    {
     "name": "stderr",
     "output_type": "stream",
     "text": [
      "Action: emotion: 100%|██████████| 1/1 [00:00<00:00,  8.97it/s]\n",
      "Action: emotion: 100%|██████████| 1/1 [00:00<00:00, 10.35it/s]\n"
     ]
    },
    {
     "name": "stdout",
     "output_type": "stream",
     "text": [
      "[{'emotion': {'angry': 1.678425818681717, 'disgust': 0.00027319313176121796, 'fear': 1.5572142787277699, 'happy': 0.033067469485104084, 'sad': 19.516651332378387, 'surprise': 0.00560275002499111, 'neutral': 77.20876336097717}, 'dominant_emotion': 'neutral', 'region': {'x': 180, 'y': 156, 'w': 41, 'h': 41}}, {'emotion': {'angry': 0.0018552427718532272, 'disgust': 4.6140999007682204e-11, 'fear': 69.6515142917633, 'happy': 3.4649159759283066, 'sad': 26.82531774044037, 'surprise': 0.006101647159084678, 'neutral': 0.05029910826124251}, 'dominant_emotion': 'fear', 'region': {'x': 132, 'y': 286, 'w': 148, 'h': 148}}]\n"
     ]
    },
    {
     "name": "stderr",
     "output_type": "stream",
     "text": [
      "Action: emotion: 100%|██████████| 1/1 [00:00<00:00,  8.36it/s]\n"
     ]
    },
    {
     "name": "stdout",
     "output_type": "stream",
     "text": [
      "[{'emotion': {'angry': 0.004941375664202496, 'disgust': 7.460519832122592e-11, 'fear': 69.33470368385315, 'happy': 25.758177042007446, 'sad': 4.733513668179512, 'surprise': 0.1571129192598164, 'neutral': 0.01155631834990345}, 'dominant_emotion': 'fear', 'region': {'x': 131, 'y': 284, 'w': 151, 'h': 151}}]\n"
     ]
    },
    {
     "name": "stderr",
     "output_type": "stream",
     "text": [
      "Action: emotion: 100%|██████████| 1/1 [00:00<00:00, 10.81it/s]\n",
      "Action: emotion: 100%|██████████| 1/1 [00:00<00:00, 10.35it/s]\n"
     ]
    },
    {
     "name": "stdout",
     "output_type": "stream",
     "text": [
      "[{'emotion': {'angry': 5.889218300580978, 'disgust': 0.004293687379686162, 'fear': 1.6413426026701927, 'happy': 0.008363545930478722, 'sad': 43.4855192899704, 'surprise': 0.0029143229767214507, 'neutral': 48.968347907066345}, 'dominant_emotion': 'neutral', 'region': {'x': 181, 'y': 156, 'w': 39, 'h': 39}}, {'emotion': {'angry': 0.0020370323300104233, 'disgust': 1.422614569095619e-11, 'fear': 56.013458250348776, 'happy': 0.4122727524760065, 'sad': 43.564010433672614, 'surprise': 0.003116137660582903, 'neutral': 0.0050995874804237885}, 'dominant_emotion': 'fear', 'region': {'x': 131, 'y': 284, 'w': 153, 'h': 153}}]\n"
     ]
    },
    {
     "name": "stderr",
     "output_type": "stream",
     "text": [
      "Action: emotion: 100%|██████████| 1/1 [00:00<00:00, 10.46it/s]\n",
      "Action: emotion: 100%|██████████| 1/1 [00:00<00:00, 10.25it/s]\n",
      "Action: emotion: 100%|██████████| 1/1 [00:00<00:00, 10.69it/s]\n"
     ]
    },
    {
     "name": "stdout",
     "output_type": "stream",
     "text": [
      "[{'emotion': {'angry': 6.825406104326248, 'disgust': 0.00218799523281632, 'fear': 1.998814009130001, 'happy': 0.031357770785689354, 'sad': 17.25372076034546, 'surprise': 0.02126233302988112, 'neutral': 73.86724948883057}, 'dominant_emotion': 'neutral', 'region': {'x': 180, 'y': 156, 'w': 40, 'h': 40}}, {'emotion': {'angry': 0.0006286185747688194, 'disgust': 3.4823178633051925e-12, 'fear': 91.96767711254085, 'happy': 0.08741136285351073, 'sad': 7.931693843805056, 'surprise': 0.0005150540050719052, 'neutral': 0.012083457826341132}, 'dominant_emotion': 'fear', 'region': {'x': 135, 'y': 284, 'w': 151, 'h': 151}}, {'emotion': {'angry': 0.1440543681383133, 'disgust': 0.002611444506328553, 'fear': 36.387282609939575, 'happy': 9.550987929105759, 'sad': 41.614046692848206, 'surprise': 5.598272755742073, 'neutral': 6.702742725610733}, 'dominant_emotion': 'sad', 'region': {'x': 121, 'y': 101, 'w': 100, 'h': 100}}]\n"
     ]
    },
    {
     "name": "stderr",
     "output_type": "stream",
     "text": [
      "Action: emotion: 100%|██████████| 1/1 [00:00<00:00,  9.60it/s]\n"
     ]
    },
    {
     "name": "stdout",
     "output_type": "stream",
     "text": [
      "[{'emotion': {'angry': 0.0035787834977584775, 'disgust': 9.72008180187371e-11, 'fear': 96.74732050267703, 'happy': 2.620280473861751, 'sad': 0.4748709134603636, 'surprise': 0.15188680909714808, 'neutral': 0.0020690872326662446}, 'dominant_emotion': 'fear', 'region': {'x': 139, 'y': 284, 'w': 145, 'h': 145}}]\n"
     ]
    },
    {
     "name": "stderr",
     "output_type": "stream",
     "text": [
      "Action: emotion: 100%|██████████| 1/1 [00:00<00:00, 10.29it/s]\n",
      "Action: emotion: 100%|██████████| 1/1 [00:00<00:00, 10.50it/s]\n"
     ]
    },
    {
     "name": "stdout",
     "output_type": "stream",
     "text": [
      "[{'emotion': {'angry': 6.8680276399391e-05, 'disgust': 3.17662296467347e-07, 'fear': 4.454844817519188, 'happy': 53.70226502418518, 'sad': 7.434934377670288, 'surprise': 2.2570982594061206e-05, 'neutral': 34.40786004066467}, 'dominant_emotion': 'happy', 'region': {'x': 38, 'y': 378, 'w': 62, 'h': 62}}, {'emotion': {'angry': 0.0024409838079512795, 'disgust': 3.06252897745477e-11, 'fear': 86.87057651632112, 'happy': 6.117713094626296, 'sad': 6.777785655524056, 'surprise': 0.18140127815365456, 'neutral': 0.050074246097818485}, 'dominant_emotion': 'fear', 'region': {'x': 141, 'y': 282, 'w': 144, 'h': 144}}]\n"
     ]
    },
    {
     "name": "stderr",
     "output_type": "stream",
     "text": [
      "Action: emotion: 100%|██████████| 1/1 [00:00<00:00,  9.05it/s]\n"
     ]
    },
    {
     "name": "stdout",
     "output_type": "stream",
     "text": [
      "[{'emotion': {'angry': 0.0016228921595029533, 'disgust': 3.542588856812745e-11, 'fear': 93.25937628746033, 'happy': 6.014838442206383, 'sad': 0.6773630622774363, 'surprise': 0.0431439169915393, 'neutral': 0.003658357309177518}, 'dominant_emotion': 'fear', 'region': {'x': 139, 'y': 284, 'w': 147, 'h': 147}}]\n"
     ]
    },
    {
     "name": "stderr",
     "output_type": "stream",
     "text": [
      "Action: emotion: 100%|██████████| 1/1 [00:00<00:00,  8.58it/s]\n",
      "Action: emotion: 100%|██████████| 1/1 [00:00<00:00,  9.66it/s]\n"
     ]
    },
    {
     "name": "stdout",
     "output_type": "stream",
     "text": [
      "[{'emotion': {'angry': 0.07468027761206031, 'disgust': 8.782006943874876e-06, 'fear': 1.1468537151813507, 'happy': 37.78943121433258, 'sad': 3.9112966507673264, 'surprise': 0.0006615232905460289, 'neutral': 57.07706809043884}, 'dominant_emotion': 'neutral', 'region': {'x': 39, 'y': 378, 'w': 60, 'h': 60}}, {'emotion': {'angry': 0.001262371219616834, 'disgust': 5.540172152259986e-12, 'fear': 89.4846809524678, 'happy': 3.25911527763423, 'sad': 7.200115805850529, 'surprise': 0.03943916929586449, 'neutral': 0.01538390459572916}, 'dominant_emotion': 'fear', 'region': {'x': 140, 'y': 285, 'w': 147, 'h': 147}}]\n"
     ]
    },
    {
     "name": "stderr",
     "output_type": "stream",
     "text": [
      "Action: emotion: 100%|██████████| 1/1 [00:00<00:00, 10.15it/s]\n"
     ]
    },
    {
     "name": "stdout",
     "output_type": "stream",
     "text": [
      "[{'emotion': {'angry': 0.0012463660247124721, 'disgust': 1.062281646328352e-11, 'fear': 98.67060796372796, 'happy': 0.47123100579011373, 'sad': 0.8488550701612151, 'surprise': 0.0040219997325297765, 'neutral': 0.004039397636504939}, 'dominant_emotion': 'fear', 'region': {'x': 140, 'y': 283, 'w': 149, 'h': 149}}]\n"
     ]
    },
    {
     "name": "stderr",
     "output_type": "stream",
     "text": [
      "Action: emotion: 100%|██████████| 1/1 [00:00<00:00, 10.25it/s]\n"
     ]
    },
    {
     "name": "stdout",
     "output_type": "stream",
     "text": [
      "[{'emotion': {'angry': 0.0009082103674886409, 'disgust': 1.5899930161668712e-11, 'fear': 98.6636280216949, 'happy': 0.676135572858785, 'sad': 0.6425293545442435, 'surprise': 0.013549826042436871, 'neutral': 0.003245529490140162}, 'dominant_emotion': 'fear', 'region': {'x': 142, 'y': 279, 'w': 152, 'h': 152}}]\n"
     ]
    },
    {
     "name": "stderr",
     "output_type": "stream",
     "text": [
      "Action: emotion: 100%|██████████| 1/1 [00:00<00:00, 11.04it/s]\n"
     ]
    },
    {
     "name": "stdout",
     "output_type": "stream",
     "text": [
      "[{'emotion': {'angry': 0.0030739120094005605, 'disgust': 6.914367884407637e-11, 'fear': 88.9772309092008, 'happy': 8.35046296114171, 'sad': 2.5932383426143715, 'surprise': 0.0299892614468695, 'neutral': 0.04600745775834229}, 'dominant_emotion': 'fear', 'region': {'x': 139, 'y': 282, 'w': 150, 'h': 150}}]\n"
     ]
    },
    {
     "name": "stderr",
     "output_type": "stream",
     "text": [
      "Action: emotion: 100%|██████████| 1/1 [00:00<00:00, 11.11it/s]\n"
     ]
    },
    {
     "name": "stdout",
     "output_type": "stream",
     "text": [
      "[{'emotion': {'angry': 0.003626814213930629, 'disgust': 2.3196839414596493e-10, 'fear': 97.26597666740417, 'happy': 0.7038915064185858, 'sad': 1.9704271107912064, 'surprise': 0.040068430826067924, 'neutral': 0.01601282274350524}, 'dominant_emotion': 'fear', 'region': {'x': 141, 'y': 280, 'w': 147, 'h': 147}}]\n"
     ]
    },
    {
     "name": "stderr",
     "output_type": "stream",
     "text": [
      "Action: emotion: 100%|██████████| 1/1 [00:00<00:00, 10.05it/s]\n"
     ]
    },
    {
     "name": "stdout",
     "output_type": "stream",
     "text": [
      "[{'emotion': {'angry': 0.0005088383204565616, 'disgust': 1.9971107016389378e-11, 'fear': 92.41756200790405, 'happy': 0.027039097039960325, 'sad': 7.517848908901215, 'surprise': 0.00018675322053240961, 'neutral': 0.03686193376779556}, 'dominant_emotion': 'fear', 'region': {'x': 138, 'y': 275, 'w': 155, 'h': 155}}]\n"
     ]
    },
    {
     "name": "stderr",
     "output_type": "stream",
     "text": [
      "Action: emotion: 100%|██████████| 1/1 [00:00<00:00,  9.85it/s]\n",
      "Action: emotion: 100%|██████████| 1/1 [00:00<00:00,  9.66it/s]\n"
     ]
    },
    {
     "name": "stdout",
     "output_type": "stream",
     "text": [
      "[{'emotion': {'angry': 1.1747010983526707, 'disgust': 9.18861417176231e-05, 'fear': 0.4628687631338835, 'happy': 0.11347202816978097, 'sad': 2.93535552918911, 'surprise': 0.007371629908448085, 'neutral': 95.30614018440247}, 'dominant_emotion': 'neutral', 'region': {'x': 193, 'y': 158, 'w': 38, 'h': 38}}, {'emotion': {'angry': 0.0005392001961236238, 'disgust': 2.0072794856952244e-12, 'fear': 97.95557248327567, 'happy': 1.3226467041758718, 'sad': 0.6462403958285091, 'surprise': 0.06342604552327367, 'neutral': 0.011582618716673551}, 'dominant_emotion': 'fear', 'region': {'x': 139, 'y': 274, 'w': 149, 'h': 149}}]\n"
     ]
    },
    {
     "name": "stderr",
     "output_type": "stream",
     "text": [
      "Action: emotion: 100%|██████████| 1/1 [00:00<00:00, 12.87it/s]\n",
      "Action: emotion: 100%|██████████| 1/1 [00:00<00:00, 12.57it/s]\n"
     ]
    },
    {
     "name": "stdout",
     "output_type": "stream",
     "text": [
      "[{'emotion': {'angry': 1.45860705524683, 'disgust': 4.506488338051895e-06, 'fear': 0.41464483365416527, 'happy': 0.004299577994970605, 'sad': 14.12418782711029, 'surprise': 0.00039160745473054703, 'neutral': 83.99786353111267}, 'dominant_emotion': 'neutral', 'region': {'x': 189, 'y': 157, 'w': 40, 'h': 40}}, {'emotion': {'angry': 0.0004593300946932296, 'disgust': 3.893772404725724e-12, 'fear': 92.15304208714021, 'happy': 0.10216863037905874, 'sad': 7.6573138032742625, 'surprise': 0.0009493816489509079, 'neutral': 0.08607024141447195}, 'dominant_emotion': 'fear', 'region': {'x': 149, 'y': 272, 'w': 137, 'h': 137}}]\n"
     ]
    },
    {
     "name": "stderr",
     "output_type": "stream",
     "text": [
      "Action: emotion: 100%|██████████| 1/1 [00:00<00:00, 11.97it/s]\n",
      "Action: emotion: 100%|██████████| 1/1 [00:00<00:00, 11.69it/s]\n"
     ]
    },
    {
     "name": "stdout",
     "output_type": "stream",
     "text": [
      "[{'emotion': {'angry': 7.63663649559021, 'disgust': 0.005865019920747727, 'fear': 2.401328645646572, 'happy': 0.32216066028922796, 'sad': 32.817450165748596, 'surprise': 0.0071984497481025755, 'neutral': 56.80936574935913}, 'dominant_emotion': 'neutral', 'region': {'x': 183, 'y': 155, 'w': 45, 'h': 45}}, {'emotion': {'angry': 0.000185065174952672, 'disgust': 1.073301833434838e-12, 'fear': 86.65307601130915, 'happy': 0.1668149222175684, 'sad': 13.008947731131045, 'surprise': 0.0034480639914769595, 'neutral': 0.1675325994791209}, 'dominant_emotion': 'fear', 'region': {'x': 146, 'y': 265, 'w': 141, 'h': 141}}]\n"
     ]
    },
    {
     "name": "stderr",
     "output_type": "stream",
     "text": [
      "Action: emotion: 100%|██████████| 1/1 [00:00<00:00, 10.75it/s]\n",
      "Action: emotion: 100%|██████████| 1/1 [00:00<00:00, 12.86it/s]\n"
     ]
    },
    {
     "name": "stdout",
     "output_type": "stream",
     "text": [
      "[{'emotion': {'angry': 0.5695629864931107, 'disgust': 2.90523027857148e-07, 'fear': 0.159631937276572, 'happy': 0.003856028342852369, 'sad': 1.0713595896959305, 'surprise': 0.00021806274617119925, 'neutral': 98.19537401199341}, 'dominant_emotion': 'neutral', 'region': {'x': 182, 'y': 156, 'w': 44, 'h': 44}}, {'emotion': {'angry': 0.0012499184612485407, 'disgust': 4.467382405407163e-11, 'fear': 93.51264199689876, 'happy': 0.6211232764198349, 'sad': 5.784105854279152, 'surprise': 0.0013666315585974787, 'neutral': 0.07951446351495167}, 'dominant_emotion': 'fear', 'region': {'x': 150, 'y': 265, 'w': 139, 'h': 139}}]\n"
     ]
    },
    {
     "name": "stderr",
     "output_type": "stream",
     "text": [
      "Action: emotion: 100%|██████████| 1/1 [00:00<00:00, 12.30it/s]\n",
      "Action: emotion: 100%|██████████| 1/1 [00:00<00:00, 13.33it/s]\n"
     ]
    },
    {
     "name": "stdout",
     "output_type": "stream",
     "text": [
      "[{'emotion': {'angry': 5.9944998472929, 'disgust': 0.00015623171520928736, 'fear': 0.9439000859856606, 'happy': 0.03469495859462768, 'sad': 14.035584032535553, 'surprise': 0.0007897187970229425, 'neutral': 78.99037599563599}, 'dominant_emotion': 'neutral', 'region': {'x': 182, 'y': 155, 'w': 44, 'h': 44}}, {'emotion': {'angry': 0.0009604539627616759, 'disgust': 3.4776386414678284e-11, 'fear': 93.2646095752716, 'happy': 0.08456138893961906, 'sad': 6.618022918701172, 'surprise': 0.0020718540326924995, 'neutral': 0.0297704798867926}, 'dominant_emotion': 'fear', 'region': {'x': 149, 'y': 265, 'w': 139, 'h': 139}}]\n"
     ]
    },
    {
     "name": "stderr",
     "output_type": "stream",
     "text": [
      "Action: emotion: 100%|██████████| 1/1 [00:00<00:00, 12.04it/s]\n",
      "Action: emotion: 100%|██████████| 1/1 [00:00<00:00, 12.11it/s]\n"
     ]
    },
    {
     "name": "stdout",
     "output_type": "stream",
     "text": [
      "[{'emotion': {'angry': 0.5786097022062363, 'disgust': 1.2672287308766177e-07, 'fear': 0.13277628086291438, 'happy': 0.0012160142247855295, 'sad': 2.0168296332257767, 'surprise': 3.895778723120888e-05, 'neutral': 97.27053029957594}, 'dominant_emotion': 'neutral', 'region': {'x': 182, 'y': 156, 'w': 43, 'h': 43}}, {'emotion': {'angry': 0.0011076264854636975, 'disgust': 2.903447068273307e-11, 'fear': 84.95575189590454, 'happy': 0.21013068035244942, 'sad': 14.791077375411987, 'surprise': 0.0030235994927352294, 'neutral': 0.03890980442520231}, 'dominant_emotion': 'fear', 'region': {'x': 144, 'y': 263, 'w': 144, 'h': 144}}]\n"
     ]
    },
    {
     "name": "stderr",
     "output_type": "stream",
     "text": [
      "Action: emotion: 100%|██████████| 1/1 [00:00<00:00, 12.66it/s]\n",
      "Action: emotion: 100%|██████████| 1/1 [00:00<00:00, 13.79it/s]\n",
      "Action: emotion: 100%|██████████| 1/1 [00:00<00:00, 11.71it/s]\n"
     ]
    },
    {
     "name": "stdout",
     "output_type": "stream",
     "text": [
      "[{'emotion': {'angry': 4.444769397377968, 'disgust': 2.0622161400751793e-05, 'fear': 0.5499699618667364, 'happy': 0.016033292922656983, 'sad': 33.102405071258545, 'surprise': 0.0002124278807968949, 'neutral': 61.88659071922302}, 'dominant_emotion': 'neutral', 'region': {'x': 185, 'y': 156, 'w': 39, 'h': 39}}, {'emotion': {'angry': 0.0009563398865333343, 'disgust': 1.6480864320934186e-11, 'fear': 83.86295841490727, 'happy': 0.026708332280317815, 'sad': 16.03204352045578, 'surprise': 0.000491510822415245, 'neutral': 0.07684546041881567}, 'dominant_emotion': 'fear', 'region': {'x': 149, 'y': 266, 'w': 137, 'h': 137}}, {'emotion': {'angry': 1.6839873190507078, 'disgust': 4.1925499185375913e-07, 'fear': 32.00836265186818, 'happy': 0.0183906791885448, 'sad': 26.321089425216844, 'surprise': 0.0011651457068346444, 'neutral': 39.96701120937004}, 'dominant_emotion': 'neutral', 'region': {'x': 567, 'y': 83, 'w': 51, 'h': 51}}]\n"
     ]
    },
    {
     "name": "stderr",
     "output_type": "stream",
     "text": [
      "Action: emotion: 100%|██████████| 1/1 [00:00<00:00, 11.90it/s]\n"
     ]
    },
    {
     "name": "stdout",
     "output_type": "stream",
     "text": [
      "[{'emotion': {'angry': 0.002162676173611544, 'disgust': 1.2746524755830047e-10, 'fear': 79.08042073249817, 'happy': 0.046078412560746074, 'sad': 20.812304317951202, 'surprise': 0.000534621403858182, 'neutral': 0.05849471199326217}, 'dominant_emotion': 'fear', 'region': {'x': 149, 'y': 265, 'w': 139, 'h': 139}}]\n"
     ]
    },
    {
     "name": "stderr",
     "output_type": "stream",
     "text": [
      "Action: emotion: 100%|██████████| 1/1 [00:00<00:00, 12.02it/s]\n"
     ]
    },
    {
     "name": "stdout",
     "output_type": "stream",
     "text": [
      "[{'emotion': {'angry': 0.00304012737545944, 'disgust': 1.3239402768369683e-10, 'fear': 93.34205349338373, 'happy': 0.029058040221887245, 'sad': 6.5758470640091335, 'surprise': 0.0009556466126280214, 'neutral': 0.049048088853319814}, 'dominant_emotion': 'fear', 'region': {'x': 147, 'y': 264, 'w': 139, 'h': 139}}]\n"
     ]
    },
    {
     "name": "stderr",
     "output_type": "stream",
     "text": [
      "Action: emotion: 100%|██████████| 1/1 [00:00<00:00, 12.62it/s]\n",
      "Action: emotion: 100%|██████████| 1/1 [00:00<00:00, 13.26it/s]\n"
     ]
    },
    {
     "name": "stdout",
     "output_type": "stream",
     "text": [
      "[{'emotion': {'angry': 0.0016233763744821772, 'disgust': 1.5043392963612345e-10, 'fear': 95.34283876419067, 'happy': 0.06445810431614518, 'sad': 4.587525874376297, 'surprise': 0.0018645521777216345, 'neutral': 0.0016927097021834925}, 'dominant_emotion': 'fear', 'region': {'x': 145, 'y': 265, 'w': 139, 'h': 139}}, {'emotion': {'angry': 0.022764374443795532, 'disgust': 2.0749860496493966e-06, 'fear': 73.9163875579834, 'happy': 8.591943234205246, 'sad': 17.43280440568924, 'surprise': 0.031615328043699265, 'neutral': 0.004486236139200628}, 'dominant_emotion': 'fear', 'region': {'x': 126, 'y': 103, 'w': 89, 'h': 89}}]\n"
     ]
    },
    {
     "name": "stderr",
     "output_type": "stream",
     "text": [
      "Action: emotion: 100%|██████████| 1/1 [00:00<00:00, 12.32it/s]\n"
     ]
    },
    {
     "name": "stdout",
     "output_type": "stream",
     "text": [
      "[{'emotion': {'angry': 0.00047657867980888113, 'disgust': 1.709704020068717e-11, 'fear': 69.44626569747925, 'happy': 0.02180486626457423, 'sad': 30.463680624961853, 'surprise': 6.146702844489482e-05, 'neutral': 0.0677103700581938}, 'dominant_emotion': 'fear', 'region': {'x': 148, 'y': 262, 'w': 137, 'h': 137}}]\n"
     ]
    },
    {
     "name": "stderr",
     "output_type": "stream",
     "text": [
      "Action: emotion: 100%|██████████| 1/1 [00:00<00:00, 12.58it/s]\n"
     ]
    },
    {
     "name": "stdout",
     "output_type": "stream",
     "text": [
      "[{'emotion': {'angry': 0.0001366103528679524, 'disgust': 2.4343996017515157e-12, 'fear': 89.80590044295194, 'happy': 0.006362738728956579, 'sad': 10.184856366208574, 'surprise': 0.00011202935851720761, 'neutral': 0.0026368484876079516}, 'dominant_emotion': 'fear', 'region': {'x': 148, 'y': 264, 'w': 138, 'h': 138}}]\n"
     ]
    },
    {
     "name": "stderr",
     "output_type": "stream",
     "text": [
      "Action: emotion: 100%|██████████| 1/1 [00:00<00:00, 11.82it/s]\n"
     ]
    },
    {
     "name": "stdout",
     "output_type": "stream",
     "text": [
      "[{'emotion': {'angry': 0.0018451113266178874, 'disgust': 1.703626619858328e-10, 'fear': 86.9213656280797, 'happy': 0.1271466456588631, 'sad': 12.936802156352739, 'surprise': 0.000888346388421871, 'neutral': 0.011952312373420239}, 'dominant_emotion': 'fear', 'region': {'x': 147, 'y': 264, 'w': 139, 'h': 139}}]\n"
     ]
    },
    {
     "name": "stderr",
     "output_type": "stream",
     "text": [
      "Action: emotion: 100%|██████████| 1/1 [00:00<00:00, 10.81it/s]\n"
     ]
    },
    {
     "name": "stdout",
     "output_type": "stream",
     "text": [
      "[{'emotion': {'angry': 0.0028107840989832766, 'disgust': 7.616391241652143e-11, 'fear': 96.406489610672, 'happy': 0.07354214903898537, 'sad': 3.4895624965429306, 'surprise': 0.002446046164550353, 'neutral': 0.025156771880574524}, 'dominant_emotion': 'fear', 'region': {'x': 147, 'y': 264, 'w': 137, 'h': 137}}]\n"
     ]
    },
    {
     "name": "stderr",
     "output_type": "stream",
     "text": [
      "Action: emotion: 100%|██████████| 1/1 [00:00<00:00, 11.83it/s]\n"
     ]
    },
    {
     "name": "stdout",
     "output_type": "stream",
     "text": [
      "[{'emotion': {'angry': 0.0004158838237344753, 'disgust': 1.2660226057607804e-11, 'fear': 81.41992688179016, 'happy': 0.0392165471566841, 'sad': 18.53145807981491, 'surprise': 0.0005942909410805441, 'neutral': 0.008386709669139236}, 'dominant_emotion': 'fear', 'region': {'x': 148, 'y': 267, 'w': 134, 'h': 134}}]\n"
     ]
    },
    {
     "name": "stderr",
     "output_type": "stream",
     "text": [
      "Action: emotion: 100%|██████████| 1/1 [00:00<00:00, 11.69it/s]\n"
     ]
    },
    {
     "name": "stdout",
     "output_type": "stream",
     "text": [
      "[{'emotion': {'angry': 0.0007896947895523003, 'disgust': 1.3865472924028198e-11, 'fear': 90.45858269436152, 'happy': 0.02457237862540825, 'sad': 9.51011443258696, 'surprise': 0.0014011854397323787, 'neutral': 0.004539823016824523}, 'dominant_emotion': 'fear', 'region': {'x': 147, 'y': 263, 'w': 139, 'h': 139}}]\n"
     ]
    },
    {
     "name": "stderr",
     "output_type": "stream",
     "text": [
      "Action: emotion: 100%|██████████| 1/1 [00:00<00:00,  9.13it/s]\n"
     ]
    },
    {
     "name": "stdout",
     "output_type": "stream",
     "text": [
      "[{'emotion': {'angry': 0.0005108065425225185, 'disgust': 2.538665860505833e-11, 'fear': 81.38978107097374, 'happy': 0.07929206113388405, 'sad': 18.481414797137404, 'surprise': 0.00011473627861167778, 'neutral': 0.04888546535993035}, 'dominant_emotion': 'fear', 'region': {'x': 149, 'y': 261, 'w': 137, 'h': 137}}]\n"
     ]
    },
    {
     "name": "stderr",
     "output_type": "stream",
     "text": [
      "Action: emotion: 100%|██████████| 1/1 [00:00<00:00,  8.97it/s]\n"
     ]
    },
    {
     "name": "stdout",
     "output_type": "stream",
     "text": [
      "[{'emotion': {'angry': 0.000175628541919643, 'disgust': 1.1361874982112559e-11, 'fear': 96.22201897037142, 'happy': 0.017253573906355287, 'sad': 3.7588151549586746, 'surprise': 0.0006924925813866083, 'neutral': 0.0010437107161129693}, 'dominant_emotion': 'fear', 'region': {'x': 148, 'y': 264, 'w': 136, 'h': 136}}]\n"
     ]
    },
    {
     "name": "stderr",
     "output_type": "stream",
     "text": [
      "Action: emotion: 100%|██████████| 1/1 [00:00<00:00, 10.81it/s]\n"
     ]
    },
    {
     "name": "stdout",
     "output_type": "stream",
     "text": [
      "[{'emotion': {'angry': 0.000680402591404592, 'disgust': 4.9680349393358526e-11, 'fear': 66.7052547090942, 'happy': 0.020214694587065925, 'sad': 33.11289452160662, 'surprise': 0.0020800510604781696, 'neutral': 0.15887106271880116}, 'dominant_emotion': 'fear', 'region': {'x': 143, 'y': 254, 'w': 140, 'h': 140}}]\n"
     ]
    },
    {
     "name": "stderr",
     "output_type": "stream",
     "text": [
      "Action: emotion: 100%|██████████| 1/1 [00:00<00:00, 11.43it/s]\n"
     ]
    },
    {
     "name": "stdout",
     "output_type": "stream",
     "text": [
      "[{'emotion': {'angry': 4.8984776412908104e-05, 'disgust': 1.5332170906820876e-13, 'fear': 40.19628465175629, 'happy': 0.0028887216103612445, 'sad': 58.156174421310425, 'surprise': 2.9436071713462297e-05, 'neutral': 1.6445750370621681}, 'dominant_emotion': 'sad', 'region': {'x': 134, 'y': 265, 'w': 137, 'h': 137}}]\n"
     ]
    },
    {
     "name": "stderr",
     "output_type": "stream",
     "text": [
      "Action: emotion: 100%|██████████| 1/1 [00:00<00:00, 11.97it/s]\n"
     ]
    },
    {
     "name": "stdout",
     "output_type": "stream",
     "text": [
      "[{'emotion': {'angry': 0.032291756360791624, 'disgust': 8.517302974020424e-08, 'fear': 2.980612590909004, 'happy': 0.5858065560460091, 'sad': 1.50418384000659, 'surprise': 0.28565048705786467, 'neutral': 94.61145401000977}, 'dominant_emotion': 'neutral', 'region': {'x': 130, 'y': 144, 'w': 65, 'h': 65}}]\n"
     ]
    },
    {
     "name": "stderr",
     "output_type": "stream",
     "text": [
      "Action: emotion: 100%|██████████| 1/1 [00:00<00:00, 11.97it/s]\n"
     ]
    },
    {
     "name": "stdout",
     "output_type": "stream",
     "text": [
      "[{'emotion': {'angry': 6.113878466243674e-08, 'disgust': 2.044985383124277e-11, 'fear': 0.001926726556612178, 'happy': 99.98401403236556, 'sad': 0.00024431329349921, 'surprise': 7.204516953661775e-07, 'neutral': 0.013818334456297392}, 'dominant_emotion': 'happy', 'region': {'x': 0, 'y': 0, 'w': 640, 'h': 480}}]\n"
     ]
    },
    {
     "name": "stderr",
     "output_type": "stream",
     "text": [
      "Action: emotion: 100%|██████████| 1/1 [00:00<00:00, 10.92it/s]\n"
     ]
    },
    {
     "name": "stdout",
     "output_type": "stream",
     "text": [
      "[{'emotion': {'angry': 2.978020177124563e-05, 'disgust': 3.9169340344715874e-13, 'fear': 68.35883855819702, 'happy': 0.09578188182786107, 'sad': 28.87377142906189, 'surprise': 0.001351036007690709, 'neutral': 2.670220099389553}, 'dominant_emotion': 'fear', 'region': {'x': 120, 'y': 259, 'w': 139, 'h': 139}}]\n"
     ]
    },
    {
     "name": "stderr",
     "output_type": "stream",
     "text": [
      "Action: emotion: 100%|██████████| 1/1 [00:00<00:00, 12.12it/s]\n"
     ]
    },
    {
     "name": "stdout",
     "output_type": "stream",
     "text": [
      "[{'emotion': {'angry': 5.9019021136919037e-05, 'disgust': 1.138396102780487e-12, 'fear': 87.30012774467468, 'happy': 0.22391744423657656, 'sad': 11.659645289182663, 'surprise': 0.0072629212809260935, 'neutral': 0.8089837618172169}, 'dominant_emotion': 'fear', 'region': {'x': 125, 'y': 255, 'w': 144, 'h': 144}}]\n"
     ]
    },
    {
     "name": "stderr",
     "output_type": "stream",
     "text": [
      "Action: emotion: 100%|██████████| 1/1 [00:00<00:00, 10.89it/s]\n"
     ]
    },
    {
     "name": "stdout",
     "output_type": "stream",
     "text": [
      "[{'emotion': {'angry': 0.00020767793103004806, 'disgust': 9.760424348088936e-12, 'fear': 68.42793226242065, 'happy': 0.0408715772209689, 'sad': 30.785837769508362, 'surprise': 0.0012924497241328936, 'neutral': 0.7438616827130318}, 'dominant_emotion': 'fear', 'region': {'x': 127, 'y': 257, 'w': 142, 'h': 142}}]\n"
     ]
    },
    {
     "name": "stderr",
     "output_type": "stream",
     "text": [
      "Action: emotion: 100%|██████████| 1/1 [00:00<00:00, 11.97it/s]\n",
      "Action: emotion: 100%|██████████| 1/1 [00:00<00:00, 12.42it/s]\n"
     ]
    },
    {
     "name": "stdout",
     "output_type": "stream",
     "text": [
      "[{'emotion': {'angry': 0.00031480528832616983, 'disgust': 6.893653535381197e-12, 'fear': 0.000394054904973018, 'happy': 99.70799088478088, 'sad': 8.36706931295339e-05, 'surprise': 0.0003769803925024462, 'neutral': 0.2908380934968591}, 'dominant_emotion': 'happy', 'region': {'x': 14, 'y': 380, 'w': 56, 'h': 56}}, {'emotion': {'angry': 8.830537665347736e-05, 'disgust': 3.0668583910309763e-13, 'fear': 61.33774979856613, 'happy': 0.017407662488351763, 'sad': 36.64606074737778, 'surprise': 0.00046453209425894725, 'neutral': 1.9982175382116392}, 'dominant_emotion': 'fear', 'region': {'x': 123, 'y': 255, 'w': 143, 'h': 143}}]\n"
     ]
    },
    {
     "name": "stderr",
     "output_type": "stream",
     "text": [
      "Action: emotion: 100%|██████████| 1/1 [00:00<00:00, 12.12it/s]\n",
      "Action: emotion: 100%|██████████| 1/1 [00:00<00:00, 12.41it/s]\n"
     ]
    },
    {
     "name": "stdout",
     "output_type": "stream",
     "text": [
      "[{'emotion': {'angry': 0.00042691540329542477, 'disgust': 2.581131836043582e-09, 'fear': 0.047240639105439186, 'happy': 99.53369498252869, 'sad': 0.007368109800154343, 'surprise': 0.00025863871542242123, 'neutral': 0.4110146779567003}, 'dominant_emotion': 'happy', 'region': {'x': 13, 'y': 379, 'w': 59, 'h': 59}}, {'emotion': {'angry': 0.00011504072290335898, 'disgust': 1.0094938665376751e-12, 'fear': 34.81189012527466, 'happy': 0.05009308806620538, 'sad': 64.68315124511719, 'surprise': 2.279918049907792e-05, 'neutral': 0.4547275137156248}, 'dominant_emotion': 'sad', 'region': {'x': 123, 'y': 254, 'w': 141, 'h': 141}}]\n"
     ]
    },
    {
     "name": "stderr",
     "output_type": "stream",
     "text": [
      "Action: emotion: 100%|██████████| 1/1 [00:00<00:00, 11.86it/s]\n"
     ]
    },
    {
     "name": "stdout",
     "output_type": "stream",
     "text": [
      "[{'emotion': {'angry': 0.00012192277836220455, 'disgust': 3.623278638383541e-12, 'fear': 59.01629328727722, 'happy': 0.11243376648053527, 'sad': 40.42971134185791, 'surprise': 0.0002203451686000335, 'neutral': 0.44122086837887764}, 'dominant_emotion': 'fear', 'region': {'x': 124, 'y': 255, 'w': 140, 'h': 140}}]\n"
     ]
    },
    {
     "name": "stderr",
     "output_type": "stream",
     "text": [
      "Action: emotion: 100%|██████████| 1/1 [00:00<00:00, 12.57it/s]\n",
      "Action: emotion: 100%|██████████| 1/1 [00:00<00:00, 13.23it/s]\n"
     ]
    },
    {
     "name": "stdout",
     "output_type": "stream",
     "text": [
      "[{'emotion': {'angry': 1.7233779653906822, 'disgust': 2.8866614343314723e-05, 'fear': 0.8937256410717964, 'happy': 0.0036853456549579278, 'sad': 27.532300353050232, 'surprise': 0.0004833826551475795, 'neutral': 69.8464035987854}, 'dominant_emotion': 'neutral', 'region': {'x': 181, 'y': 155, 'w': 40, 'h': 40}}, {'emotion': {'angry': 0.00019200604113701428, 'disgust': 7.923379025169784e-12, 'fear': 59.37976725342664, 'happy': 0.03367395146259499, 'sad': 40.56243710965668, 'surprise': 0.00012136908625681019, 'neutral': 0.023800801209637377}, 'dominant_emotion': 'fear', 'region': {'x': 119, 'y': 252, 'w': 145, 'h': 145}}]\n"
     ]
    },
    {
     "name": "stderr",
     "output_type": "stream",
     "text": [
      "Action: emotion: 100%|██████████| 1/1 [00:00<00:00, 11.83it/s]\n",
      "Action: emotion: 100%|██████████| 1/1 [00:00<00:00, 12.26it/s]\n"
     ]
    },
    {
     "name": "stdout",
     "output_type": "stream",
     "text": [
      "[{'emotion': {'angry': 1.6291895881295204, 'disgust': 0.00017838758594734827, 'fear': 0.581596652045846, 'happy': 0.009669949213275686, 'sad': 75.53291320800781, 'surprise': 0.00029778157113469206, 'neutral': 22.24615514278412}, 'dominant_emotion': 'sad', 'region': {'x': 181, 'y': 156, 'w': 39, 'h': 39}}, {'emotion': {'angry': 8.250863743342052e-05, 'disgust': 8.671998699921833e-13, 'fear': 64.7744357585907, 'happy': 0.007697253749938682, 'sad': 35.170796513557434, 'surprise': 5.539546350519231e-05, 'neutral': 0.0469384016469121}, 'dominant_emotion': 'fear', 'region': {'x': 121, 'y': 255, 'w': 141, 'h': 141}}]\n"
     ]
    },
    {
     "name": "stderr",
     "output_type": "stream",
     "text": [
      "Action: emotion: 100%|██████████| 1/1 [00:00<00:00, 11.04it/s]\n",
      "Action: emotion: 100%|██████████| 1/1 [00:00<00:00, 12.41it/s]\n"
     ]
    },
    {
     "name": "stdout",
     "output_type": "stream",
     "text": [
      "[{'emotion': {'angry': 0.9516363235278515, 'disgust': 1.0701488971713446e-05, 'fear': 0.2143722050261146, 'happy': 0.0013341036491179997, 'sad': 72.36445216708805, 'surprise': 1.4518548451155933e-05, 'neutral': 26.468184765360924}, 'dominant_emotion': 'sad', 'region': {'x': 180, 'y': 157, 'w': 38, 'h': 38}}, {'emotion': {'angry': 0.00014403817078403235, 'disgust': 6.087935080236936e-13, 'fear': 70.30004616975233, 'happy': 0.008131385160780233, 'sad': 29.658537547762688, 'surprise': 2.3356516068010684e-05, 'neutral': 0.03311468068167649}, 'dominant_emotion': 'fear', 'region': {'x': 122, 'y': 252, 'w': 142, 'h': 142}}]\n"
     ]
    },
    {
     "name": "stderr",
     "output_type": "stream",
     "text": [
      "Action: emotion: 100%|██████████| 1/1 [00:00<00:00, 11.47it/s]\n",
      "Action: emotion: 100%|██████████| 1/1 [00:00<00:00, 12.26it/s]\n"
     ]
    },
    {
     "name": "stdout",
     "output_type": "stream",
     "text": [
      "[{'emotion': {'angry': 0.579468229945687, 'disgust': 8.76776302830716e-06, 'fear': 0.911499016612651, 'happy': 0.0003801482988154001, 'sad': 90.02240181236289, 'surprise': 2.824475390545684e-06, 'neutral': 8.48624285891567}, 'dominant_emotion': 'sad', 'region': {'x': 180, 'y': 158, 'w': 37, 'h': 37}}, {'emotion': {'angry': 0.00012442230854503578, 'disgust': 3.997278074133973e-13, 'fear': 74.27124977111816, 'happy': 0.011373523739166558, 'sad': 25.660887360572815, 'surprise': 3.806997597166628e-05, 'neutral': 0.05633188993670046}, 'dominant_emotion': 'fear', 'region': {'x': 124, 'y': 255, 'w': 139, 'h': 139}}]\n"
     ]
    },
    {
     "name": "stderr",
     "output_type": "stream",
     "text": [
      "Action: emotion: 100%|██████████| 1/1 [00:00<00:00, 11.97it/s]\n",
      "Action: emotion: 100%|██████████| 1/1 [00:00<00:00, 12.41it/s]\n"
     ]
    },
    {
     "name": "stdout",
     "output_type": "stream",
     "text": [
      "[{'emotion': {'angry': 2.187700830423931, 'disgust': 2.3033460553544265e-06, 'fear': 0.5137327739575832, 'happy': 0.0016357353291815353, 'sad': 59.57058782226894, 'surprise': 1.794938456456451e-05, 'neutral': 37.72632631377295}, 'dominant_emotion': 'sad', 'region': {'x': 182, 'y': 157, 'w': 38, 'h': 38}}, {'emotion': {'angry': 8.837246241455432e-05, 'disgust': 1.24436763248182e-12, 'fear': 51.58758759498596, 'happy': 0.016181092360056937, 'sad': 48.25320839881897, 'surprise': 3.9687895991846744e-05, 'neutral': 0.14288759557530284}, 'dominant_emotion': 'fear', 'region': {'x': 124, 'y': 253, 'w': 140, 'h': 140}}]\n"
     ]
    },
    {
     "name": "stderr",
     "output_type": "stream",
     "text": [
      "Action: emotion: 100%|██████████| 1/1 [00:00<00:00, 11.56it/s]\n",
      "Action: emotion: 100%|██████████| 1/1 [00:00<00:00, 12.58it/s]\n"
     ]
    },
    {
     "name": "stdout",
     "output_type": "stream",
     "text": [
      "[{'emotion': {'angry': 0.0002846616098395316, 'disgust': 3.989666097492517e-08, 'fear': 0.009422149014426395, 'happy': 99.83342289924622, 'sad': 0.0065454994910396636, 'surprise': 0.0003053631871807738, 'neutral': 0.15001886058598757}, 'dominant_emotion': 'happy', 'region': {'x': 15, 'y': 380, 'w': 58, 'h': 58}}, {'emotion': {'angry': 8.92073273917049e-05, 'disgust': 1.6909297550213916e-13, 'fear': 67.75471568107605, 'happy': 0.01570376189192757, 'sad': 32.022783160209656, 'surprise': 2.7308593075758836e-05, 'neutral': 0.20668336655944586}, 'dominant_emotion': 'fear', 'region': {'x': 122, 'y': 252, 'w': 140, 'h': 140}}]\n"
     ]
    },
    {
     "name": "stderr",
     "output_type": "stream",
     "text": [
      "Action: emotion: 100%|██████████| 1/1 [00:00<00:00, 12.04it/s]\n"
     ]
    },
    {
     "name": "stdout",
     "output_type": "stream",
     "text": [
      "[{'emotion': {'angry': 0.011804063955051911, 'disgust': 1.2943899328677126e-09, 'fear': 42.862787417339526, 'happy': 0.013461343116616793, 'sad': 56.89475875465624, 'surprise': 0.0017782883483431807, 'neutral': 0.2154135506474108}, 'dominant_emotion': 'sad', 'region': {'x': 121, 'y': 252, 'w': 144, 'h': 144}}]\n"
     ]
    },
    {
     "name": "stderr",
     "output_type": "stream",
     "text": [
      "Action: emotion: 100%|██████████| 1/1 [00:00<00:00, 12.41it/s]\n"
     ]
    },
    {
     "name": "stdout",
     "output_type": "stream",
     "text": [
      "[{'emotion': {'angry': 0.002285368054593965, 'disgust': 3.8898795359358e-10, 'fear': 33.8808973956643, 'happy': 0.9240073702637774, 'sad': 65.17416031206609, 'surprise': 0.0018894382481687217, 'neutral': 0.016763610891412102}, 'dominant_emotion': 'sad', 'region': {'x': 121, 'y': 253, 'w': 145, 'h': 145}}]\n"
     ]
    },
    {
     "name": "stderr",
     "output_type": "stream",
     "text": [
      "Action: emotion: 100%|██████████| 1/1 [00:00<00:00, 12.26it/s]\n"
     ]
    },
    {
     "name": "stdout",
     "output_type": "stream",
     "text": [
      "[{'emotion': {'angry': 0.0009573191734842742, 'disgust': 1.659838679534229e-11, 'fear': 45.28700383228087, 'happy': 0.010829196898796224, 'sad': 54.51305833536734, 'surprise': 0.0002502881592616948, 'neutral': 0.18790168643529334}, 'dominant_emotion': 'sad', 'region': {'x': 126, 'y': 250, 'w': 140, 'h': 140}}]\n"
     ]
    },
    {
     "name": "stderr",
     "output_type": "stream",
     "text": [
      "Action: emotion: 100%|██████████| 1/1 [00:00<00:00, 11.22it/s]\n"
     ]
    },
    {
     "name": "stdout",
     "output_type": "stream",
     "text": [
      "[{'emotion': {'angry': 0.0005348943296256355, 'disgust': 4.523373048386505e-12, 'fear': 93.69142613955891, 'happy': 0.6515650467017321, 'sad': 5.623796172368298, 'surprise': 0.01908910894692221, 'neutral': 0.013591984398557806}, 'dominant_emotion': 'fear', 'region': {'x': 127, 'y': 249, 'w': 142, 'h': 142}}]\n"
     ]
    },
    {
     "name": "stderr",
     "output_type": "stream",
     "text": [
      "Action: emotion: 100%|██████████| 1/1 [00:00<00:00,  9.66it/s]\n"
     ]
    },
    {
     "name": "stdout",
     "output_type": "stream",
     "text": [
      "[{'emotion': {'angry': 5.979210656599707e-05, 'disgust': 1.1510739676212813e-12, 'fear': 14.09210348678252, 'happy': 7.710158539423856, 'sad': 6.378955774245011, 'surprise': 0.000677243673984632, 'neutral': 71.81804608214176}, 'dominant_emotion': 'neutral', 'region': {'x': 40, 'y': 65, 'w': 160, 'h': 160}}]\n"
     ]
    },
    {
     "name": "stderr",
     "output_type": "stream",
     "text": [
      "Action: emotion: 100%|██████████| 1/1 [00:00<00:00, 10.19it/s]\n"
     ]
    },
    {
     "name": "stdout",
     "output_type": "stream",
     "text": [
      "[{'emotion': {'angry': 0.0002159141914945871, 'disgust': 2.4022655415096007e-11, 'fear': 70.60006085634595, 'happy': 0.160567995883852, 'sad': 29.107918090100174, 'surprise': 3.635638211803949e-05, 'neutral': 0.1312002967082141}, 'dominant_emotion': 'fear', 'region': {'x': 153, 'y': 256, 'w': 137, 'h': 137}}]\n"
     ]
    },
    {
     "name": "stderr",
     "output_type": "stream",
     "text": [
      "Action: emotion: 100%|██████████| 1/1 [00:00<00:00, 10.47it/s]\n",
      "Action: emotion: 100%|██████████| 1/1 [00:00<00:00, 10.25it/s]\n"
     ]
    },
    {
     "name": "stdout",
     "output_type": "stream",
     "text": [
      "[{'emotion': {'angry': 0.0021260313587845303, 'disgust': 7.76326431525115e-11, 'fear': 80.4051160812378, 'happy': 4.419096931815147, 'sad': 13.094490766525269, 'surprise': 0.006811909406678751, 'neutral': 2.072364091873169}, 'dominant_emotion': 'fear', 'region': {'x': 154, 'y': 256, 'w': 135, 'h': 135}}, {'emotion': {'angry': 0.00016923048889895778, 'disgust': 8.663363182710741e-12, 'fear': 58.64881770028857, 'happy': 2.259662478010359, 'sad': 16.64319883070006, 'surprise': 0.001666407280554872, 'neutral': 22.446483678044835}, 'dominant_emotion': 'fear', 'region': {'x': 61, 'y': 71, 'w': 148, 'h': 148}}]\n"
     ]
    },
    {
     "name": "stderr",
     "output_type": "stream",
     "text": [
      "Action: emotion: 100%|██████████| 1/1 [00:00<00:00,  7.72it/s]\n",
      "Action: emotion: 100%|██████████| 1/1 [00:00<00:00,  9.85it/s]\n"
     ]
    },
    {
     "name": "stdout",
     "output_type": "stream",
     "text": [
      "[{'emotion': {'angry': 0.00017721622498356737, 'disgust': 2.508235233958855e-13, 'fear': 77.68786549568176, 'happy': 0.2928103553131223, 'sad': 14.948929846286774, 'surprise': 0.0015053930837893859, 'neutral': 7.068712264299393}, 'dominant_emotion': 'fear', 'region': {'x': 154, 'y': 251, 'w': 137, 'h': 137}}, {'emotion': {'angry': 5.0747229352055e-05, 'disgust': 5.0915316477913655e-12, 'fear': 13.42720091342926, 'happy': 58.77537727355957, 'sad': 2.403741143643856, 'surprise': 0.0005616158887278289, 'neutral': 25.39306879043579}, 'dominant_emotion': 'happy', 'region': {'x': 66, 'y': 71, 'w': 146, 'h': 146}}]\n"
     ]
    },
    {
     "name": "stderr",
     "output_type": "stream",
     "text": [
      "Action: emotion: 100%|██████████| 1/1 [00:00<00:00, 10.31it/s]\n",
      "Action: emotion: 100%|██████████| 1/1 [00:00<00:00, 11.11it/s]\n"
     ]
    },
    {
     "name": "stdout",
     "output_type": "stream",
     "text": [
      "[{'emotion': {'angry': 0.002732407828326431, 'disgust': 2.1088236581607945e-10, 'fear': 46.62580470000533, 'happy': 3.681641291477757, 'sad': 49.480682580511726, 'surprise': 0.005659397330322702, 'neutral': 0.2034801412585462}, 'dominant_emotion': 'sad', 'region': {'x': 154, 'y': 247, 'w': 139, 'h': 139}}, {'emotion': {'angry': 3.948019582367124e-05, 'disgust': 2.9527209399315274e-12, 'fear': 33.12224745750427, 'happy': 11.324109137058258, 'sad': 13.331674039363861, 'surprise': 0.000921899209060939, 'neutral': 42.221009731292725}, 'dominant_emotion': 'neutral', 'region': {'x': 61, 'y': 67, 'w': 153, 'h': 153}}]\n"
     ]
    },
    {
     "name": "stderr",
     "output_type": "stream",
     "text": [
      "Action: emotion: 100%|██████████| 1/1 [00:00<00:00,  9.66it/s]\n",
      "Action: emotion: 100%|██████████| 1/1 [00:00<00:00, 10.14it/s]\n"
     ]
    },
    {
     "name": "stdout",
     "output_type": "stream",
     "text": [
      "[{'emotion': {'angry': 0.0011431608982093167, 'disgust': 7.766577637090266e-11, 'fear': 48.89146685600281, 'happy': 1.1497694998979568, 'sad': 49.8135507106781, 'surprise': 0.0018964279661304317, 'neutral': 0.1421729219146073}, 'dominant_emotion': 'sad', 'region': {'x': 157, 'y': 247, 'w': 139, 'h': 139}}, {'emotion': {'angry': 2.7618850140243012e-05, 'disgust': 6.159234380794009e-13, 'fear': 6.310825794935226, 'happy': 8.851944655179977, 'sad': 3.1082920730113983, 'surprise': 0.0008951492418418638, 'neutral': 81.7280113697052}, 'dominant_emotion': 'neutral', 'region': {'x': 68, 'y': 69, 'w': 143, 'h': 143}}]\n"
     ]
    },
    {
     "name": "stderr",
     "output_type": "stream",
     "text": [
      "Action: emotion: 100%|██████████| 1/1 [00:00<00:00,  9.75it/s]\n",
      "Action: emotion: 100%|██████████| 1/1 [00:00<00:00, 10.80it/s]\n"
     ]
    },
    {
     "name": "stdout",
     "output_type": "stream",
     "text": [
      "[{'emotion': {'angry': 0.0008719238914112831, 'disgust': 2.0096927165871094e-11, 'fear': 83.46694609325803, 'happy': 0.33868082955067336, 'sad': 15.967423675502758, 'surprise': 0.0006861256633473489, 'neutral': 0.22539686358105324}, 'dominant_emotion': 'fear', 'region': {'x': 159, 'y': 249, 'w': 137, 'h': 137}}, {'emotion': {'angry': 1.4367014663900277e-05, 'disgust': 8.418239330886323e-13, 'fear': 36.76967182520964, 'happy': 24.776005771636274, 'sad': 8.192346758562714, 'surprise': 0.0028645860079750335, 'neutral': 30.259090035070177}, 'dominant_emotion': 'fear', 'region': {'x': 67, 'y': 67, 'w': 147, 'h': 147}}]\n"
     ]
    },
    {
     "name": "stderr",
     "output_type": "stream",
     "text": [
      "Action: emotion: 100%|██████████| 1/1 [00:00<00:00, 10.04it/s]\n",
      "Action: emotion: 100%|██████████| 1/1 [00:00<00:00, 10.81it/s]\n"
     ]
    },
    {
     "name": "stdout",
     "output_type": "stream",
     "text": [
      "[{'emotion': {'angry': 0.0001578987166794832, 'disgust': 1.95877893711862e-12, 'fear': 57.794010639190674, 'happy': 0.4791046492755413, 'sad': 41.676366329193115, 'surprise': 0.0004884641839453252, 'neutral': 0.04987878492102027}, 'dominant_emotion': 'fear', 'region': {'x': 159, 'y': 250, 'w': 136, 'h': 136}}, {'emotion': {'angry': 2.574417976575205e-05, 'disgust': 7.283464259872318e-14, 'fear': 59.931790828704834, 'happy': 1.2842174619436264, 'sad': 8.912575989961624, 'surprise': 0.026772942510433495, 'neutral': 29.844623804092407}, 'dominant_emotion': 'fear', 'region': {'x': 54, 'y': 74, 'w': 156, 'h': 156}}]\n"
     ]
    },
    {
     "name": "stderr",
     "output_type": "stream",
     "text": [
      "Action: emotion: 100%|██████████| 1/1 [00:00<00:00, 10.49it/s]\n"
     ]
    },
    {
     "name": "stdout",
     "output_type": "stream",
     "text": [
      "[{'emotion': {'angry': 2.6779170525514928e-05, 'disgust': 2.1807337565512425e-13, 'fear': 43.52540373802185, 'happy': 0.0019517892724252306, 'sad': 56.39520287513733, 'surprise': 2.046636993213724e-06, 'neutral': 0.0774142041336745}, 'dominant_emotion': 'sad', 'region': {'x': 165, 'y': 249, 'w': 133, 'h': 133}}]\n"
     ]
    },
    {
     "name": "stderr",
     "output_type": "stream",
     "text": [
      "Action: emotion: 100%|██████████| 1/1 [00:00<00:00,  8.37it/s]\n"
     ]
    },
    {
     "name": "stdout",
     "output_type": "stream",
     "text": [
      "[{'emotion': {'angry': 0.0006346198006212944, 'disgust': 1.3721346921093808e-11, 'fear': 47.3639041185379, 'happy': 0.03930022066924721, 'sad': 52.301496267318726, 'surprise': 0.00023452732875739457, 'neutral': 0.29443211387842894}, 'dominant_emotion': 'sad', 'region': {'x': 164, 'y': 247, 'w': 133, 'h': 133}}]\n"
     ]
    },
    {
     "name": "stderr",
     "output_type": "stream",
     "text": [
      "Action: emotion: 100%|██████████| 1/1 [00:00<00:00,  9.84it/s]\n"
     ]
    },
    {
     "name": "stdout",
     "output_type": "stream",
     "text": [
      "[{'emotion': {'angry': 0.0004418874978736511, 'disgust': 1.4404085927758382e-08, 'fear': 0.00348812058546633, 'happy': 99.94801879548803, 'sad': 0.002356199994363264, 'surprise': 4.575972832497509e-06, 'neutral': 0.045691788919690085}, 'dominant_emotion': 'happy', 'region': {'x': 0, 'y': 0, 'w': 640, 'h': 480}}]\n"
     ]
    },
    {
     "name": "stderr",
     "output_type": "stream",
     "text": [
      "Action: emotion: 100%|██████████| 1/1 [00:00<00:00, 10.36it/s]\n"
     ]
    },
    {
     "name": "stdout",
     "output_type": "stream",
     "text": [
      "[{'emotion': {'angry': 0.04693044757004827, 'disgust': 8.466643208748792e-06, 'fear': 0.37811389192938805, 'happy': 99.10029172897339, 'sad': 0.07396089495159686, 'surprise': 0.0003486404011709965, 'neutral': 0.40034581907093525}, 'dominant_emotion': 'happy', 'region': {'x': 0, 'y': 0, 'w': 640, 'h': 480}}]\n"
     ]
    },
    {
     "name": "stderr",
     "output_type": "stream",
     "text": [
      "Action: emotion: 100%|██████████| 1/1 [00:00<00:00,  9.05it/s]\n",
      "Action: emotion: 100%|██████████| 1/1 [00:00<00:00, 10.15it/s]\n"
     ]
    },
    {
     "name": "stdout",
     "output_type": "stream",
     "text": [
      "[{'emotion': {'angry': 1.6746871307119287, 'disgust': 3.996106464708343e-05, 'fear': 0.5573417258819015, 'happy': 0.009774112987645401, 'sad': 8.879573211619045, 'surprise': 0.0001237104731580795, 'neutral': 88.87846337300103}, 'dominant_emotion': 'neutral', 'region': {'x': 184, 'y': 155, 'w': 41, 'h': 41}}, {'emotion': {'angry': 1.2187381274998188, 'disgust': 1.357598145013128e-07, 'fear': 1.1228635907173157, 'happy': 0.5440475884824991, 'sad': 1.2080607935786247, 'surprise': 0.4025767557322979, 'neutral': 95.50371766090393}, 'dominant_emotion': 'neutral', 'region': {'x': 134, 'y': 147, 'w': 59, 'h': 59}}]\n"
     ]
    },
    {
     "name": "stderr",
     "output_type": "stream",
     "text": [
      "Action: emotion: 100%|██████████| 1/1 [00:00<00:00, 10.15it/s]\n"
     ]
    },
    {
     "name": "stdout",
     "output_type": "stream",
     "text": [
      "[{'emotion': {'angry': 0.04977979411921168, 'disgust': 3.98393113097492e-09, 'fear': 0.13742239335089287, 'happy': 0.00233901241998821, 'sad': 5.1870639733710275, 'surprise': 6.535060171728858e-06, 'neutral': 94.62338653942267}, 'dominant_emotion': 'neutral', 'region': {'x': 183, 'y': 154, 'w': 41, 'h': 41}}]\n"
     ]
    },
    {
     "name": "stderr",
     "output_type": "stream",
     "text": [
      "Action: emotion: 100%|██████████| 1/1 [00:00<00:00, 10.25it/s]\n"
     ]
    },
    {
     "name": "stdout",
     "output_type": "stream",
     "text": [
      "[{'emotion': {'angry': 0.3458761816249002, 'disgust': 3.8681908872372405e-07, 'fear': 0.929432045187476, 'happy': 0.0038719010751709984, 'sad': 15.116741664215425, 'surprise': 4.078729277629101e-05, 'neutral': 83.60403678441267}, 'dominant_emotion': 'neutral', 'region': {'x': 183, 'y': 154, 'w': 42, 'h': 42}}]\n"
     ]
    },
    {
     "name": "stderr",
     "output_type": "stream",
     "text": [
      "Action: emotion: 100%|██████████| 1/1 [00:00<00:00, 10.29it/s]\n"
     ]
    },
    {
     "name": "stdout",
     "output_type": "stream",
     "text": [
      "[{'emotion': {'angry': 4.200088605284691, 'disgust': 6.168962727315375e-05, 'fear': 1.9057953730225563, 'happy': 0.08276256266981363, 'sad': 8.802736550569534, 'surprise': 0.012337589578237385, 'neutral': 84.99621748924255}, 'dominant_emotion': 'neutral', 'region': {'x': 180, 'y': 152, 'w': 46, 'h': 46}}]\n"
     ]
    },
    {
     "name": "stderr",
     "output_type": "stream",
     "text": [
      "Action: emotion: 100%|██████████| 1/1 [00:00<00:00, 10.04it/s]\n"
     ]
    },
    {
     "name": "stdout",
     "output_type": "stream",
     "text": [
      "[{'emotion': {'angry': 0.06000641733407974, 'disgust': 6.121931850344708e-07, 'fear': 0.22109816782176495, 'happy': 48.89466166496277, 'sad': 0.2749824896454811, 'surprise': 0.0031891286198515445, 'neutral': 50.54606795310974}, 'dominant_emotion': 'neutral', 'region': {'x': 0, 'y': 0, 'w': 640, 'h': 480}}]\n"
     ]
    },
    {
     "name": "stderr",
     "output_type": "stream",
     "text": [
      "Action: emotion: 100%|██████████| 1/1 [00:00<00:00,  9.75it/s]\n"
     ]
    },
    {
     "name": "stdout",
     "output_type": "stream",
     "text": [
      "[{'emotion': {'angry': 0.0005069997769169277, 'disgust': 4.640175911693398e-12, 'fear': 96.3265597820282, 'happy': 0.23190458305180073, 'sad': 3.4399613738059998, 'surprise': 0.0002520300540709286, 'neutral': 0.000820461536932271}, 'dominant_emotion': 'fear', 'region': {'x': 196, 'y': 247, 'w': 147, 'h': 147}}]\n"
     ]
    },
    {
     "name": "stderr",
     "output_type": "stream",
     "text": [
      "Action: emotion: 100%|██████████| 1/1 [00:00<00:00,  9.21it/s]\n"
     ]
    },
    {
     "name": "stdout",
     "output_type": "stream",
     "text": [
      "[{'emotion': {'angry': 0.02064359331980353, 'disgust': 2.730556575079835e-05, 'fear': 7.038982863547461, 'happy': 76.7162469963733, 'sad': 1.9092714000616788, 'surprise': 0.004684487599656533, 'neutral': 14.310137711746965}, 'dominant_emotion': 'happy', 'region': {'x': 0, 'y': 0, 'w': 640, 'h': 480}}]\n"
     ]
    },
    {
     "name": "stderr",
     "output_type": "stream",
     "text": [
      "Action: emotion: 100%|██████████| 1/1 [00:00<00:00, 11.70it/s]\n"
     ]
    },
    {
     "name": "stdout",
     "output_type": "stream",
     "text": [
      "[{'emotion': {'angry': 0.00455337249150034, 'disgust': 0.00010794275340231252, 'fear': 0.7305346429347992, 'happy': 17.765992879867554, 'sad': 2.864016965031624, 'surprise': 0.013494747690856457, 'neutral': 78.62130403518677}, 'dominant_emotion': 'neutral', 'region': {'x': 0, 'y': 0, 'w': 640, 'h': 480}}]\n"
     ]
    },
    {
     "name": "stderr",
     "output_type": "stream",
     "text": [
      "Action: emotion: 100%|██████████| 1/1 [00:00<00:00, 12.02it/s]\n"
     ]
    },
    {
     "name": "stdout",
     "output_type": "stream",
     "text": [
      "[{'emotion': {'angry': 0.0014637848835263867, 'disgust': 2.671893355454813e-05, 'fear': 1.7417464405298233, 'happy': 14.918982982635498, 'sad': 2.393929846584797, 'surprise': 0.03449905198067427, 'neutral': 80.90935349464417}, 'dominant_emotion': 'neutral', 'region': {'x': 0, 'y': 0, 'w': 640, 'h': 480}}]\n"
     ]
    },
    {
     "name": "stderr",
     "output_type": "stream",
     "text": [
      "Action: emotion: 100%|██████████| 1/1 [00:00<00:00, 11.69it/s]\n"
     ]
    },
    {
     "name": "stdout",
     "output_type": "stream",
     "text": [
      "[{'emotion': {'angry': 0.0013632737136504147, 'disgust': 2.9760877851003897e-05, 'fear': 1.965387538075447, 'happy': 7.4027106165885925, 'sad': 2.148735336959362, 'surprise': 0.03308818268124014, 'neutral': 88.44868540763855}, 'dominant_emotion': 'neutral', 'region': {'x': 0, 'y': 0, 'w': 640, 'h': 480}}]\n"
     ]
    },
    {
     "name": "stderr",
     "output_type": "stream",
     "text": [
      "Action: emotion: 100%|██████████| 1/1 [00:00<00:00, 11.43it/s]\n"
     ]
    },
    {
     "name": "stdout",
     "output_type": "stream",
     "text": [
      "[{'emotion': {'angry': 0.012653981684707105, 'disgust': 0.0006052053777239053, 'fear': 4.223771765828133, 'happy': 5.928964912891388, 'sad': 12.006597220897675, 'surprise': 0.008730933768674731, 'neutral': 77.81867980957031}, 'dominant_emotion': 'neutral', 'region': {'x': 0, 'y': 0, 'w': 640, 'h': 480}}]\n"
     ]
    },
    {
     "name": "stderr",
     "output_type": "stream",
     "text": [
      "Action: emotion: 100%|██████████| 1/1 [00:00<00:00, 12.11it/s]\n"
     ]
    },
    {
     "name": "stdout",
     "output_type": "stream",
     "text": [
      "[{'emotion': {'angry': 0.0005390789095525626, 'disgust': 5.505065012473645e-12, 'fear': 87.72529509958088, 'happy': 0.03253746739142032, 'sad': 11.829568525604186, 'surprise': 0.0029127270119925423, 'neutral': 0.4091388523860154}, 'dominant_emotion': 'fear', 'region': {'x': 224, 'y': 258, 'w': 139, 'h': 139}}]\n"
     ]
    },
    {
     "name": "stderr",
     "output_type": "stream",
     "text": [
      "Action: emotion: 100%|██████████| 1/1 [00:00<00:00, 11.40it/s]\n"
     ]
    },
    {
     "name": "stdout",
     "output_type": "stream",
     "text": [
      "[{'emotion': {'angry': 0.0004431925654399201, 'disgust': 1.3219829665383155e-11, 'fear': 89.5559245083287, 'happy': 0.2488754838034799, 'sad': 10.042197855841986, 'surprise': 0.0010268179424142915, 'neutral': 0.15153886955090579}, 'dominant_emotion': 'fear', 'region': {'x': 227, 'y': 263, 'w': 134, 'h': 134}}]\n"
     ]
    },
    {
     "name": "stderr",
     "output_type": "stream",
     "text": [
      "Action: emotion: 100%|██████████| 1/1 [00:00<00:00, 11.82it/s]\n"
     ]
    },
    {
     "name": "stdout",
     "output_type": "stream",
     "text": [
      "[{'emotion': {'angry': 6.583260301340488e-05, 'disgust': 2.020312492604856e-12, 'fear': 97.82732725143433, 'happy': 0.23263741750270128, 'sad': 1.929457113146782, 'surprise': 0.00017957847830984974, 'neutral': 0.010336555715184659}, 'dominant_emotion': 'fear', 'region': {'x': 228, 'y': 269, 'w': 130, 'h': 130}}]\n"
     ]
    },
    {
     "name": "stderr",
     "output_type": "stream",
     "text": [
      "Action: emotion: 100%|██████████| 1/1 [00:00<00:00, 11.79it/s]\n"
     ]
    },
    {
     "name": "stdout",
     "output_type": "stream",
     "text": [
      "[{'emotion': {'angry': 0.00038599791878368706, 'disgust': 1.669979157400709e-12, 'fear': 94.5669949054718, 'happy': 0.22419532760977745, 'sad': 4.915379732847214, 'surprise': 0.0006638808372372296, 'neutral': 0.29238087590783834}, 'dominant_emotion': 'fear', 'region': {'x': 230, 'y': 268, 'w': 130, 'h': 130}}]\n"
     ]
    },
    {
     "name": "stderr",
     "output_type": "stream",
     "text": [
      "Action: emotion: 100%|██████████| 1/1 [00:00<00:00, 12.34it/s]\n"
     ]
    },
    {
     "name": "stdout",
     "output_type": "stream",
     "text": [
      "[{'emotion': {'angry': 0.0007855736812719319, 'disgust': 3.5656826834131802e-12, 'fear': 88.2909669529239, 'happy': 0.046165427510463895, 'sad': 9.65106521236119, 'surprise': 0.000326046763133853, 'neutral': 2.010687759734659}, 'dominant_emotion': 'fear', 'region': {'x': 227, 'y': 260, 'w': 137, 'h': 137}}]\n"
     ]
    },
    {
     "name": "stderr",
     "output_type": "stream",
     "text": [
      "Action: emotion: 100%|██████████| 1/1 [00:00<00:00, 11.76it/s]\n"
     ]
    },
    {
     "name": "stdout",
     "output_type": "stream",
     "text": [
      "[{'emotion': {'angry': 0.001198853351525031, 'disgust': 1.2005991361675739e-11, 'fear': 86.38086318969727, 'happy': 0.0797524000518024, 'sad': 12.754890322685242, 'surprise': 0.000280073118119617, 'neutral': 0.7830179296433926}, 'dominant_emotion': 'fear', 'region': {'x': 228, 'y': 262, 'w': 137, 'h': 137}}]\n"
     ]
    },
    {
     "name": "stderr",
     "output_type": "stream",
     "text": [
      "Action: emotion: 100%|██████████| 1/1 [00:00<00:00, 12.41it/s]\n"
     ]
    },
    {
     "name": "stdout",
     "output_type": "stream",
     "text": [
      "[{'emotion': {'angry': 0.0006330505961956113, 'disgust': 7.905897680907061e-12, 'fear': 91.52485677748065, 'happy': 0.19501266067923073, 'sad': 7.8284059660676695, 'surprise': 0.0002658298557629909, 'neutral': 0.4508277204381061}, 'dominant_emotion': 'fear', 'region': {'x': 229, 'y': 265, 'w': 132, 'h': 132}}]\n"
     ]
    },
    {
     "name": "stderr",
     "output_type": "stream",
     "text": [
      "Action: emotion: 100%|██████████| 1/1 [00:00<00:00, 11.64it/s]\n"
     ]
    },
    {
     "name": "stdout",
     "output_type": "stream",
     "text": [
      "[{'emotion': {'angry': 0.0011558237929421011, 'disgust': 3.625647958943601e-11, 'fear': 93.09329390525818, 'happy': 1.1895733885467052, 'sad': 4.962487146258354, 'surprise': 0.004998482836526819, 'neutral': 0.7484901696443558}, 'dominant_emotion': 'fear', 'region': {'x': 227, 'y': 259, 'w': 139, 'h': 139}}]\n"
     ]
    },
    {
     "name": "stderr",
     "output_type": "stream",
     "text": [
      "Action: emotion: 100%|██████████| 1/1 [00:00<00:00, 11.77it/s]\n",
      "Action: emotion: 100%|██████████| 1/1 [00:00<00:00, 12.31it/s]\n"
     ]
    },
    {
     "name": "stdout",
     "output_type": "stream",
     "text": [
      "[{'emotion': {'angry': 0.0029197268304415047, 'disgust': 3.3295927321687346e-11, 'fear': 49.970537424087524, 'happy': 1.4656912535429, 'sad': 6.005115807056427, 'surprise': 0.030009009060449898, 'neutral': 42.525726556777954}, 'dominant_emotion': 'fear', 'region': {'x': 230, 'y': 261, 'w': 135, 'h': 135}}, {'emotion': {'angry': 0.5901331081986427, 'disgust': 5.470632657988972e-06, 'fear': 67.01197028160095, 'happy': 15.669727325439453, 'sad': 3.622155636548996, 'surprise': 0.12874661479145288, 'neutral': 12.977266311645508}, 'dominant_emotion': 'fear', 'region': {'x': 36, 'y': 111, 'w': 236, 'h': 236}}]\n"
     ]
    },
    {
     "name": "stderr",
     "output_type": "stream",
     "text": [
      "Action: emotion: 100%|██████████| 1/1 [00:00<00:00, 11.75it/s]\n"
     ]
    },
    {
     "name": "stdout",
     "output_type": "stream",
     "text": [
      "[{'emotion': {'angry': 0.0018032413208857179, 'disgust': 4.0511216885426304e-11, 'fear': 37.50864863395691, 'happy': 5.4808445274829865, 'sad': 7.375378906726837, 'surprise': 0.05063128191977739, 'neutral': 49.582692980766296}, 'dominant_emotion': 'neutral', 'region': {'x': 230, 'y': 262, 'w': 134, 'h': 134}}]\n"
     ]
    },
    {
     "name": "stderr",
     "output_type": "stream",
     "text": [
      "Action: emotion: 100%|██████████| 1/1 [00:00<00:00, 11.36it/s]\n"
     ]
    },
    {
     "name": "stdout",
     "output_type": "stream",
     "text": [
      "[{'emotion': {'angry': 0.020928679026077424, 'disgust': 1.9182067112109872e-07, 'fear': 67.60903806794144, 'happy': 6.544748728841392, 'sad': 16.25067487367092, 'surprise': 0.011583148369233116, 'neutral': 9.563038893108237}, 'dominant_emotion': 'fear', 'region': {'x': 231, 'y': 259, 'w': 131, 'h': 131}}]\n"
     ]
    },
    {
     "name": "stderr",
     "output_type": "stream",
     "text": [
      "Action: emotion: 100%|██████████| 1/1 [00:00<00:00, 11.59it/s]\n"
     ]
    },
    {
     "name": "stdout",
     "output_type": "stream",
     "text": [
      "[{'emotion': {'angry': 0.0022379853786957116, 'disgust': 1.198521353657084e-08, 'fear': 79.44221374048077, 'happy': 11.932826008369089, 'sad': 8.529063822571267, 'surprise': 0.002224849000238195, 'neutral': 0.09143811147849926}, 'dominant_emotion': 'fear', 'region': {'x': 231, 'y': 257, 'w': 132, 'h': 132}}]\n"
     ]
    },
    {
     "name": "stderr",
     "output_type": "stream",
     "text": [
      "Action: emotion: 100%|██████████| 1/1 [00:00<00:00, 10.69it/s]\n"
     ]
    },
    {
     "name": "stdout",
     "output_type": "stream",
     "text": [
      "[{'emotion': {'angry': 0.0006382620995282196, 'disgust': 8.374454775472717e-10, 'fear': 69.53374147415161, 'happy': 22.141285240650177, 'sad': 8.05477574467659, 'surprise': 0.002385603693255689, 'neutral': 0.26717560831457376}, 'dominant_emotion': 'fear', 'region': {'x': 231, 'y': 260, 'w': 130, 'h': 130}}]\n"
     ]
    },
    {
     "name": "stderr",
     "output_type": "stream",
     "text": [
      "Action: emotion: 100%|██████████| 1/1 [00:00<00:00, 12.28it/s]\n",
      "Action: emotion: 100%|██████████| 1/1 [00:00<00:00, 12.42it/s]\n"
     ]
    },
    {
     "name": "stdout",
     "output_type": "stream",
     "text": [
      "[{'emotion': {'angry': 0.005925024368755109, 'disgust': 6.0357680787191185e-09, 'fear': 85.17557294223147, 'happy': 3.371248967721997, 'sad': 8.810060996416867, 'surprise': 0.011357515126588724, 'neutral': 2.6258375198148203}, 'dominant_emotion': 'fear', 'region': {'x': 230, 'y': 260, 'w': 132, 'h': 132}}, {'emotion': {'angry': 0.41981576941907406, 'disgust': 0.0004802365765499417, 'fear': 1.246047019958496, 'happy': 1.9508527591824532, 'sad': 5.769817903637886, 'surprise': 0.05652555846609175, 'neutral': 90.55646657943726}, 'dominant_emotion': 'neutral', 'region': {'x': 33, 'y': 102, 'w': 241, 'h': 241}}]\n"
     ]
    },
    {
     "name": "stderr",
     "output_type": "stream",
     "text": [
      "Action: emotion: 100%|██████████| 1/1 [00:00<00:00, 11.76it/s]\n",
      "Action: emotion: 100%|██████████| 1/1 [00:00<00:00, 12.15it/s]\n"
     ]
    },
    {
     "name": "stdout",
     "output_type": "stream",
     "text": [
      "[{'emotion': {'angry': 0.005515480699125459, 'disgust': 2.3576392244870536e-08, 'fear': 85.79415594304537, 'happy': 6.969583449934927, 'sad': 6.499074786846327, 'surprise': 0.010240871662195573, 'neutral': 0.7214309146363088}, 'dominant_emotion': 'fear', 'region': {'x': 230, 'y': 259, 'w': 133, 'h': 133}}, {'emotion': {'angry': 0.4225965589284897, 'disgust': 1.0011978446300418e-05, 'fear': 21.880939602851868, 'happy': 17.00388938188553, 'sad': 2.6844101026654243, 'surprise': 1.6527621075510979, 'neutral': 56.35539889335632}, 'dominant_emotion': 'neutral', 'region': {'x': 38, 'y': 105, 'w': 234, 'h': 234}}]\n"
     ]
    },
    {
     "name": "stderr",
     "output_type": "stream",
     "text": [
      "Action: emotion: 100%|██████████| 1/1 [00:00<00:00, 11.42it/s]\n",
      "Action: emotion: 100%|██████████| 1/1 [00:00<00:00, 12.96it/s]\n"
     ]
    },
    {
     "name": "stdout",
     "output_type": "stream",
     "text": [
      "[{'emotion': {'angry': 0.0006224967652014093, 'disgust': 7.399334631949535e-10, 'fear': 64.81111822260836, 'happy': 27.707738007037403, 'sad': 7.280912373174711, 'surprise': 0.0016908277954100239, 'neutral': 0.1979233234507827}, 'dominant_emotion': 'fear', 'region': {'x': 230, 'y': 260, 'w': 131, 'h': 131}}, {'emotion': {'angry': 0.2655446454834727, 'disgust': 6.847910025303128e-06, 'fear': 3.3198820543218885, 'happy': 69.29488595097577, 'sad': 0.6871842257490293, 'surprise': 0.4237296777951525, 'neutral': 26.008768439815547}, 'dominant_emotion': 'happy', 'region': {'x': 34, 'y': 103, 'w': 237, 'h': 237}}]\n"
     ]
    },
    {
     "name": "stderr",
     "output_type": "stream",
     "text": [
      "Action: emotion: 100%|██████████| 1/1 [00:00<00:00, 11.42it/s]\n"
     ]
    },
    {
     "name": "stdout",
     "output_type": "stream",
     "text": [
      "[{'emotion': {'angry': 0.001089987615280864, 'disgust': 6.089614197493825e-10, 'fear': 83.07700954949742, 'happy': 6.033710788642074, 'sad': 10.736888112200724, 'surprise': 0.0031303170450911097, 'neutral': 0.14816646560532265}, 'dominant_emotion': 'fear', 'region': {'x': 222, 'y': 259, 'w': 136, 'h': 136}}]\n"
     ]
    },
    {
     "name": "stderr",
     "output_type": "stream",
     "text": [
      "Action: emotion: 100%|██████████| 1/1 [00:00<00:00, 11.52it/s]\n"
     ]
    },
    {
     "name": "stdout",
     "output_type": "stream",
     "text": [
      "[{'emotion': {'angry': 9.376451563193532e-05, 'disgust': 1.1842576287988186e-11, 'fear': 57.26973923805485, 'happy': 0.03281753060813628, 'sad': 42.66689209140633, 'surprise': 3.152299378777403e-06, 'neutral': 0.030454558880828753}, 'dominant_emotion': 'fear', 'region': {'x': 222, 'y': 262, 'w': 127, 'h': 127}}]\n"
     ]
    },
    {
     "name": "stderr",
     "output_type": "stream",
     "text": [
      "Action: emotion: 100%|██████████| 1/1 [00:00<00:00, 11.43it/s]\n",
      "Action: emotion: 100%|██████████| 1/1 [00:00<00:00, 12.12it/s]\n"
     ]
    },
    {
     "name": "stdout",
     "output_type": "stream",
     "text": [
      "[{'emotion': {'angry': 0.00029087149783895664, 'disgust': 3.003604082167742e-12, 'fear': 72.80524807007599, 'happy': 0.22610522757352755, 'sad': 25.00865608505345, 'surprise': 0.001694385274316331, 'neutral': 1.9580063645843484}, 'dominant_emotion': 'fear', 'region': {'x': 213, 'y': 256, 'w': 134, 'h': 134}}, {'emotion': {'angry': 0.7685463860388262, 'disgust': 0.0006265533394285733, 'fear': 0.10890831606487228, 'happy': 23.884281383071112, 'sad': 34.82946572655031, 'surprise': 0.005143077827700378, 'neutral': 40.4030341390412}, 'dominant_emotion': 'neutral', 'region': {'x': 174, 'y': 97, 'w': 114, 'h': 114}}]\n"
     ]
    },
    {
     "name": "stderr",
     "output_type": "stream",
     "text": [
      "Action: emotion: 100%|██████████| 1/1 [00:00<00:00, 11.29it/s]\n"
     ]
    },
    {
     "name": "stdout",
     "output_type": "stream",
     "text": [
      "[{'emotion': {'angry': 0.0001515709186605818, 'disgust': 1.767032158615789e-11, 'fear': 74.02740120887756, 'happy': 1.4314353466033936, 'sad': 24.518436193466187, 'surprise': 0.0002735751877480652, 'neutral': 0.022304315643850714}, 'dominant_emotion': 'fear', 'region': {'x': 208, 'y': 251, 'w': 131, 'h': 131}}]\n"
     ]
    },
    {
     "name": "stderr",
     "output_type": "stream",
     "text": [
      "Action: emotion: 100%|██████████| 1/1 [00:00<00:00, 11.83it/s]\n"
     ]
    },
    {
     "name": "stdout",
     "output_type": "stream",
     "text": [
      "[{'emotion': {'angry': 0.0022941486343382622, 'disgust': 5.490105111365886e-10, 'fear': 77.2784379388764, 'happy': 5.682882734193476, 'sad': 14.05170094350565, 'surprise': 0.026191095609720574, 'neutral': 2.9584897880566374}, 'dominant_emotion': 'fear', 'region': {'x': 203, 'y': 250, 'w': 131, 'h': 131}}]\n"
     ]
    },
    {
     "name": "stderr",
     "output_type": "stream",
     "text": [
      "Action: emotion: 100%|██████████| 1/1 [00:00<00:00, 11.49it/s]\n",
      "Action: emotion: 100%|██████████| 1/1 [00:00<00:00, 12.27it/s]\n"
     ]
    },
    {
     "name": "stdout",
     "output_type": "stream",
     "text": [
      "[{'emotion': {'angry': 0.002604641641208031, 'disgust': 3.206811049665645e-09, 'fear': 54.5347782692181, 'happy': 26.337008257926, 'sad': 18.90615784562575, 'surprise': 0.0017146286266960502, 'neutral': 0.2177368280805247}, 'dominant_emotion': 'fear', 'region': {'x': 200, 'y': 249, 'w': 134, 'h': 134}}, {'emotion': {'angry': 0.40204720707800473, 'disgust': 6.074210747956569e-07, 'fear': 0.38814721599486063, 'happy': 25.772908422101548, 'sad': 40.32614413811495, 'surprise': 0.0020192327289486204, 'neutral': 33.108736051170354}, 'dominant_emotion': 'sad', 'region': {'x': 89, 'y': 213, 'w': 67, 'h': 67}}]\n"
     ]
    },
    {
     "name": "stderr",
     "output_type": "stream",
     "text": [
      "Action: emotion: 100%|██████████| 1/1 [00:00<00:00, 12.11it/s]\n"
     ]
    },
    {
     "name": "stdout",
     "output_type": "stream",
     "text": [
      "[{'emotion': {'angry': 0.0015861727661103942, 'disgust': 2.6870476330098647e-10, 'fear': 54.006385803222656, 'happy': 12.809151411056519, 'sad': 22.095973789691925, 'surprise': 0.03347611636854708, 'neutral': 11.053433269262314}, 'dominant_emotion': 'fear', 'region': {'x': 198, 'y': 251, 'w': 133, 'h': 133}}]\n"
     ]
    },
    {
     "name": "stderr",
     "output_type": "stream",
     "text": [
      "Action: emotion: 100%|██████████| 1/1 [00:00<00:00, 11.83it/s]\n"
     ]
    },
    {
     "name": "stdout",
     "output_type": "stream",
     "text": [
      "[{'emotion': {'angry': 0.0035062881850427426, 'disgust': 1.2608966706227627e-09, 'fear': 73.45757922277326, 'happy': 12.31432705010933, 'sad': 8.372503273040252, 'surprise': 0.3858330423881437, 'neutral': 5.466253636256077}, 'dominant_emotion': 'fear', 'region': {'x': 197, 'y': 248, 'w': 136, 'h': 136}}]\n"
     ]
    },
    {
     "name": "stderr",
     "output_type": "stream",
     "text": [
      "Action: emotion: 100%|██████████| 1/1 [00:00<00:00, 11.83it/s]\n"
     ]
    },
    {
     "name": "stdout",
     "output_type": "stream",
     "text": [
      "[{'emotion': {'angry': 0.004532411819160317, 'disgust': 8.123070062264762e-09, 'fear': 73.84307824630011, 'happy': 3.5449339327176768, 'sad': 15.851517966480134, 'surprise': 0.027227871927976426, 'neutral': 6.7287151055762235}, 'dominant_emotion': 'fear', 'region': {'x': 197, 'y': 247, 'w': 135, 'h': 135}}]\n"
     ]
    },
    {
     "name": "stderr",
     "output_type": "stream",
     "text": [
      "Action: emotion: 100%|██████████| 1/1 [00:00<00:00, 11.76it/s]\n"
     ]
    },
    {
     "name": "stdout",
     "output_type": "stream",
     "text": [
      "[{'emotion': {'angry': 0.009752844925969839, 'disgust': 2.195568726826025e-08, 'fear': 73.24061989784241, 'happy': 7.156696915626526, 'sad': 15.421666204929352, 'surprise': 0.02163086464861408, 'neutral': 4.149634391069412}, 'dominant_emotion': 'fear', 'region': {'x': 198, 'y': 246, 'w': 132, 'h': 132}}]\n"
     ]
    },
    {
     "name": "stderr",
     "output_type": "stream",
     "text": [
      "Action: emotion: 100%|██████████| 1/1 [00:00<00:00, 11.88it/s]\n",
      "Action: emotion: 100%|██████████| 1/1 [00:00<00:00, 11.63it/s]\n"
     ]
    },
    {
     "name": "stdout",
     "output_type": "stream",
     "text": [
      "[{'emotion': {'angry': 28.57341127712592, 'disgust': 0.0029477381882625745, 'fear': 0.8399574016085385, 'happy': 0.006027296703896506, 'sad': 65.53909593354513, 'surprise': 0.00010697099103626739, 'neutral': 5.038449312633358}, 'dominant_emotion': 'sad', 'region': {'x': 184, 'y': 157, 'w': 40, 'h': 40}}, {'emotion': {'angry': 0.00843265124305211, 'disgust': 4.554980016405469e-08, 'fear': 58.35744042903895, 'happy': 20.688063420288156, 'sad': 18.296112919317135, 'surprise': 0.05335123224280986, 'neutral': 2.596594269979683}, 'dominant_emotion': 'fear', 'region': {'x': 195, 'y': 244, 'w': 136, 'h': 136}}]\n"
     ]
    },
    {
     "name": "stderr",
     "output_type": "stream",
     "text": [
      "Action: emotion: 100%|██████████| 1/1 [00:00<00:00, 10.05it/s]\n",
      "Action: emotion: 100%|██████████| 1/1 [00:00<00:00, 10.05it/s]\n"
     ]
    },
    {
     "name": "stdout",
     "output_type": "stream",
     "text": [
      "[{'emotion': {'angry': 15.618455410003662, 'disgust': 9.168647920887452e-05, 'fear': 2.004723623394966, 'happy': 0.012026482727378607, 'sad': 19.492703676223755, 'surprise': 0.0023049393348628655, 'neutral': 62.86969780921936}, 'dominant_emotion': 'neutral', 'region': {'x': 180, 'y': 155, 'w': 45, 'h': 45}}, {'emotion': {'angry': 0.003675775951705873, 'disgust': 1.6736803609695983e-08, 'fear': 88.90573382377625, 'happy': 3.0776675790548325, 'sad': 7.849682122468948, 'surprise': 0.022756804537493736, 'neutral': 0.1404877519235015}, 'dominant_emotion': 'fear', 'region': {'x': 199, 'y': 245, 'w': 136, 'h': 136}}]\n"
     ]
    },
    {
     "name": "stderr",
     "output_type": "stream",
     "text": [
      "Action: emotion: 100%|██████████| 1/1 [00:00<00:00,  9.86it/s]\n",
      "Action: emotion: 100%|██████████| 1/1 [00:00<00:00, 12.19it/s]\n"
     ]
    },
    {
     "name": "stdout",
     "output_type": "stream",
     "text": [
      "[{'emotion': {'angry': 39.80522034230475, 'disgust': 0.08794764755973489, 'fear': 3.144943343990248, 'happy': 0.009282371699245253, 'sad': 50.58056123024955, 'surprise': 0.003073450355116879, 'neutral': 6.3689738653867085}, 'dominant_emotion': 'sad', 'region': {'x': 181, 'y': 156, 'w': 42, 'h': 42}}, {'emotion': {'angry': 0.004527065175352618, 'disgust': 6.127671287048386e-09, 'fear': 63.23603391647339, 'happy': 29.87351417541504, 'sad': 5.419313907623291, 'surprise': 0.2861816668882966, 'neutral': 1.1804266832768917}, 'dominant_emotion': 'fear', 'region': {'x': 197, 'y': 247, 'w': 134, 'h': 134}}]\n"
     ]
    },
    {
     "name": "stderr",
     "output_type": "stream",
     "text": [
      "Action: emotion: 100%|██████████| 1/1 [00:00<00:00, 11.42it/s]\n",
      "Action: emotion: 100%|██████████| 1/1 [00:00<00:00, 12.17it/s]\n"
     ]
    },
    {
     "name": "stdout",
     "output_type": "stream",
     "text": [
      "[{'emotion': {'angry': 24.24403578042984, 'disgust': 0.007303265010705218, 'fear': 8.72626081109047, 'happy': 0.01336311106570065, 'sad': 49.412599205970764, 'surprise': 0.003616557296481915, 'neutral': 17.592820525169373}, 'dominant_emotion': 'sad', 'region': {'x': 180, 'y': 157, 'w': 42, 'h': 42}}, {'emotion': {'angry': 0.008714103023521602, 'disgust': 6.755580123085636e-09, 'fear': 77.14858651161194, 'happy': 3.053772635757923, 'sad': 15.279723703861237, 'surprise': 0.03156723687425256, 'neutral': 4.477635025978088}, 'dominant_emotion': 'fear', 'region': {'x': 194, 'y': 247, 'w': 139, 'h': 139}}]\n"
     ]
    },
    {
     "name": "stderr",
     "output_type": "stream",
     "text": [
      "Action: emotion: 100%|██████████| 1/1 [00:00<00:00,  9.84it/s]\n",
      "Action: emotion: 100%|██████████| 1/1 [00:00<00:00, 11.97it/s]\n"
     ]
    },
    {
     "name": "stdout",
     "output_type": "stream",
     "text": [
      "[{'emotion': {'angry': 45.361995697021484, 'disgust': 0.037523600622080266, 'fear': 6.50419294834137, 'happy': 0.03529628156684339, 'sad': 42.226675152778625, 'surprise': 0.005750535638071597, 'neutral': 5.828568339347839}, 'dominant_emotion': 'angry', 'region': {'x': 180, 'y': 156, 'w': 43, 'h': 43}}, {'emotion': {'angry': 0.00098164255177835, 'disgust': 2.3987993882923497e-09, 'fear': 91.42210483551025, 'happy': 0.3118927823379636, 'sad': 8.1448495388031, 'surprise': 0.0029529219318646938, 'neutral': 0.11721999617293477}, 'dominant_emotion': 'fear', 'region': {'x': 196, 'y': 247, 'w': 140, 'h': 140}}]\n"
     ]
    },
    {
     "name": "stderr",
     "output_type": "stream",
     "text": [
      "Action: emotion: 100%|██████████| 1/1 [00:00<00:00, 12.12it/s]\n",
      "Action: emotion: 100%|██████████| 1/1 [00:00<00:00, 12.02it/s]\n"
     ]
    },
    {
     "name": "stdout",
     "output_type": "stream",
     "text": [
      "[{'emotion': {'angry': 42.623335123062134, 'disgust': 0.0001486079554524622, 'fear': 0.6423734594136477, 'happy': 0.0018236649339087307, 'sad': 35.74158549308777, 'surprise': 3.636165502030053e-05, 'neutral': 20.99069654941559}, 'dominant_emotion': 'angry', 'region': {'x': 183, 'y': 157, 'w': 41, 'h': 41}}, {'emotion': {'angry': 0.0021569300927575196, 'disgust': 3.676132917827239e-09, 'fear': 93.19587431003161, 'happy': 2.2871858507769285, 'sad': 4.381953029995795, 'surprise': 0.017956710550040986, 'neutral': 0.1148678807512962}, 'dominant_emotion': 'fear', 'region': {'x': 188, 'y': 250, 'w': 142, 'h': 142}}]\n"
     ]
    },
    {
     "name": "stderr",
     "output_type": "stream",
     "text": [
      "Action: emotion: 100%|██████████| 1/1 [00:00<00:00, 12.05it/s]\n",
      "Action: emotion: 100%|██████████| 1/1 [00:00<00:00, 12.27it/s]\n"
     ]
    },
    {
     "name": "stdout",
     "output_type": "stream",
     "text": [
      "[{'emotion': {'angry': 23.51067057315532, 'disgust': 0.0078062036769437, 'fear': 0.6579654217788828, 'happy': 0.0030222843616397113, 'sad': 73.42151841053476, 'surprise': 3.906059708685942e-05, 'neutral': 2.3989755227551175}, 'dominant_emotion': 'sad', 'region': {'x': 186, 'y': 157, 'w': 39, 'h': 39}}, {'emotion': {'angry': 0.00466776963383936, 'disgust': 2.248074548588478e-09, 'fear': 95.6659679811039, 'happy': 1.076856592821289, 'sad': 3.0703615462349, 'surprise': 0.008401785906936418, 'neutral': 0.17374197743928702}, 'dominant_emotion': 'fear', 'region': {'x': 191, 'y': 254, 'w': 140, 'h': 140}}]\n"
     ]
    },
    {
     "name": "stderr",
     "output_type": "stream",
     "text": [
      "Action: emotion: 100%|██████████| 1/1 [00:00<00:00,  6.73it/s]\n",
      "Action: emotion: 100%|██████████| 1/1 [00:00<00:00, 11.42it/s]\n"
     ]
    },
    {
     "name": "stdout",
     "output_type": "stream",
     "text": [
      "[{'emotion': {'angry': 0.010775150610861109, 'disgust': 8.547809357202183e-09, 'fear': 82.39493579924871, 'happy': 2.7519824427983233, 'sad': 11.666959623460814, 'surprise': 0.018090125403333407, 'neutral': 3.1572561672620574}, 'dominant_emotion': 'fear', 'region': {'x': 196, 'y': 251, 'w': 138, 'h': 138}}, {'emotion': {'angry': 0.0013206888314877447, 'disgust': 1.0074287478800397e-11, 'fear': 0.06406809952974624, 'happy': 0.09492148561407797, 'sad': 0.5934659149836403, 'surprise': 0.00022938883824603744, 'neutral': 99.24599537301118}, 'dominant_emotion': 'neutral', 'region': {'x': 61, 'y': 207, 'w': 63, 'h': 63}}]\n"
     ]
    },
    {
     "name": "stderr",
     "output_type": "stream",
     "text": [
      "Action: emotion: 100%|██████████| 1/1 [00:00<00:00, 12.27it/s]\n"
     ]
    },
    {
     "name": "stdout",
     "output_type": "stream",
     "text": [
      "[{'emotion': {'angry': 0.0350023532519117, 'disgust': 1.9349985502792322e-08, 'fear': 71.539968252182, 'happy': 1.8428565934300423, 'sad': 11.018812656402588, 'surprise': 0.0827889540232718, 'neutral': 15.480571985244751}, 'dominant_emotion': 'fear', 'region': {'x': 192, 'y': 249, 'w': 148, 'h': 148}}]\n"
     ]
    },
    {
     "name": "stderr",
     "output_type": "stream",
     "text": [
      "Action: emotion: 100%|██████████| 1/1 [00:00<00:00, 11.98it/s]\n"
     ]
    },
    {
     "name": "stdout",
     "output_type": "stream",
     "text": [
      "[{'emotion': {'angry': 0.012297980720177293, 'disgust': 1.56117577199133e-08, 'fear': 96.37178778648376, 'happy': 0.5439911969006062, 'sad': 2.841389551758766, 'surprise': 0.010955056495731696, 'neutral': 0.2195783657953143}, 'dominant_emotion': 'fear', 'region': {'x': 187, 'y': 254, 'w': 142, 'h': 142}}]\n"
     ]
    },
    {
     "name": "stderr",
     "output_type": "stream",
     "text": [
      "Action: emotion: 100%|██████████| 1/1 [00:00<00:00, 10.58it/s]\n"
     ]
    },
    {
     "name": "stdout",
     "output_type": "stream",
     "text": [
      "[{'emotion': {'angry': 0.016350092482753098, 'disgust': 1.7914393926621308e-09, 'fear': 83.61242413520813, 'happy': 1.9317250698804855, 'sad': 4.7868188470602036, 'surprise': 0.13573666801676154, 'neutral': 9.516943991184235}, 'dominant_emotion': 'fear', 'region': {'x': 183, 'y': 254, 'w': 145, 'h': 145}}]\n"
     ]
    },
    {
     "name": "stderr",
     "output_type": "stream",
     "text": [
      "Action: emotion: 100%|██████████| 1/1 [00:00<00:00,  8.44it/s]\n"
     ]
    },
    {
     "name": "stdout",
     "output_type": "stream",
     "text": [
      "[{'emotion': {'angry': 0.0014199825272953603, 'disgust': 7.318475686579617e-10, 'fear': 98.81386160850525, 'happy': 0.20956192165613174, 'sad': 0.6947935558855534, 'surprise': 0.2615040400996804, 'neutral': 0.01886390964500606}, 'dominant_emotion': 'fear', 'region': {'x': 179, 'y': 245, 'w': 149, 'h': 149}}]\n"
     ]
    },
    {
     "name": "stderr",
     "output_type": "stream",
     "text": [
      "Action: emotion: 100%|██████████| 1/1 [00:00<00:00,  9.47it/s]\n"
     ]
    },
    {
     "name": "stdout",
     "output_type": "stream",
     "text": [
      "[{'emotion': {'angry': 0.5429836455732584, 'disgust': 5.3778194342157803e-05, 'fear': 0.20829681307077408, 'happy': 63.00670504570007, 'sad': 1.8943458795547485, 'surprise': 0.000307469372273772, 'neutral': 34.34730768203735}, 'dominant_emotion': 'happy', 'region': {'x': 0, 'y': 0, 'w': 640, 'h': 480}}]\n"
     ]
    },
    {
     "name": "stderr",
     "output_type": "stream",
     "text": [
      "Action: emotion: 100%|██████████| 1/1 [00:00<00:00,  9.05it/s]\n"
     ]
    },
    {
     "name": "stdout",
     "output_type": "stream",
     "text": [
      "[{'emotion': {'angry': 0.0008738915180013382, 'disgust': 1.8403713857213812e-10, 'fear': 89.93497014820932, 'happy': 0.023264857146049183, 'sad': 10.03470673743406, 'surprise': 0.0010106950571991341, 'neutral': 0.005167427045939805}, 'dominant_emotion': 'fear', 'region': {'x': 174, 'y': 256, 'w': 138, 'h': 138}}]\n"
     ]
    },
    {
     "name": "stderr",
     "output_type": "stream",
     "text": [
      "Action: emotion: 100%|██████████| 1/1 [00:00<00:00,  6.64it/s]\n"
     ]
    },
    {
     "name": "stdout",
     "output_type": "stream",
     "text": [
      "[{'emotion': {'angry': 0.03950406389776617, 'disgust': 6.900425231215479e-08, 'fear': 98.20646643638611, 'happy': 1.0442216880619526, 'sad': 0.4216685425490141, 'surprise': 0.2836687723174691, 'neutral': 0.004472603905014694}, 'dominant_emotion': 'fear', 'region': {'x': 165, 'y': 250, 'w': 144, 'h': 144}}]\n"
     ]
    },
    {
     "name": "stderr",
     "output_type": "stream",
     "text": [
      "Action: emotion: 100%|██████████| 1/1 [00:00<00:00,  8.81it/s]\n",
      "Action: emotion: 100%|██████████| 1/1 [00:00<00:00, 10.15it/s]\n"
     ]
    },
    {
     "name": "stdout",
     "output_type": "stream",
     "text": [
      "[{'emotion': {'angry': 0.1819027354940772, 'disgust': 5.855511908681166e-09, 'fear': 0.11118138208985329, 'happy': 2.7349868789315224, 'sad': 0.10018437169492245, 'surprise': 0.3162012901157141, 'neutral': 96.5555489063263}, 'dominant_emotion': 'neutral', 'region': {'x': 66, 'y': 222, 'w': 67, 'h': 67}}, {'emotion': {'angry': 0.002628676106310954, 'disgust': 4.629896671194811e-09, 'fear': 98.20366480394182, 'happy': 0.4170636677966914, 'sad': 1.2752676971575854, 'surprise': 0.09845530158121009, 'neutral': 0.002921711332378025}, 'dominant_emotion': 'fear', 'region': {'x': 168, 'y': 248, 'w': 144, 'h': 144}}]\n"
     ]
    },
    {
     "name": "stderr",
     "output_type": "stream",
     "text": [
      "Action: emotion: 100%|██████████| 1/1 [00:00<00:00,  9.98it/s]\n"
     ]
    },
    {
     "name": "stdout",
     "output_type": "stream",
     "text": [
      "[{'emotion': {'angry': 0.07530907168984413, 'disgust': 2.724082348581902e-08, 'fear': 94.76720094680786, 'happy': 3.90164852142334, 'sad': 0.8616217412054539, 'surprise': 0.3900308394804597, 'neutral': 0.004193154745735228}, 'dominant_emotion': 'fear', 'region': {'x': 164, 'y': 249, 'w': 147, 'h': 147}}]\n"
     ]
    },
    {
     "name": "stderr",
     "output_type": "stream",
     "text": [
      "Action: emotion: 100%|██████████| 1/1 [00:00<00:00,  9.57it/s]\n",
      "Action: emotion: 100%|██████████| 1/1 [00:00<00:00,  8.32it/s]\n"
     ]
    },
    {
     "name": "stdout",
     "output_type": "stream",
     "text": [
      "[{'emotion': {'angry': 0.15764104900881648, 'disgust': 1.3686948818758538e-05, 'fear': 24.989300966262817, 'happy': 60.30672788619995, 'sad': 14.443312585353851, 'surprise': 0.05984252202324569, 'neutral': 0.04316350386943668}, 'dominant_emotion': 'happy', 'region': {'x': 125, 'y': 102, 'w': 92, 'h': 92}}, {'emotion': {'angry': 0.2602919237688184, 'disgust': 4.5754857680435634e-07, 'fear': 94.53281164169312, 'happy': 1.7198644578456879, 'sad': 0.23745845537632704, 'surprise': 3.2421275973320007, 'neutral': 0.007449886470567435}, 'dominant_emotion': 'fear', 'region': {'x': 167, 'y': 247, 'w': 147, 'h': 147}}]\n"
     ]
    },
    {
     "name": "stderr",
     "output_type": "stream",
     "text": [
      "Action: emotion: 100%|██████████| 1/1 [00:00<00:00,  8.89it/s]\n",
      "Action: emotion: 100%|██████████| 1/1 [00:00<00:00,  8.99it/s]\n"
     ]
    },
    {
     "name": "stdout",
     "output_type": "stream",
     "text": [
      "[{'emotion': {'angry': 0.9682177211772037, 'disgust': 0.0315888687238913, 'fear': 98.61247531249973, 'happy': 4.902642282376805e-05, 'sad': 0.3678950001907349, 'surprise': 0.013956275610906668, 'neutral': 0.00581487946063493}, 'dominant_emotion': 'fear', 'region': {'x': 452, 'y': 422, 'w': 55, 'h': 55}}, {'emotion': {'angry': 0.009331882029073313, 'disgust': 2.5222490762644156e-09, 'fear': 87.8778874874115, 'happy': 0.32586667221039534, 'sad': 11.728934198617935, 'surprise': 0.010899895278271288, 'neutral': 0.047076656483113766}, 'dominant_emotion': 'fear', 'region': {'x': 168, 'y': 246, 'w': 148, 'h': 148}}]\n"
     ]
    },
    {
     "name": "stderr",
     "output_type": "stream",
     "text": [
      "Action: emotion: 100%|██████████| 1/1 [00:00<00:00,  8.69it/s]\n"
     ]
    },
    {
     "name": "stdout",
     "output_type": "stream",
     "text": [
      "[{'emotion': {'angry': 0.13628635897019964, 'disgust': 6.930731673318557e-08, 'fear': 94.92510466428483, 'happy': 2.951223744670822, 'sad': 1.629664481520262, 'surprise': 0.35362531700735994, 'neutral': 0.004102993631642104}, 'dominant_emotion': 'fear', 'region': {'x': 175, 'y': 251, 'w': 143, 'h': 143}}]\n"
     ]
    },
    {
     "name": "stderr",
     "output_type": "stream",
     "text": [
      "Action: emotion: 100%|██████████| 1/1 [00:00<00:00,  7.92it/s]\n",
      "Action: emotion: 100%|██████████| 1/1 [00:00<00:00,  8.39it/s]\n"
     ]
    },
    {
     "name": "stdout",
     "output_type": "stream",
     "text": [
      "[{'emotion': {'angry': 0.7852731740637525, 'disgust': 2.5345586696901927e-06, 'fear': 78.13081014936031, 'happy': 16.022523702533466, 'sad': 0.5771656399020934, 'surprise': 4.471501974552988, 'neutral': 0.012722791174201886}, 'dominant_emotion': 'fear', 'region': {'x': 174, 'y': 247, 'w': 150, 'h': 150}}, {'emotion': {'angry': 0.010832132102223113, 'disgust': 3.852634154082914e-12, 'fear': 6.606332212686539, 'happy': 0.06176622700877488, 'sad': 3.586873412132263, 'surprise': 0.0002053470780083444, 'neutral': 89.73398804664612}, 'dominant_emotion': 'neutral', 'region': {'x': 360, 'y': 347, 'w': 73, 'h': 73}}]\n"
     ]
    },
    {
     "name": "stderr",
     "output_type": "stream",
     "text": [
      "Action: emotion: 100%|██████████| 1/1 [00:00<00:00,  7.90it/s]\n",
      "Action: emotion: 100%|██████████| 1/1 [00:00<00:00,  6.87it/s]\n"
     ]
    },
    {
     "name": "stdout",
     "output_type": "stream",
     "text": [
      "[{'emotion': {'angry': 0.5600134376436472, 'disgust': 3.4719253250159454e-06, 'fear': 2.96273622661829, 'happy': 36.956703662872314, 'sad': 1.7830053344368935, 'surprise': 0.4099680110812187, 'neutral': 57.327574491500854}, 'dominant_emotion': 'neutral', 'region': {'x': 136, 'y': 148, 'w': 55, 'h': 55}}, {'emotion': {'angry': 0.15331311652056973, 'disgust': 3.5603451494901636e-07, 'fear': 90.46860450880473, 'happy': 2.280790645683927, 'sad': 6.900022101399648, 'surprise': 0.17062945119983539, 'neutral': 0.02663740570695332}, 'dominant_emotion': 'fear', 'region': {'x': 170, 'y': 252, 'w': 144, 'h': 144}}]\n"
     ]
    },
    {
     "name": "stderr",
     "output_type": "stream",
     "text": [
      "Action: emotion: 100%|██████████| 1/1 [00:00<00:00,  8.40it/s]\n",
      "Action: emotion: 100%|██████████| 1/1 [00:00<00:00,  9.39it/s]\n"
     ]
    },
    {
     "name": "stdout",
     "output_type": "stream",
     "text": [
      "[{'emotion': {'angry': 6.4912017578602885, 'disgust': 4.626839134493393e-05, 'fear': 10.154688963573513, 'happy': 62.43366375170134, 'sad': 0.5089902156734595, 'surprise': 14.871495358437024, 'neutral': 5.539917903537625}, 'dominant_emotion': 'happy', 'region': {'x': 133, 'y': 148, 'w': 57, 'h': 57}}, {'emotion': {'angry': 0.13225827921603794, 'disgust': 3.0469989238218856e-06, 'fear': 93.07049471560089, 'happy': 2.096414132202514, 'sad': 4.608906335169454, 'surprise': 0.08188847474834172, 'neutral': 0.010031821745947555}, 'dominant_emotion': 'fear', 'region': {'x': 168, 'y': 253, 'w': 146, 'h': 146}}]\n"
     ]
    },
    {
     "name": "stderr",
     "output_type": "stream",
     "text": [
      "Action: emotion: 100%|██████████| 1/1 [00:00<00:00,  9.21it/s]\n",
      "Action: emotion: 100%|██████████| 1/1 [00:00<00:00,  8.97it/s]\n"
     ]
    },
    {
     "name": "stdout",
     "output_type": "stream",
     "text": [
      "[{'emotion': {'angry': 0.00022853037080494687, 'disgust': 9.430052225201102e-11, 'fear': 78.05258631706238, 'happy': 0.12616270687431097, 'sad': 20.643091201782227, 'surprise': 0.001807576700230129, 'neutral': 1.1761268600821495}, 'dominant_emotion': 'fear', 'region': {'x': 323, 'y': 166, 'w': 120, 'h': 120}}, {'emotion': {'angry': 0.10945389372287467, 'disgust': 2.3818414621198607e-06, 'fear': 99.24867162124256, 'happy': 0.46015632441266485, 'sad': 0.12233568992561818, 'surprise': 0.05885306626260981, 'neutral': 0.0005197506487777382}, 'dominant_emotion': 'fear', 'region': {'x': 162, 'y': 253, 'w': 146, 'h': 146}}]\n"
     ]
    },
    {
     "name": "stderr",
     "output_type": "stream",
     "text": [
      "Action: emotion: 100%|██████████| 1/1 [00:00<00:00,  8.88it/s]\n",
      "Action: emotion: 100%|██████████| 1/1 [00:00<00:00,  9.25it/s]\n"
     ]
    },
    {
     "name": "stdout",
     "output_type": "stream",
     "text": [
      "[{'emotion': {'angry': 0.00010340288650079231, 'disgust': 6.552979860680991e-10, 'fear': 74.51475554880567, 'happy': 1.2488801589763354, 'sad': 24.152558940954084, 'surprise': 0.00035398922718566246, 'neutral': 0.08335729774062904}, 'dominant_emotion': 'fear', 'region': {'x': 308, 'y': 180, 'w': 124, 'h': 124}}, {'emotion': {'angry': 0.07158261568405423, 'disgust': 1.1745872530834734e-06, 'fear': 99.52977892933959, 'happy': 0.04190501308247525, 'sad': 0.332381060600642, 'surprise': 0.012266037086980765, 'neutral': 0.012086064809475232}, 'dominant_emotion': 'fear', 'region': {'x': 155, 'y': 253, 'w': 150, 'h': 150}}]\n"
     ]
    },
    {
     "name": "stderr",
     "output_type": "stream",
     "text": [
      "Action: emotion: 100%|██████████| 1/1 [00:00<00:00,  8.44it/s]\n",
      "Action: emotion: 100%|██████████| 1/1 [00:00<00:00,  8.89it/s]\n"
     ]
    },
    {
     "name": "stdout",
     "output_type": "stream",
     "text": [
      "[{'emotion': {'angry': 0.00017085472118717916, 'disgust': 1.949351905661182e-09, 'fear': 76.325914105664, 'happy': 0.29878184362866356, 'sad': 23.369534508045373, 'surprise': 6.95473689886851e-05, 'neutral': 0.005526981909103986}, 'dominant_emotion': 'fear', 'region': {'x': 304, 'y': 183, 'w': 130, 'h': 130}}, {'emotion': {'angry': 0.2503881863786952, 'disgust': 4.074397222403247e-06, 'fear': 98.56790917302261, 'happy': 0.07093955964756792, 'sad': 0.9368000366628126, 'surprise': 0.05012981112430261, 'neutral': 0.12382826223036501}, 'dominant_emotion': 'fear', 'region': {'x': 156, 'y': 255, 'w': 151, 'h': 151}}]\n"
     ]
    },
    {
     "name": "stderr",
     "output_type": "stream",
     "text": [
      "Action: emotion: 100%|██████████| 1/1 [00:00<00:00,  7.89it/s]\n",
      "Action: emotion: 100%|██████████| 1/1 [00:00<00:00,  8.84it/s]\n",
      "Action: emotion: 100%|██████████| 1/1 [00:00<00:00,  8.97it/s]\n"
     ]
    },
    {
     "name": "stdout",
     "output_type": "stream",
     "text": [
      "[{'emotion': {'angry': 4.665554592940485, 'disgust': 2.866817851899918e-05, 'fear': 1.4536561379525743, 'happy': 0.008107825607434697, 'sad': 35.00777095602578, 'surprise': 0.0008985598095823804, 'neutral': 58.86398308658499}, 'dominant_emotion': 'neutral', 'region': {'x': 184, 'y': 156, 'w': 40, 'h': 40}}, {'emotion': {'angry': 6.88441705064696e-05, 'disgust': 4.0328551658979904e-10, 'fear': 21.980306866132395, 'happy': 0.004274754100787896, 'sad': 78.0106809126519, 'surprise': 1.6622209181531434e-06, 'neutral': 0.004664097822267076}, 'dominant_emotion': 'sad', 'region': {'x': 298, 'y': 184, 'w': 129, 'h': 129}}, {'emotion': {'angry': 0.03208040634049847, 'disgust': 7.741849016002268e-08, 'fear': 98.13987634898706, 'happy': 0.10505675948479659, 'sad': 1.5973387244536013, 'surprise': 0.029699925750875385, 'neutral': 0.09594736059078746}, 'dominant_emotion': 'fear', 'region': {'x': 151, 'y': 256, 'w': 153, 'h': 153}}]\n"
     ]
    },
    {
     "name": "stderr",
     "output_type": "stream",
     "text": [
      "Action: emotion: 100%|██████████| 1/1 [00:00<00:00,  8.65it/s]\n",
      "Action: emotion: 100%|██████████| 1/1 [00:00<00:00,  8.73it/s]\n"
     ]
    },
    {
     "name": "stdout",
     "output_type": "stream",
     "text": [
      "[{'emotion': {'angry': 5.336553230881691, 'disgust': 4.3817223627229396e-05, 'fear': 1.7708955332636833, 'happy': 0.020176576799713075, 'sad': 24.697306752204895, 'surprise': 0.0022964153686189093, 'neutral': 68.17272901535034}, 'dominant_emotion': 'neutral', 'region': {'x': 181, 'y': 155, 'w': 42, 'h': 42}}, {'emotion': {'angry': 0.016561452711591547, 'disgust': 4.364280083312127e-08, 'fear': 99.62182645537538, 'happy': 0.018822255454260205, 'sad': 0.32912640168501117, 'surprise': 0.010195188464145993, 'neutral': 0.003464668721679974}, 'dominant_emotion': 'fear', 'region': {'x': 155, 'y': 261, 'w': 157, 'h': 157}}]\n"
     ]
    },
    {
     "name": "stderr",
     "output_type": "stream",
     "text": [
      "Action: emotion: 100%|██████████| 1/1 [00:00<00:00,  7.92it/s]\n",
      "Action: emotion: 100%|██████████| 1/1 [00:00<00:00,  9.32it/s]\n",
      "Action: emotion: 100%|██████████| 1/1 [00:00<00:00,  8.89it/s]\n"
     ]
    },
    {
     "name": "stdout",
     "output_type": "stream",
     "text": [
      "[{'emotion': {'angry': 7.431717216968536, 'disgust': 0.0034939806937472895, 'fear': 3.795098513364792, 'happy': 0.005462266199174337, 'sad': 81.8011224269867, 'surprise': 0.002459363531670533, 'neutral': 6.960642337799072}, 'dominant_emotion': 'sad', 'region': {'x': 182, 'y': 156, 'w': 39, 'h': 39}}, {'emotion': {'angry': 0.0006314179245237028, 'disgust': 7.720626915563855e-09, 'fear': 22.442559897899628, 'happy': 0.24255793541669846, 'sad': 77.27605700492859, 'surprise': 1.2170899310604e-05, 'neutral': 0.0381800695322454}, 'dominant_emotion': 'sad', 'region': {'x': 295, 'y': 183, 'w': 128, 'h': 128}}, {'emotion': {'angry': 0.03177615668843319, 'disgust': 1.2941266269226186e-07, 'fear': 99.24198976063606, 'happy': 0.1461647508750559, 'sad': 0.3386451335126321, 'surprise': 0.12576118213816667, 'neutral': 0.11566640092553507}, 'dominant_emotion': 'fear', 'region': {'x': 152, 'y': 259, 'w': 158, 'h': 158}}]\n"
     ]
    },
    {
     "name": "stderr",
     "output_type": "stream",
     "text": [
      "Action: emotion: 100%|██████████| 1/1 [00:00<00:00,  9.13it/s]\n",
      "Action: emotion: 100%|██████████| 1/1 [00:00<00:00,  6.92it/s]\n",
      "Action: emotion: 100%|██████████| 1/1 [00:00<00:00,  6.41it/s]\n",
      "Action: emotion: 100%|██████████| 1/1 [00:00<00:00,  8.97it/s]\n"
     ]
    },
    {
     "name": "stdout",
     "output_type": "stream",
     "text": [
      "[{'emotion': {'angry': 4.797803983092308, 'disgust': 0.0002053404159596539, 'fear': 2.109816297888756, 'happy': 0.022956998145673424, 'sad': 14.24204409122467, 'surprise': 0.006192585715325549, 'neutral': 78.8209855556488}, 'dominant_emotion': 'neutral', 'region': {'x': 181, 'y': 155, 'w': 42, 'h': 42}}, {'emotion': {'angry': 0.00020550356882075165, 'disgust': 2.958437143962694e-09, 'fear': 38.17481924145336, 'happy': 0.015381194869425588, 'sad': 61.806503641993025, 'surprise': 3.6106892074532223e-06, 'neutral': 0.003089306667298662}, 'dominant_emotion': 'sad', 'region': {'x': 293, 'y': 177, 'w': 136, 'h': 136}}, {'emotion': {'angry': 0.04009672213922275, 'disgust': 1.0997393873799596e-06, 'fear': 97.70676479975967, 'happy': 0.4399286845283916, 'sad': 1.7300949531850192, 'surprise': 0.03003057387839698, 'neutral': 0.05308402785787152}, 'dominant_emotion': 'fear', 'region': {'x': 155, 'y': 259, 'w': 156, 'h': 156}}, {'emotion': {'angry': 0.00041742132452782243, 'disgust': 8.291897984208374e-11, 'fear': 55.80452084541321, 'happy': 1.0105605237185955, 'sad': 33.36404860019684, 'surprise': 0.000173759508470539, 'neutral': 9.820277243852615}, 'dominant_emotion': 'fear', 'region': {'x': 9, 'y': 88, 'w': 151, 'h': 151}}]\n"
     ]
    },
    {
     "name": "stderr",
     "output_type": "stream",
     "text": [
      "Action: emotion: 100%|██████████| 1/1 [00:00<00:00,  7.96it/s]\n",
      "Action: emotion: 100%|██████████| 1/1 [00:00<00:00,  9.39it/s]\n",
      "Action: emotion: 100%|██████████| 1/1 [00:00<00:00,  8.81it/s]\n"
     ]
    },
    {
     "name": "stdout",
     "output_type": "stream",
     "text": [
      "[{'emotion': {'angry': 1.2620871886610985, 'disgust': 1.7687287368062243e-05, 'fear': 1.8227076157927513, 'happy': 0.015196160529740155, 'sad': 9.332282841205597, 'surprise': 0.006969675450818613, 'neutral': 87.5607430934906}, 'dominant_emotion': 'neutral', 'region': {'x': 181, 'y': 155, 'w': 43, 'h': 43}}, {'emotion': {'angry': 0.0002630286644489388, 'disgust': 1.5308869449892626e-08, 'fear': 63.907814025878906, 'happy': 1.0201731696724892, 'sad': 35.04911959171295, 'surprise': 0.0001351461946796917, 'neutral': 0.022486048692371696}, 'dominant_emotion': 'fear', 'region': {'x': 291, 'y': 181, 'w': 129, 'h': 129}}, {'emotion': {'angry': 0.03673066385090351, 'disgust': 5.38663384730409e-09, 'fear': 96.31670713424683, 'happy': 0.01868606632342562, 'sad': 2.315729297697544, 'surprise': 0.008899195381673053, 'neutral': 1.3032468035817146}, 'dominant_emotion': 'fear', 'region': {'x': 146, 'y': 267, 'w': 163, 'h': 163}}]\n"
     ]
    },
    {
     "name": "stderr",
     "output_type": "stream",
     "text": [
      "Action: emotion: 100%|██████████| 1/1 [00:00<00:00, 11.42it/s]\n",
      "Action: emotion: 100%|██████████| 1/1 [00:00<00:00, 11.90it/s]\n",
      "Action: emotion: 100%|██████████| 1/1 [00:00<00:00, 12.69it/s]\n"
     ]
    },
    {
     "name": "stdout",
     "output_type": "stream",
     "text": [
      "[{'emotion': {'angry': 0.2591896103695035, 'disgust': 9.635099829097271e-07, 'fear': 0.0981153454631567, 'happy': 0.017280722386203706, 'sad': 2.4461977183818817, 'surprise': 0.0002636053295645979, 'neutral': 97.1789538860321}, 'dominant_emotion': 'neutral', 'region': {'x': 182, 'y': 157, 'w': 39, 'h': 39}}, {'emotion': {'angry': 0.0004918825066197096, 'disgust': 7.919117194989129e-09, 'fear': 73.50080329170189, 'happy': 3.453098570931128, 'sad': 22.911818574450187, 'surprise': 0.0005158991210738081, 'neutral': 0.13326033525418218}, 'dominant_emotion': 'fear', 'region': {'x': 291, 'y': 182, 'w': 133, 'h': 133}}, {'emotion': {'angry': 0.013518503692466766, 'disgust': 1.496733514905202e-07, 'fear': 82.78912305831909, 'happy': 1.0434670373797417, 'sad': 6.654524803161621, 'surprise': 0.01749557559378445, 'neutral': 9.481874108314514}, 'dominant_emotion': 'fear', 'region': {'x': 144, 'y': 266, 'w': 168, 'h': 168}}]\n"
     ]
    },
    {
     "name": "stderr",
     "output_type": "stream",
     "text": [
      "Action: emotion: 100%|██████████| 1/1 [00:00<00:00,  8.73it/s]\n",
      "Action: emotion: 100%|██████████| 1/1 [00:00<00:00, 10.84it/s]\n"
     ]
    },
    {
     "name": "stdout",
     "output_type": "stream",
     "text": [
      "[{'emotion': {'angry': 6.726437362658544e-06, 'disgust': 2.5870300503607127e-12, 'fear': 73.00167679786682, 'happy': 0.017563102301210165, 'sad': 26.969915628433228, 'surprise': 1.9695801256602863e-05, 'neutral': 0.010816247231559828}, 'dominant_emotion': 'fear', 'region': {'x': 149, 'y': 280, 'w': 165, 'h': 165}}, {'emotion': {'angry': 0.0001945012515960425, 'disgust': 2.4719922136814358e-11, 'fear': 39.51108095115906, 'happy': 0.004704064038638117, 'sad': 59.6352016708375, 'surprise': 0.0002213420561982939, 'neutral': 0.8486013433993663}, 'dominant_emotion': 'sad', 'region': {'x': 309, 'y': 204, 'w': 142, 'h': 142}}]\n"
     ]
    },
    {
     "name": "stderr",
     "output_type": "stream",
     "text": [
      "Action: emotion: 100%|██████████| 1/1 [00:00<00:00,  9.62it/s]\n",
      "Action: emotion: 100%|██████████| 1/1 [00:00<00:00,  7.82it/s]\n"
     ]
    },
    {
     "name": "stdout",
     "output_type": "stream",
     "text": [
      "[{'emotion': {'angry': 0.009233644959749654, 'disgust': 2.3317728303773322e-08, 'fear': 30.553489923477173, 'happy': 0.0029438742785714567, 'sad': 67.68906712532043, 'surprise': 0.00033192736736964434, 'neutral': 1.7449356615543365}, 'dominant_emotion': 'sad', 'region': {'x': 311, 'y': 209, 'w': 151, 'h': 151}}, {'emotion': {'angry': 0.005007894520890432, 'disgust': 1.3788477213368364e-09, 'fear': 92.84676824173549, 'happy': 0.048246121081061195, 'sad': 7.095881652341086, 'surprise': 0.00027630031692318436, 'neutral': 0.003828490391067946}, 'dominant_emotion': 'fear', 'region': {'x': 147, 'y': 290, 'w': 172, 'h': 172}}]\n"
     ]
    },
    {
     "name": "stderr",
     "output_type": "stream",
     "text": [
      "Action: emotion: 100%|██████████| 1/1 [00:00<00:00, 10.47it/s]\n",
      "Action: emotion: 100%|██████████| 1/1 [00:00<00:00,  7.51it/s]\n"
     ]
    },
    {
     "name": "stdout",
     "output_type": "stream",
     "text": [
      "[{'emotion': {'angry': 0.019495805322226993, 'disgust': 4.451517789962797e-08, 'fear': 44.81901588213255, 'happy': 0.023836783726133112, 'sad': 53.93341732818874, 'surprise': 0.0008785053840734165, 'neutral': 1.2033529076453557}, 'dominant_emotion': 'sad', 'region': {'x': 306, 'y': 211, 'w': 153, 'h': 153}}, {'emotion': {'angry': 0.002428745574434288, 'disgust': 3.6726563630573583e-10, 'fear': 99.16681051254272, 'happy': 0.27760728262364864, 'sad': 0.550680048763752, 'surprise': 0.0022853173504699953, 'neutral': 0.00019205551780032692}, 'dominant_emotion': 'fear', 'region': {'x': 139, 'y': 293, 'w': 172, 'h': 172}}]\n"
     ]
    },
    {
     "name": "stderr",
     "output_type": "stream",
     "text": [
      "Action: emotion: 100%|██████████| 1/1 [00:00<00:00, 10.64it/s]\n",
      "Action: emotion: 100%|██████████| 1/1 [00:00<00:00,  9.89it/s]\n"
     ]
    },
    {
     "name": "stdout",
     "output_type": "stream",
     "text": [
      "[{'emotion': {'angry': 0.0017480582755524665, 'disgust': 1.7746608349522575e-08, 'fear': 70.70319652557373, 'happy': 2.270396798849106, 'sad': 24.837666749954224, 'surprise': 0.0020270601453376003, 'neutral': 2.1849675104022026}, 'dominant_emotion': 'fear', 'region': {'x': 308, 'y': 221, 'w': 157, 'h': 157}}, {'emotion': {'angry': 0.0004438210717910422, 'disgust': 2.7004124830966773e-11, 'fear': 91.0485083489721, 'happy': 0.11256506638989248, 'sad': 8.833990027546289, 'surprise': 0.0004116712507123221, 'neutral': 0.0040907251496626156}, 'dominant_emotion': 'fear', 'region': {'x': 117, 'y': 285, 'w': 177, 'h': 177}}]\n"
     ]
    },
    {
     "name": "stderr",
     "output_type": "stream",
     "text": [
      "Action: emotion: 100%|██████████| 1/1 [00:00<00:00, 10.47it/s]\n",
      "Action: emotion: 100%|██████████| 1/1 [00:00<00:00, 10.58it/s]\n"
     ]
    },
    {
     "name": "stdout",
     "output_type": "stream",
     "text": [
      "[{'emotion': {'angry': 0.014739768812432885, 'disgust': 3.843164120276299e-08, 'fear': 69.5261538028717, 'happy': 0.5106382071971893, 'sad': 18.999889492988586, 'surprise': 0.03679129004012793, 'neutral': 10.911781340837479}, 'dominant_emotion': 'fear', 'region': {'x': 291, 'y': 255, 'w': 142, 'h': 142}}, {'emotion': {'angry': 0.00154855715393525, 'disgust': 5.676250350706857e-11, 'fear': 98.21404836010356, 'happy': 0.05505912048037404, 'sad': 1.7269233045669432, 'surprise': 0.0001822746195183764, 'neutral': 0.0022309838710320782}, 'dominant_emotion': 'fear', 'region': {'x': 111, 'y': 293, 'w': 175, 'h': 175}}]\n"
     ]
    },
    {
     "name": "stderr",
     "output_type": "stream",
     "text": [
      "Action: emotion: 100%|██████████| 1/1 [00:00<00:00, 10.36it/s]\n",
      "Action: emotion: 100%|██████████| 1/1 [00:00<00:00,  9.66it/s]\n"
     ]
    },
    {
     "name": "stdout",
     "output_type": "stream",
     "text": [
      "[{'emotion': {'angry': 0.00035389457480050623, 'disgust': 1.1745641893996794e-11, 'fear': 52.202099561691284, 'happy': 0.0064181265770457685, 'sad': 47.77798354625702, 'surprise': 3.1704548320021786e-06, 'neutral': 0.013145137927494943}, 'dominant_emotion': 'fear', 'region': {'x': 96, 'y': 299, 'w': 172, 'h': 172}}, {'emotion': {'angry': 0.09518266306258738, 'disgust': 5.914636780346427e-07, 'fear': 70.86568474769592, 'happy': 9.514422714710236, 'sad': 8.926200866699219, 'surprise': 0.015113093832042068, 'neutral': 10.58340072631836}, 'dominant_emotion': 'fear', 'region': {'x': 280, 'y': 255, 'w': 163, 'h': 163}}]\n"
     ]
    },
    {
     "name": "stderr",
     "output_type": "stream",
     "text": [
      "Action: emotion: 100%|██████████| 1/1 [00:00<00:00, 10.51it/s]\n",
      "Action: emotion: 100%|██████████| 1/1 [00:00<00:00, 10.69it/s]\n"
     ]
    },
    {
     "name": "stdout",
     "output_type": "stream",
     "text": [
      "[{'emotion': {'angry': 0.0696816889103502, 'disgust': 1.118125259047531e-07, 'fear': 29.05586063861847, 'happy': 62.373071908950806, 'sad': 3.0953792855143547, 'surprise': 0.07328475476242602, 'neutral': 5.332725867629051}, 'dominant_emotion': 'happy', 'region': {'x': 286, 'y': 251, 'w': 167, 'h': 167}}, {'emotion': {'angry': 0.0005939714355918113, 'disgust': 5.186881197986881e-11, 'fear': 49.53899383544922, 'happy': 0.024460814893245697, 'sad': 50.40213465690613, 'surprise': 1.2091278200898614e-06, 'neutral': 0.03381940769031644}, 'dominant_emotion': 'sad', 'region': {'x': 110, 'y': 309, 'w': 167, 'h': 167}}]\n"
     ]
    },
    {
     "name": "stderr",
     "output_type": "stream",
     "text": [
      "Action: emotion: 100%|██████████| 1/1 [00:00<00:00,  9.75it/s]\n",
      "Action: emotion: 100%|██████████| 1/1 [00:00<00:00, 10.36it/s]\n"
     ]
    },
    {
     "name": "stdout",
     "output_type": "stream",
     "text": [
      "[{'emotion': {'angry': 1.8515925095434493, 'disgust': 8.242979057706066e-06, 'fear': 6.6618751979991915, 'happy': 0.32750977758376465, 'sad': 49.326887686663135, 'surprise': 0.005758109525562273, 'neutral': 41.82636987128078}, 'dominant_emotion': 'sad', 'region': {'x': 175, 'y': 158, 'w': 37, 'h': 37}}, {'emotion': {'angry': 0.008429077345143025, 'disgust': 7.864447062710152e-09, 'fear': 0.48738306499320655, 'happy': 98.77756230697408, 'sad': 0.14467618592016018, 'surprise': 0.005959068576461066, 'neutral': 0.5759911023671092}, 'dominant_emotion': 'happy', 'region': {'x': 278, 'y': 258, 'w': 162, 'h': 162}}]\n"
     ]
    },
    {
     "name": "stderr",
     "output_type": "stream",
     "text": [
      "Action: emotion: 100%|██████████| 1/1 [00:00<00:00, 10.14it/s]\n",
      "Action: emotion: 100%|██████████| 1/1 [00:00<00:00,  9.85it/s]\n"
     ]
    },
    {
     "name": "stdout",
     "output_type": "stream",
     "text": [
      "[{'emotion': {'angry': 0.2451902401560688, 'disgust': 3.072248638758094e-07, 'fear': 0.3334602306983012, 'happy': 0.01959785411997015, 'sad': 3.104163332531651, 'surprise': 0.0007076052009994004, 'neutral': 96.29688240867152}, 'dominant_emotion': 'neutral', 'region': {'x': 169, 'y': 157, 'w': 40, 'h': 40}}, {'emotion': {'angry': 0.009017026604851708, 'disgust': 1.475743832690668e-08, 'fear': 0.24511378724128008, 'happy': 99.33534860610962, 'sad': 0.04499196365941316, 'surprise': 0.010293995001120493, 'neutral': 0.35523499827831984}, 'dominant_emotion': 'happy', 'region': {'x': 270, 'y': 260, 'w': 167, 'h': 167}}]\n"
     ]
    },
    {
     "name": "stderr",
     "output_type": "stream",
     "text": [
      "Action: emotion: 100%|██████████| 1/1 [00:00<00:00, 10.15it/s]\n",
      "Action: emotion: 100%|██████████| 1/1 [00:00<00:00, 10.47it/s]\n",
      "Action: emotion: 100%|██████████| 1/1 [00:00<00:00, 10.46it/s]\n",
      "Action: emotion: 100%|██████████| 1/1 [00:00<00:00, 10.46it/s]\n"
     ]
    },
    {
     "name": "stdout",
     "output_type": "stream",
     "text": [
      "[{'emotion': {'angry': 0.12626996031031013, 'disgust': 1.0308350006926759e-08, 'fear': 0.06873102975077927, 'happy': 0.0006845308234915137, 'sad': 8.460036665201187, 'surprise': 4.222797755915053e-06, 'neutral': 91.34427905082703}, 'dominant_emotion': 'neutral', 'region': {'x': 169, 'y': 158, 'w': 40, 'h': 40}}, {'emotion': {'angry': 0.008970025032141055, 'disgust': 3.128136959594631e-09, 'fear': 92.85690273560253, 'happy': 0.10095637950821167, 'sad': 6.9976232054682725, 'surprise': 8.225871553639593e-05, 'neutral': 0.035460699429763924}, 'dominant_emotion': 'fear', 'region': {'x': 99, 'y': 302, 'w': 173, 'h': 173}}, {'emotion': {'angry': 0.0024328017020125957, 'disgust': 1.3049626047086331e-08, 'fear': 1.9454478514461429, 'happy': 97.2124634511747, 'sad': 0.3462348106866962, 'surprise': 0.00870196870009042, 'neutral': 0.4847164554724965}, 'dominant_emotion': 'happy', 'region': {'x': 273, 'y': 257, 'w': 165, 'h': 165}}, {'emotion': {'angry': 0.06305194486428468, 'disgust': 1.0156620074452269e-09, 'fear': 13.771224842740587, 'happy': 0.00017881520690828746, 'sad': 83.76099370485507, 'surprise': 1.931428927562707e-05, 'neutral': 2.404533469947187}, 'dominant_emotion': 'sad', 'region': {'x': 570, 'y': 79, 'w': 49, 'h': 49}}]\n"
     ]
    },
    {
     "name": "stderr",
     "output_type": "stream",
     "text": [
      "Action: emotion: 100%|██████████| 1/1 [00:00<00:00, 10.80it/s]\n",
      "Action: emotion: 100%|██████████| 1/1 [00:00<00:00, 10.15it/s]\n",
      "Action: emotion: 100%|██████████| 1/1 [00:00<00:00, 10.80it/s]\n",
      "Action: emotion: 100%|██████████| 1/1 [00:00<00:00,  9.40it/s]\n"
     ]
    },
    {
     "name": "stdout",
     "output_type": "stream",
     "text": [
      "[{'emotion': {'angry': 0.8028073714856727, 'disgust': 1.9909958116385003e-10, 'fear': 0.20752671480338067, 'happy': 0.0005796657551299858, 'sad': 6.952357706568105, 'surprise': 8.948675934071095e-06, 'neutral': 92.03671765546308}, 'dominant_emotion': 'neutral', 'region': {'x': 581, 'y': 76, 'w': 51, 'h': 51}}, {'emotion': {'angry': 0.6311701323932252, 'disgust': 2.1219805603257227e-06, 'fear': 0.3140525285166468, 'happy': 0.03869109616851405, 'sad': 2.975439298100555, 'surprise': 0.00043324534382342455, 'neutral': 96.0402076196423}, 'dominant_emotion': 'neutral', 'region': {'x': 168, 'y': 156, 'w': 44, 'h': 44}}, {'emotion': {'angry': 0.0005282881375023862, 'disgust': 3.8837252858137106e-09, 'fear': 0.014550330524798483, 'happy': 99.84392523765564, 'sad': 0.014391446893569082, 'surprise': 0.0062205981521401554, 'neutral': 0.12038135901093483}, 'dominant_emotion': 'happy', 'region': {'x': 265, 'y': 253, 'w': 168, 'h': 168}}, {'emotion': {'angry': 0.06711037713102996, 'disgust': 1.622008305446343e-07, 'fear': 99.24511313438416, 'happy': 0.05555458483286202, 'sad': 0.6307401228696108, 'surprise': 0.0003189625886079739, 'neutral': 0.0011589387213462032}, 'dominant_emotion': 'fear', 'region': {'x': 100, 'y': 294, 'w': 180, 'h': 180}}]\n"
     ]
    },
    {
     "name": "stderr",
     "output_type": "stream",
     "text": [
      "Action: emotion: 100%|██████████| 1/1 [00:00<00:00, 10.25it/s]\n",
      "Action: emotion: 100%|██████████| 1/1 [00:00<00:00, 10.29it/s]\n"
     ]
    },
    {
     "name": "stdout",
     "output_type": "stream",
     "text": [
      "[{'emotion': {'angry': 0.0057283072237623855, 'disgust': 2.3228521328633178e-07, 'fear': 14.172054827213287, 'happy': 63.88438940048218, 'sad': 18.937820196151733, 'surprise': 0.005857811629539356, 'neutral': 2.9941482469439507}, 'dominant_emotion': 'happy', 'region': {'x': 265, 'y': 257, 'w': 166, 'h': 166}}, {'emotion': {'angry': 0.6187842693179846, 'disgust': 2.87872170545711e-08, 'fear': 0.49113347195088863, 'happy': 0.008258593152277172, 'sad': 6.784401834011078, 'surprise': 6.81531787449785e-05, 'neutral': 92.09735989570618}, 'dominant_emotion': 'neutral', 'region': {'x': 584, 'y': 79, 'w': 48, 'h': 48}}]\n"
     ]
    },
    {
     "name": "stderr",
     "output_type": "stream",
     "text": [
      "Action: emotion: 100%|██████████| 1/1 [00:00<00:00, 10.57it/s]\n",
      "Action: emotion: 100%|██████████| 1/1 [00:00<00:00, 10.69it/s]\n",
      "Action: emotion: 100%|██████████| 1/1 [00:00<00:00, 10.81it/s]\n"
     ]
    },
    {
     "name": "stdout",
     "output_type": "stream",
     "text": [
      "[{'emotion': {'angry': 0.0016266125385300256, 'disgust': 2.213869504386068e-08, 'fear': 0.13762975577265024, 'happy': 99.12273287773132, 'sad': 0.24842680431902409, 'surprise': 0.004772626198246144, 'neutral': 0.4848126322031021}, 'dominant_emotion': 'happy', 'region': {'x': 270, 'y': 263, 'w': 160, 'h': 160}}, {'emotion': {'angry': 0.016908929122758164, 'disgust': 4.704922556900456e-08, 'fear': 96.6594878841057, 'happy': 0.0031868832432236007, 'sad': 3.319953731303962, 'surprise': 1.8157428594412994e-05, 'neutral': 0.000442538241255195}, 'dominant_emotion': 'fear', 'region': {'x': 101, 'y': 295, 'w': 179, 'h': 179}}, {'emotion': {'angry': 0.9816991165280342, 'disgust': 2.592676906498781e-08, 'fear': 0.24358162190765142, 'happy': 0.007868818647693843, 'sad': 4.056531935930252, 'surprise': 0.0002336669012947823, 'neutral': 94.71008777618408}, 'dominant_emotion': 'neutral', 'region': {'x': 585, 'y': 79, 'w': 48, 'h': 48}}]\n"
     ]
    },
    {
     "name": "stderr",
     "output_type": "stream",
     "text": [
      "Action: emotion: 100%|██████████| 1/1 [00:00<00:00, 10.46it/s]\n",
      "Action: emotion: 100%|██████████| 1/1 [00:00<00:00, 10.15it/s]\n",
      "Action: emotion: 100%|██████████| 1/1 [00:00<00:00,  7.87it/s]\n"
     ]
    },
    {
     "name": "stdout",
     "output_type": "stream",
     "text": [
      "[{'emotion': {'angry': 0.2398655696746028, 'disgust': 3.491780448198122e-07, 'fear': 95.13231573911717, 'happy': 4.516085816492341, 'sad': 0.06330428123199568, 'surprise': 0.04627479678189942, 'neutral': 0.002143205091748152}, 'dominant_emotion': 'fear', 'region': {'x': 95, 'y': 294, 'w': 182, 'h': 182}}, {'emotion': {'angry': 0.012985733337700367, 'disgust': 7.785724065456634e-07, 'fear': 1.3290030881762505, 'happy': 97.61856198310852, 'sad': 0.5983224138617516, 'surprise': 0.015138517483137548, 'neutral': 0.42598461732268333}, 'dominant_emotion': 'happy', 'region': {'x': 270, 'y': 262, 'w': 164, 'h': 164}}, {'emotion': {'angry': 0.65095042033198, 'disgust': 1.8450927650267164e-09, 'fear': 0.0449861397539386, 'happy': 0.0025218996281866695, 'sad': 2.3647302308517832, 'surprise': 3.317220118694729e-05, 'neutral': 96.93678003172755}, 'dominant_emotion': 'neutral', 'region': {'x': 585, 'y': 78, 'w': 49, 'h': 49}}]\n"
     ]
    },
    {
     "name": "stderr",
     "output_type": "stream",
     "text": [
      "Action: emotion: 100%|██████████| 1/1 [00:00<00:00, 10.25it/s]\n",
      "Action: emotion: 100%|██████████| 1/1 [00:00<00:00,  9.30it/s]\n",
      "Action: emotion: 100%|██████████| 1/1 [00:00<00:00,  9.85it/s]\n"
     ]
    },
    {
     "name": "stdout",
     "output_type": "stream",
     "text": [
      "[{'emotion': {'angry': 2.359115891158581, 'disgust': 2.913215890743004e-07, 'fear': 0.5617509596049786, 'happy': 0.052139791660010815, 'sad': 1.386620569974184, 'surprise': 0.017044652486220002, 'neutral': 95.6233263015747}, 'dominant_emotion': 'neutral', 'region': {'x': 584, 'y': 78, 'w': 50, 'h': 50}}, {'emotion': {'angry': 0.04080333455931395, 'disgust': 9.721392579820076e-08, 'fear': 97.37935066223145, 'happy': 0.004283312227926217, 'sad': 2.5726569816470146, 'surprise': 8.349695690412773e-05, 'neutral': 0.002819628753059078}, 'dominant_emotion': 'fear', 'region': {'x': 105, 'y': 300, 'w': 173, 'h': 173}}, {'emotion': {'angry': 0.009223691094091591, 'disgust': 4.29955455867454e-07, 'fear': 0.48042928007892133, 'happy': 95.20949664229114, 'sad': 0.784296822166064, 'surprise': 0.015785724525873308, 'neutral': 3.5007719398465085}, 'dominant_emotion': 'happy', 'region': {'x': 276, 'y': 267, 'w': 159, 'h': 159}}]\n"
     ]
    },
    {
     "name": "stderr",
     "output_type": "stream",
     "text": [
      "Action: emotion: 100%|██████████| 1/1 [00:00<00:00, 10.92it/s]\n",
      "Action: emotion: 100%|██████████| 1/1 [00:00<00:00, 10.69it/s]\n",
      "Action: emotion: 100%|██████████| 1/1 [00:00<00:00, 10.35it/s]\n"
     ]
    },
    {
     "name": "stdout",
     "output_type": "stream",
     "text": [
      "[{'emotion': {'angry': 0.6834798492491245, 'disgust': 0.000675289948048885, 'fear': 97.844797372818, 'happy': 0.7741478271782398, 'sad': 0.5957831162959337, 'surprise': 0.051159842405468225, 'neutral': 0.0499591464176774}, 'dominant_emotion': 'fear', 'region': {'x': 116, 'y': 298, 'w': 174, 'h': 174}}, {'emotion': {'angry': 0.02130806078316261, 'disgust': 1.5331600015221501e-06, 'fear': 0.07785651132726737, 'happy': 99.6621429718818, 'sad': 0.050042182628716986, 'surprise': 0.055621852921134404, 'neutral': 0.1330274702177924}, 'dominant_emotion': 'happy', 'region': {'x': 279, 'y': 264, 'w': 163, 'h': 163}}, {'emotion': {'angry': 0.8305490889490736, 'disgust': 1.3103540023060692e-07, 'fear': 0.7808651775580433, 'happy': 0.0020332510152891, 'sad': 6.221320483527126, 'surprise': 0.00014609099103068878, 'neutral': 92.16508362709479}, 'dominant_emotion': 'neutral', 'region': {'x': 584, 'y': 78, 'w': 51, 'h': 51}}]\n"
     ]
    },
    {
     "name": "stderr",
     "output_type": "stream",
     "text": [
      "Action: emotion: 100%|██████████| 1/1 [00:00<00:00, 10.81it/s]\n",
      "Action: emotion: 100%|██████████| 1/1 [00:00<00:00,  9.75it/s]\n",
      "Action: emotion: 100%|██████████| 1/1 [00:00<00:00, 10.38it/s]\n"
     ]
    },
    {
     "name": "stdout",
     "output_type": "stream",
     "text": [
      "[{'emotion': {'angry': 3.6459028099891175, 'disgust': 0.004957382179987692, 'fear': 73.59401302409017, 'happy': 7.942511684595146, 'sad': 2.3071759423999856, 'surprise': 6.278292086328019, 'neutral': 6.2271382686927}, 'dominant_emotion': 'fear', 'region': {'x': 127, 'y': 292, 'w': 170, 'h': 170}}, {'emotion': {'angry': 0.002649739690241404, 'disgust': 4.586730106836967e-07, 'fear': 0.11305426014587283, 'happy': 99.45271611213684, 'sad': 0.171333784237504, 'surprise': 0.009330661123385653, 'neutral': 0.2509199781343341}, 'dominant_emotion': 'happy', 'region': {'x': 277, 'y': 266, 'w': 161, 'h': 161}}, {'emotion': {'angry': 0.5163517780601978, 'disgust': 5.762975166523354e-09, 'fear': 0.3091554855927825, 'happy': 0.0032529682357562706, 'sad': 1.9070228561758995, 'surprise': 0.00011055561799366842, 'neutral': 97.26410508155823}, 'dominant_emotion': 'neutral', 'region': {'x': 586, 'y': 79, 'w': 48, 'h': 48}}]\n"
     ]
    },
    {
     "name": "stderr",
     "output_type": "stream",
     "text": [
      "Action: emotion: 100%|██████████| 1/1 [00:00<00:00, 10.25it/s]\n",
      "Action: emotion: 100%|██████████| 1/1 [00:00<00:00,  9.30it/s]\n",
      "Action: emotion: 100%|██████████| 1/1 [00:00<00:00, 10.18it/s]\n",
      "Action: emotion: 100%|██████████| 1/1 [00:00<00:00,  8.84it/s]\n"
     ]
    },
    {
     "name": "stdout",
     "output_type": "stream",
     "text": [
      "[{'emotion': {'angry': 26.739683747291565, 'disgust': 0.009902490273816511, 'fear': 9.565488994121552, 'happy': 8.350814878940582, 'sad': 3.2882235944271088, 'surprise': 0.847002025693655, 'neutral': 51.19888782501221}, 'dominant_emotion': 'neutral', 'region': {'x': 148, 'y': 297, 'w': 170, 'h': 170}}, {'emotion': {'angry': 0.809235405176878, 'disgust': 1.4688907642307347e-10, 'fear': 0.03268308355472982, 'happy': 0.001176963996840641, 'sad': 0.775953708216548, 'surprise': 2.506578482552868e-05, 'neutral': 98.3809232711792}, 'dominant_emotion': 'neutral', 'region': {'x': 586, 'y': 78, 'w': 49, 'h': 49}}, {'emotion': {'angry': 0.0503944989759475, 'disgust': 8.405336160421939e-06, 'fear': 5.367646366357803, 'happy': 84.96161699295044, 'sad': 8.539948612451553, 'surprise': 0.005405145930126309, 'neutral': 1.0749749839305878}, 'dominant_emotion': 'happy', 'region': {'x': 297, 'y': 263, 'w': 162, 'h': 162}}, {'emotion': {'angry': 0.7229287573461244, 'disgust': 0.0004934180330322201, 'fear': 0.976294395481872, 'happy': 69.5286118422284, 'sad': 4.559391907977093, 'surprise': 0.005819413456958646, 'neutral': 24.2064638979988}, 'dominant_emotion': 'happy', 'region': {'x': 166, 'y': 14, 'w': 112, 'h': 112}}]\n"
     ]
    },
    {
     "name": "stderr",
     "output_type": "stream",
     "text": [
      "Action: emotion: 100%|██████████| 1/1 [00:00<00:00,  8.51it/s]\n",
      "Action: emotion: 100%|██████████| 1/1 [00:00<00:00,  8.65it/s]\n",
      "Action: emotion: 100%|██████████| 1/1 [00:00<00:00,  8.65it/s]\n"
     ]
    },
    {
     "name": "stdout",
     "output_type": "stream",
     "text": [
      "[{'emotion': {'angry': 69.75383578263734, 'disgust': 0.012438618446301277, 'fear': 19.64761582896804, 'happy': 0.020832034138264306, 'sad': 5.876238994374216, 'surprise': 0.08124305070336466, 'neutral': 4.607796571123395}, 'dominant_emotion': 'angry', 'region': {'x': 137, 'y': 290, 'w': 172, 'h': 172}}, {'emotion': {'angry': 0.09339183452539146, 'disgust': 0.00015948274949550978, 'fear': 1.5824256464838982, 'happy': 94.66269016265869, 'sad': 1.8405497074127197, 'surprise': 0.09072108659893274, 'neutral': 1.7300665378570557}, 'dominant_emotion': 'happy', 'region': {'x': 291, 'y': 269, 'w': 159, 'h': 159}}, {'emotion': {'angry': 0.5660930648446083, 'disgust': 4.191704709027855e-10, 'fear': 0.05842498503625393, 'happy': 0.0013884551663068123, 'sad': 1.6998255625367165, 'surprise': 2.1107865677549853e-05, 'neutral': 97.67424464225769}, 'dominant_emotion': 'neutral', 'region': {'x': 586, 'y': 78, 'w': 49, 'h': 49}}]\n"
     ]
    },
    {
     "name": "stderr",
     "output_type": "stream",
     "text": [
      "Action: emotion: 100%|██████████| 1/1 [00:00<00:00,  8.26it/s]\n",
      "Action: emotion: 100%|██████████| 1/1 [00:00<00:00,  8.73it/s]\n",
      "Action: emotion: 100%|██████████| 1/1 [00:00<00:00,  7.66it/s]\n"
     ]
    },
    {
     "name": "stdout",
     "output_type": "stream",
     "text": [
      "[{'emotion': {'angry': 0.4714233800768852, 'disgust': 3.975201323669353e-06, 'fear': 12.062351405620575, 'happy': 76.7041265964508, 'sad': 3.5803329199552536, 'surprise': 0.018031855870503932, 'neutral': 7.16373398900032}, 'dominant_emotion': 'happy', 'region': {'x': 277, 'y': 276, 'w': 155, 'h': 155}}, {'emotion': {'angry': 0.4465203732252121, 'disgust': 5.9749623915195116e-05, 'fear': 89.51938152313232, 'happy': 0.07223464781418443, 'sad': 5.695901438593864, 'surprise': 0.05122239817865193, 'neutral': 4.214679449796677}, 'dominant_emotion': 'fear', 'region': {'x': 117, 'y': 282, 'w': 173, 'h': 173}}, {'emotion': {'angry': 1.183580607175827, 'disgust': 4.3153625117753336e-08, 'fear': 0.2938728779554367, 'happy': 0.0023031352611724287, 'sad': 11.11229881644249, 'surprise': 7.508659223276481e-05, 'neutral': 87.40787506103516}, 'dominant_emotion': 'neutral', 'region': {'x': 586, 'y': 78, 'w': 49, 'h': 49}}]\n"
     ]
    },
    {
     "name": "stderr",
     "output_type": "stream",
     "text": [
      "Action: emotion: 100%|██████████| 1/1 [00:00<00:00,  8.96it/s]\n",
      "Action: emotion: 100%|██████████| 1/1 [00:00<00:00,  9.21it/s]\n",
      "Action: emotion: 100%|██████████| 1/1 [00:00<00:00,  9.56it/s]\n",
      "Action: emotion: 100%|██████████| 1/1 [00:00<00:00,  8.62it/s]\n"
     ]
    },
    {
     "name": "stdout",
     "output_type": "stream",
     "text": [
      "[{'emotion': {'angry': 0.07669736432421462, 'disgust': 1.221152221297436e-06, 'fear': 99.01443743361534, 'happy': 0.0025740682078535097, 'sad': 0.8570165192743494, 'surprise': 0.027953733544651617, 'neutral': 0.02131005386554283}, 'dominant_emotion': 'fear', 'region': {'x': 113, 'y': 281, 'w': 171, 'h': 171}}, {'emotion': {'angry': 0.0007848541827115696, 'disgust': 1.312762615626739e-10, 'fear': 14.159294962882996, 'happy': 2.915150672197342, 'sad': 4.6275995671749115, 'surprise': 0.11262150947004557, 'neutral': 78.18454504013062}, 'dominant_emotion': 'neutral', 'region': {'x': 325, 'y': 240, 'w': 150, 'h': 150}}, {'emotion': {'angry': 0.03609892155509442, 'disgust': 2.4586684688188143e-06, 'fear': 21.545585989952087, 'happy': 2.4812664836645126, 'sad': 9.434673935174942, 'surprise': 1.8206613138318062, 'neutral': 64.68170881271362}, 'dominant_emotion': 'neutral', 'region': {'x': 118, 'y': 103, 'w': 97, 'h': 97}}, {'emotion': {'angry': 1.7173200661158483, 'disgust': 6.091696975639735e-08, 'fear': 0.48187788419391103, 'happy': 0.01658236672166461, 'sad': 4.479802610897707, 'surprise': 0.0008387059916177607, 'neutral': 93.30357392983747}, 'dominant_emotion': 'neutral', 'region': {'x': 586, 'y': 78, 'w': 48, 'h': 48}}]\n"
     ]
    },
    {
     "name": "stderr",
     "output_type": "stream",
     "text": [
      "Action: emotion: 100%|██████████| 1/1 [00:00<00:00, 11.29it/s]\n",
      "Action: emotion: 100%|██████████| 1/1 [00:00<00:00, 10.25it/s]\n",
      "Action: emotion: 100%|██████████| 1/1 [00:00<00:00, 10.81it/s]\n"
     ]
    },
    {
     "name": "stdout",
     "output_type": "stream",
     "text": [
      "[{'emotion': {'angry': 0.15029854839667678, 'disgust': 1.0035330433311174e-05, 'fear': 98.79745244979858, 'happy': 0.014660783926956356, 'sad': 0.9940756484866142, 'surprise': 0.001669810080784373, 'neutral': 0.04183109267614782}, 'dominant_emotion': 'fear', 'region': {'x': 128, 'y': 272, 'w': 168, 'h': 168}}, {'emotion': {'angry': 0.00016346983459363234, 'disgust': 4.996373512792344e-12, 'fear': 77.31342045228725, 'happy': 0.021334888512143612, 'sad': 20.65535582963894, 'surprise': 0.004187188959643419, 'neutral': 2.0055503181279084}, 'dominant_emotion': 'fear', 'region': {'x': 426, 'y': 136, 'w': 146, 'h': 146}}, {'emotion': {'angry': 3.4578341990709305, 'disgust': 1.9681816354477633e-05, 'fear': 0.7791307289153337, 'happy': 0.0040204435208579525, 'sad': 71.59913182258606, 'surprise': 3.722690848917409e-05, 'neutral': 24.15982484817505}, 'dominant_emotion': 'sad', 'region': {'x': 588, 'y': 76, 'w': 49, 'h': 49}}]\n"
     ]
    },
    {
     "name": "stderr",
     "output_type": "stream",
     "text": [
      "Action: emotion: 100%|██████████| 1/1 [00:00<00:00,  9.69it/s]\n",
      "Action: emotion: 100%|██████████| 1/1 [00:00<00:00,  9.75it/s]\n"
     ]
    },
    {
     "name": "stdout",
     "output_type": "stream",
     "text": [
      "[{'emotion': {'angry': 0.90867904946208, 'disgust': 8.25921553371245e-07, 'fear': 0.6169142201542854, 'happy': 0.015555780555587262, 'sad': 3.857177495956421, 'surprise': 0.0029640516004292294, 'neutral': 94.59871053695679}, 'dominant_emotion': 'neutral', 'region': {'x': 168, 'y': 160, 'w': 44, 'h': 44}}, {'emotion': {'angry': 0.1783011850690919, 'disgust': 5.383545411626015e-07, 'fear': 90.32078500738322, 'happy': 0.5311720837000509, 'sad': 1.817715323839745, 'surprise': 0.021610387527728824, 'neutral': 7.130415632675215}, 'dominant_emotion': 'fear', 'region': {'x': 138, 'y': 275, 'w': 171, 'h': 171}}]\n"
     ]
    },
    {
     "name": "stderr",
     "output_type": "stream",
     "text": [
      "Action: emotion: 100%|██████████| 1/1 [00:00<00:00,  9.21it/s]\n"
     ]
    },
    {
     "name": "stdout",
     "output_type": "stream",
     "text": [
      "[{'emotion': {'angry': 2.931053936481476, 'disgust': 2.0911238607368432e-05, 'fear': 84.60407853126526, 'happy': 1.7881862819194794, 'sad': 2.5564761832356453, 'surprise': 0.3682909533381462, 'neutral': 7.751890271902084}, 'dominant_emotion': 'fear', 'region': {'x': 148, 'y': 274, 'w': 168, 'h': 168}}]\n"
     ]
    },
    {
     "name": "stderr",
     "output_type": "stream",
     "text": [
      "Action: emotion: 100%|██████████| 1/1 [00:00<00:00, 10.26it/s]\n"
     ]
    },
    {
     "name": "stdout",
     "output_type": "stream",
     "text": [
      "[{'emotion': {'angry': 1.0481160134077072, 'disgust': 1.8702085213817554e-06, 'fear': 75.75578093528748, 'happy': 0.7953452877700329, 'sad': 6.86059296131134, 'surprise': 0.45119081623852253, 'neutral': 15.088973939418793}, 'dominant_emotion': 'fear', 'region': {'x': 147, 'y': 273, 'w': 170, 'h': 170}}]\n"
     ]
    },
    {
     "name": "stderr",
     "output_type": "stream",
     "text": [
      "Action: emotion: 100%|██████████| 1/1 [00:00<00:00,  9.38it/s]\n"
     ]
    },
    {
     "name": "stdout",
     "output_type": "stream",
     "text": [
      "[{'emotion': {'angry': 0.6775998044759035, 'disgust': 2.0155989943759778e-05, 'fear': 65.81792831420898, 'happy': 0.8372092619538307, 'sad': 5.235296115279198, 'surprise': 0.33227652311325073, 'neutral': 27.099665999412537}, 'dominant_emotion': 'fear', 'region': {'x': 143, 'y': 272, 'w': 172, 'h': 172}}]\n"
     ]
    },
    {
     "name": "stderr",
     "output_type": "stream",
     "text": [
      "Action: emotion: 100%|██████████| 1/1 [00:00<00:00, 11.17it/s]\n"
     ]
    },
    {
     "name": "stdout",
     "output_type": "stream",
     "text": [
      "[{'emotion': {'angry': 0.7011654882233753, 'disgust': 0.0005289019379013236, 'fear': 93.05638753695636, 'happy': 0.573426230439397, 'sad': 4.951303607070016, 'surprise': 0.03064616101541686, 'neutral': 0.6865330619027541}, 'dominant_emotion': 'fear', 'region': {'x': 141, 'y': 274, 'w': 168, 'h': 168}}]\n"
     ]
    },
    {
     "name": "stderr",
     "output_type": "stream",
     "text": [
      "Action: emotion: 100%|██████████| 1/1 [00:00<00:00,  8.88it/s]\n"
     ]
    },
    {
     "name": "stdout",
     "output_type": "stream",
     "text": [
      "[{'emotion': {'angry': 0.07574120536446571, 'disgust': 1.7128044760283956e-05, 'fear': 99.07220602035522, 'happy': 0.15001766150817275, 'sad': 0.660134619101882, 'surprise': 0.009561668412061408, 'neutral': 0.03232074959669262}, 'dominant_emotion': 'fear', 'region': {'x': 139, 'y': 276, 'w': 168, 'h': 168}}]\n"
     ]
    },
    {
     "name": "stderr",
     "output_type": "stream",
     "text": [
      "Action: emotion: 100%|██████████| 1/1 [00:00<00:00, 10.57it/s]\n"
     ]
    },
    {
     "name": "stdout",
     "output_type": "stream",
     "text": [
      "[{'emotion': {'angry': 0.6954238284379244, 'disgust': 9.880401421469287e-05, 'fear': 94.38679814338684, 'happy': 0.30937360133975744, 'sad': 2.9363758862018585, 'surprise': 0.12812918284907937, 'neutral': 1.5438012778759003}, 'dominant_emotion': 'fear', 'region': {'x': 134, 'y': 277, 'w': 170, 'h': 170}}]\n"
     ]
    },
    {
     "name": "stderr",
     "output_type": "stream",
     "text": [
      "Action: emotion: 100%|██████████| 1/1 [00:00<00:00, 10.25it/s]\n"
     ]
    },
    {
     "name": "stdout",
     "output_type": "stream",
     "text": [
      "[{'emotion': {'angry': 0.1500971704779369, 'disgust': 4.048603400705608e-05, 'fear': 99.52069518093438, 'happy': 0.11027944931563433, 'sad': 0.19465079527129503, 'surprise': 0.015994118664994457, 'neutral': 0.00824238426518868}, 'dominant_emotion': 'fear', 'region': {'x': 134, 'y': 278, 'w': 166, 'h': 166}}]\n"
     ]
    },
    {
     "name": "stderr",
     "output_type": "stream",
     "text": [
      "Action: emotion: 100%|██████████| 1/1 [00:00<00:00,  9.43it/s]\n"
     ]
    },
    {
     "name": "stdout",
     "output_type": "stream",
     "text": [
      "[{'emotion': {'angry': 0.8167945822232464, 'disgust': 0.00013741823114440412, 'fear': 96.13323165574451, 'happy': 0.6422310901857722, 'sad': 1.0245135343985003, 'surprise': 0.11694135839910608, 'neutral': 1.266153959620471}, 'dominant_emotion': 'fear', 'region': {'x': 129, 'y': 278, 'w': 171, 'h': 171}}]\n"
     ]
    },
    {
     "name": "stderr",
     "output_type": "stream",
     "text": [
      "Action: emotion: 100%|██████████| 1/1 [00:00<00:00, 10.47it/s]\n"
     ]
    },
    {
     "name": "stdout",
     "output_type": "stream",
     "text": [
      "[{'emotion': {'angry': 7.581968312380809, 'disgust': 0.0025875167644476265, 'fear': 84.86027031304063, 'happy': 1.5446488734870478, 'sad': 1.8148022854210308, 'surprise': 0.2878008581877266, 'neutral': 3.907924750919625}, 'dominant_emotion': 'fear', 'region': {'x': 129, 'y': 276, 'w': 175, 'h': 175}}]\n"
     ]
    },
    {
     "name": "stderr",
     "output_type": "stream",
     "text": [
      "Action: emotion: 100%|██████████| 1/1 [00:00<00:00, 11.55it/s]\n"
     ]
    },
    {
     "name": "stdout",
     "output_type": "stream",
     "text": [
      "[{'emotion': {'angry': 0.1383396995754361, 'disgust': 2.1780996794349818e-05, 'fear': 99.40597411429728, 'happy': 0.30822972275940913, 'sad': 0.0864590511502505, 'surprise': 0.05898031291993337, 'neutral': 0.001999789429699558}, 'dominant_emotion': 'fear', 'region': {'x': 131, 'y': 274, 'w': 173, 'h': 173}}]\n"
     ]
    },
    {
     "name": "stderr",
     "output_type": "stream",
     "text": [
      "Action: emotion: 100%|██████████| 1/1 [00:00<00:00, 13.07it/s]\n",
      "Action: emotion: 100%|██████████| 1/1 [00:00<00:00, 12.89it/s]\n"
     ]
    },
    {
     "name": "stdout",
     "output_type": "stream",
     "text": [
      "[{'emotion': {'angry': 65.58831930160522, 'disgust': 0.00023165666789282113, 'fear': 1.9423365592956543, 'happy': 0.11446328135207295, 'sad': 5.838621407747269, 'surprise': 0.016436571604572237, 'neutral': 26.499590277671814}, 'dominant_emotion': 'angry', 'region': {'x': 149, 'y': 157, 'w': 42, 'h': 42}}, {'emotion': {'angry': 0.09506482731937332, 'disgust': 3.9341314774921923e-07, 'fear': 94.2673500935644, 'happy': 5.4803840357294105, 'sad': 0.10359556798834015, 'surprise': 0.052853996988996683, 'neutral': 0.0007582481882241639}, 'dominant_emotion': 'fear', 'region': {'x': 123, 'y': 269, 'w': 181, 'h': 181}}]\n"
     ]
    },
    {
     "name": "stderr",
     "output_type": "stream",
     "text": [
      "Action: emotion: 100%|██████████| 1/1 [00:00<00:00, 10.75it/s]\n",
      "Action: emotion: 100%|██████████| 1/1 [00:00<00:00, 12.34it/s]\n"
     ]
    },
    {
     "name": "stdout",
     "output_type": "stream",
     "text": [
      "[{'emotion': {'angry': 6.432317920646915, 'disgust': 1.5598608188574168e-05, 'fear': 1.4754511519728717, 'happy': 0.01297164262703596, 'sad': 17.82994057775252, 'surprise': 0.0007027385507996338, 'neutral': 74.24859711544548}, 'dominant_emotion': 'neutral', 'region': {'x': 150, 'y': 158, 'w': 40, 'h': 40}}, {'emotion': {'angry': 0.05193477845750749, 'disgust': 3.684164973094539e-07, 'fear': 94.59307789802551, 'happy': 4.7843486070632935, 'sad': 0.16157081117853522, 'surprise': 0.40384805761277676, 'neutral': 0.005226302164373919}, 'dominant_emotion': 'fear', 'region': {'x': 125, 'y': 269, 'w': 183, 'h': 183}}]\n"
     ]
    },
    {
     "name": "stderr",
     "output_type": "stream",
     "text": [
      "Action: emotion: 100%|██████████| 1/1 [00:00<00:00, 12.34it/s]\n",
      "Action: emotion: 100%|██████████| 1/1 [00:00<00:00, 12.73it/s]\n"
     ]
    },
    {
     "name": "stdout",
     "output_type": "stream",
     "text": [
      "[{'emotion': {'angry': 1.594056842866948, 'disgust': 4.973736919017777e-06, 'fear': 2.031672867040209, 'happy': 0.005252219074654413, 'sad': 15.486415653611163, 'surprise': 7.859637676200886e-06, 'neutral': 80.88258986965357}, 'dominant_emotion': 'neutral', 'region': {'x': 148, 'y': 157, 'w': 43, 'h': 43}}, {'emotion': {'angry': 0.05525155575014651, 'disgust': 1.0751809442766103e-07, 'fear': 89.36141729354858, 'happy': 9.6980519592762, 'sad': 0.17199920257553458, 'surprise': 0.7097064983099699, 'neutral': 0.0035711600503418595}, 'dominant_emotion': 'fear', 'region': {'x': 113, 'y': 271, 'w': 174, 'h': 174}}]\n"
     ]
    },
    {
     "name": "stderr",
     "output_type": "stream",
     "text": [
      "Action: emotion: 100%|██████████| 1/1 [00:00<00:00, 11.83it/s]\n",
      "Action: emotion: 100%|██████████| 1/1 [00:00<00:00, 13.07it/s]\n"
     ]
    },
    {
     "name": "stdout",
     "output_type": "stream",
     "text": [
      "[{'emotion': {'angry': 14.536859961560962, 'disgust': 0.000554866379719645, 'fear': 2.87791842984667, 'happy': 0.0093630666138942, 'sad': 75.15813560236309, 'surprise': 0.00033723581245893565, 'neutral': 7.416832144071588}, 'dominant_emotion': 'sad', 'region': {'x': 149, 'y': 159, 'w': 39, 'h': 39}}, {'emotion': {'angry': 0.026302594163795958, 'disgust': 1.0635603449043588e-08, 'fear': 98.15140951582251, 'happy': 1.5531066799525428, 'sad': 0.02841640840624472, 'surprise': 0.2405640812554408, 'neutral': 0.00020052465346596699}, 'dominant_emotion': 'fear', 'region': {'x': 113, 'y': 269, 'w': 170, 'h': 170}}]\n"
     ]
    },
    {
     "name": "stderr",
     "output_type": "stream",
     "text": [
      "Action: emotion: 100%|██████████| 1/1 [00:00<00:00, 11.46it/s]\n",
      "Action: emotion: 100%|██████████| 1/1 [00:00<00:00, 13.07it/s]\n"
     ]
    },
    {
     "name": "stdout",
     "output_type": "stream",
     "text": [
      "[{'emotion': {'angry': 7.168601453304291, 'disgust': 1.8281551206200675e-05, 'fear': 0.9633629582822323, 'happy': 0.007989960431586951, 'sad': 27.93908715248108, 'surprise': 3.465941915692383e-05, 'neutral': 63.92090916633606}, 'dominant_emotion': 'neutral', 'region': {'x': 145, 'y': 158, 'w': 44, 'h': 44}}, {'emotion': {'angry': 0.03390289202798158, 'disgust': 3.975882290063737e-07, 'fear': 0.44876737520098686, 'happy': 93.12765002250671, 'sad': 0.4521631170064211, 'surprise': 0.0006291222234722227, 'neutral': 5.936887487769127}, 'dominant_emotion': 'happy', 'region': {'x': 344, 'y': 374, 'w': 71, 'h': 71}}]\n"
     ]
    },
    {
     "name": "stderr",
     "output_type": "stream",
     "text": [
      "Action: emotion: 100%|██████████| 1/1 [00:00<00:00, 12.27it/s]\n"
     ]
    },
    {
     "name": "stdout",
     "output_type": "stream",
     "text": [
      "[{'emotion': {'angry': 0.08170312111452269, 'disgust': 2.0236365724387335e-08, 'fear': 91.75627329870781, 'happy': 7.024214324448785, 'sad': 0.6548325681885996, 'surprise': 0.47917122828409336, 'neutral': 0.0038007822711950815}, 'dominant_emotion': 'fear', 'region': {'x': 119, 'y': 260, 'w': 177, 'h': 177}}]\n"
     ]
    },
    {
     "name": "stderr",
     "output_type": "stream",
     "text": [
      "Action: emotion: 100%|██████████| 1/1 [00:00<00:00, 12.29it/s]\n"
     ]
    },
    {
     "name": "stdout",
     "output_type": "stream",
     "text": [
      "[{'emotion': {'angry': 0.12775079812854528, 'disgust': 2.8313191791085046e-07, 'fear': 96.77227735519409, 'happy': 1.8669512122869492, 'sad': 0.4571108613163233, 'surprise': 0.7741043344140053, 'neutral': 0.0018138907762477174}, 'dominant_emotion': 'fear', 'region': {'x': 134, 'y': 266, 'w': 170, 'h': 170}}]\n"
     ]
    },
    {
     "name": "stderr",
     "output_type": "stream",
     "text": [
      "Action: emotion: 100%|██████████| 1/1 [00:00<00:00, 12.25it/s]\n"
     ]
    },
    {
     "name": "stdout",
     "output_type": "stream",
     "text": [
      "[{'emotion': {'angry': 0.03242945433639463, 'disgust': 3.431254651757955e-08, 'fear': 99.12587399040902, 'happy': 0.09689622088461941, 'sad': 0.27805615011192264, 'surprise': 0.4657551923844333, 'neutral': 0.000987248645015213}, 'dominant_emotion': 'fear', 'region': {'x': 135, 'y': 263, 'w': 175, 'h': 175}}]\n"
     ]
    },
    {
     "name": "stderr",
     "output_type": "stream",
     "text": [
      "Action: emotion: 100%|██████████| 1/1 [00:00<00:00, 12.12it/s]\n"
     ]
    },
    {
     "name": "stdout",
     "output_type": "stream",
     "text": [
      "[{'emotion': {'angry': 0.003563995263511964, 'disgust': 6.76799975879907e-10, 'fear': 99.73040221514715, 'happy': 0.00671752608490332, 'sad': 0.2562465066088144, 'surprise': 0.002754903635418818, 'neutral': 0.00031729782294353766}, 'dominant_emotion': 'fear', 'region': {'x': 146, 'y': 271, 'w': 158, 'h': 158}}]\n"
     ]
    },
    {
     "name": "stderr",
     "output_type": "stream",
     "text": [
      "Action: emotion: 100%|██████████| 1/1 [00:00<00:00, 12.06it/s]\n"
     ]
    },
    {
     "name": "stdout",
     "output_type": "stream",
     "text": [
      "[{'emotion': {'angry': 0.0006076420234923214, 'disgust': 1.4005143030664488e-10, 'fear': 93.78825500151456, 'happy': 0.1958067528314289, 'sad': 5.9008170335510925, 'surprise': 0.00638893758386, 'neutral': 0.10812033308725559}, 'dominant_emotion': 'fear', 'region': {'x': 146, 'y': 279, 'w': 156, 'h': 156}}]\n"
     ]
    },
    {
     "name": "stderr",
     "output_type": "stream",
     "text": [
      "Action: emotion: 100%|██████████| 1/1 [00:00<00:00, 12.57it/s]\n",
      "Action: emotion: 100%|██████████| 1/1 [00:00<00:00, 12.04it/s]\n"
     ]
    },
    {
     "name": "stdout",
     "output_type": "stream",
     "text": [
      "[{'emotion': {'angry': 9.100228391812255e-05, 'disgust': 1.363812773871799e-13, 'fear': 79.54411750505955, 'happy': 0.11444105566623143, 'sad': 13.681937613256261, 'surprise': 0.005780718167725089, 'neutral': 6.653626215025637}, 'dominant_emotion': 'fear', 'region': {'x': 140, 'y': 283, 'w': 157, 'h': 157}}, {'emotion': {'angry': 1.219965610653162, 'disgust': 4.790394427800493e-05, 'fear': 3.3904053270816803, 'happy': 51.532918214797974, 'sad': 42.97212362289429, 'surprise': 0.00011873481753355009, 'neutral': 0.8844179101288319}, 'dominant_emotion': 'happy', 'region': {'x': 265, 'y': 107, 'w': 97, 'h': 97}}]\n"
     ]
    },
    {
     "name": "stderr",
     "output_type": "stream",
     "text": [
      "Action: emotion: 100%|██████████| 1/1 [00:00<00:00, 11.69it/s]\n"
     ]
    },
    {
     "name": "stdout",
     "output_type": "stream",
     "text": [
      "[{'emotion': {'angry': 1.4233802445232868, 'disgust': 5.0548663921290427e-05, 'fear': 51.04755759239197, 'happy': 45.53530812263489, 'sad': 1.3304230757057667, 'surprise': 0.0016631785911158659, 'neutral': 0.6616213824599981}, 'dominant_emotion': 'fear', 'region': {'x': 0, 'y': 0, 'w': 640, 'h': 480}}]\n"
     ]
    },
    {
     "name": "stderr",
     "output_type": "stream",
     "text": [
      "Action: emotion: 100%|██████████| 1/1 [00:00<00:00, 11.45it/s]\n"
     ]
    },
    {
     "name": "stdout",
     "output_type": "stream",
     "text": [
      "[{'emotion': {'angry': 0.11924386490136385, 'disgust': 1.2686749428780786e-07, 'fear': 12.784697115421295, 'happy': 87.06958889961243, 'sad': 0.02476923109497875, 'surprise': 3.985009016105323e-05, 'neutral': 0.0016612022591289133}, 'dominant_emotion': 'happy', 'region': {'x': 0, 'y': 0, 'w': 640, 'h': 480}}]\n"
     ]
    },
    {
     "name": "stderr",
     "output_type": "stream",
     "text": [
      "Action: emotion: 100%|██████████| 1/1 [00:00<00:00, 12.41it/s]\n"
     ]
    },
    {
     "name": "stdout",
     "output_type": "stream",
     "text": [
      "[{'emotion': {'angry': 2.648967318236828, 'disgust': 1.0482028578451263e-06, 'fear': 36.80696189403534, 'happy': 60.46077013015747, 'sad': 0.07639339310117066, 'surprise': 0.00012087903087376617, 'neutral': 0.006791164196329191}, 'dominant_emotion': 'happy', 'region': {'x': 0, 'y': 0, 'w': 640, 'h': 480}}]\n"
     ]
    },
    {
     "name": "stderr",
     "output_type": "stream",
     "text": [
      "Action: emotion: 100%|██████████| 1/1 [00:00<00:00, 12.12it/s]\n"
     ]
    },
    {
     "name": "stdout",
     "output_type": "stream",
     "text": [
      "[{'emotion': {'angry': 0.00010852852483367315, 'disgust': 3.2134399850260176e-11, 'fear': 0.0055419168347725645, 'happy': 99.99063014984131, 'sad': 0.0012774981769325677, 'surprise': 1.8553404146359753e-06, 'neutral': 0.002444556594127789}, 'dominant_emotion': 'happy', 'region': {'x': 0, 'y': 0, 'w': 640, 'h': 480}}]\n"
     ]
    },
    {
     "name": "stderr",
     "output_type": "stream",
     "text": [
      "Action: emotion: 100%|██████████| 1/1 [00:00<00:00, 11.73it/s]\n",
      "Action: emotion: 100%|██████████| 1/1 [00:00<00:00, 12.26it/s]\n"
     ]
    },
    {
     "name": "stdout",
     "output_type": "stream",
     "text": [
      "[{'emotion': {'angry': 0.05411010092408067, 'disgust': 4.404801621761252e-05, 'fear': 1.5988462626246371, 'happy': 90.09281337814411, 'sad': 1.82722519798429, 'surprise': 0.0010795861915100984, 'neutral': 6.425879533641311}, 'dominant_emotion': 'happy', 'region': {'x': 41, 'y': 379, 'w': 60, 'h': 60}}, {'emotion': {'angry': 0.0002170291509173694, 'disgust': 1.2056718470820904e-11, 'fear': 22.46117889881134, 'happy': 0.025648364680819213, 'sad': 77.33544111251831, 'surprise': 2.1117682535987115e-05, 'neutral': 0.17749285325407982}, 'dominant_emotion': 'sad', 'region': {'x': 130, 'y': 295, 'w': 164, 'h': 164}}]\n"
     ]
    },
    {
     "name": "stderr",
     "output_type": "stream",
     "text": [
      "Action: emotion: 100%|██████████| 1/1 [00:00<00:00, 11.90it/s]\n",
      "Action: emotion: 100%|██████████| 1/1 [00:00<00:00, 11.89it/s]\n"
     ]
    },
    {
     "name": "stdout",
     "output_type": "stream",
     "text": [
      "[{'emotion': {'angry': 0.0005405962383520091, 'disgust': 2.603961967925783e-11, 'fear': 37.295135855674744, 'happy': 0.0965532090049237, 'sad': 62.08062767982483, 'surprise': 0.00019321084891998908, 'neutral': 0.5269535817205906}, 'dominant_emotion': 'sad', 'region': {'x': 133, 'y': 300, 'w': 166, 'h': 166}}, {'emotion': {'angry': 0.9079931303858757, 'disgust': 6.390494244890021e-08, 'fear': 0.17929612658917904, 'happy': 0.00288178871414857, 'sad': 5.861906707286835, 'surprise': 1.7177447375615884e-05, 'neutral': 93.0479109287262}, 'dominant_emotion': 'neutral', 'region': {'x': 587, 'y': 78, 'w': 47, 'h': 47}}]\n"
     ]
    },
    {
     "name": "stderr",
     "output_type": "stream",
     "text": [
      "Action: emotion: 100%|██████████| 1/1 [00:00<00:00, 10.92it/s]\n"
     ]
    },
    {
     "name": "stdout",
     "output_type": "stream",
     "text": [
      "[{'emotion': {'angry': 11.509385704994202, 'disgust': 2.5462844277512886e-06, 'fear': 1.5945978462696075, 'happy': 0.08383453241549432, 'sad': 11.216046661138535, 'surprise': 0.003805743108387105, 'neutral': 75.5923330783844}, 'dominant_emotion': 'neutral', 'region': {'x': 588, 'y': 78, 'w': 47, 'h': 47}}]\n"
     ]
    },
    {
     "name": "stderr",
     "output_type": "stream",
     "text": [
      "Action: emotion: 100%|██████████| 1/1 [00:00<00:00, 11.61it/s]\n",
      "Action: emotion: 100%|██████████| 1/1 [00:00<00:00, 12.26it/s]\n"
     ]
    },
    {
     "name": "stdout",
     "output_type": "stream",
     "text": [
      "[{'emotion': {'angry': 0.00046627859672656246, 'disgust': 1.5665491665983068e-11, 'fear': 71.05877744450838, 'happy': 0.008149554679968396, 'sad': 28.740119488225044, 'surprise': 1.8278800647895917e-05, 'neutral': 0.19246675108024466}, 'dominant_emotion': 'fear', 'region': {'x': 134, 'y': 304, 'w': 165, 'h': 165}}, {'emotion': {'angry': 2.3885026135148175, 'disgust': 1.4581535460012311e-08, 'fear': 0.22653081873242967, 'happy': 0.010841234971386416, 'sad': 3.7825255115345424, 'surprise': 0.00015484364225615803, 'neutral': 93.59144530245335}, 'dominant_emotion': 'neutral', 'region': {'x': 588, 'y': 77, 'w': 47, 'h': 47}}]\n"
     ]
    },
    {
     "name": "stderr",
     "output_type": "stream",
     "text": [
      "Action: emotion: 100%|██████████| 1/1 [00:00<00:00, 11.20it/s]\n",
      "Action: emotion: 100%|██████████| 1/1 [00:00<00:00, 11.17it/s]\n"
     ]
    },
    {
     "name": "stdout",
     "output_type": "stream",
     "text": [
      "[{'emotion': {'angry': 0.0008318189429701306, 'disgust': 1.46786445845426e-11, 'fear': 59.37787890434265, 'happy': 0.001747320311551448, 'sad': 40.44285714626312, 'surprise': 2.646362986524764e-05, 'neutral': 0.17665521008893847}, 'dominant_emotion': 'fear', 'region': {'x': 142, 'y': 309, 'w': 153, 'h': 153}}, {'emotion': {'angry': 0.5217590214615477, 'disgust': 2.2970529626432556e-09, 'fear': 0.2972085206036878, 'happy': 0.0044498427920415425, 'sad': 0.8657451303747374, 'surprise': 0.0004348206207363584, 'neutral': 98.31040491523773}, 'dominant_emotion': 'neutral', 'region': {'x': 588, 'y': 78, 'w': 46, 'h': 46}}]\n"
     ]
    },
    {
     "name": "stderr",
     "output_type": "stream",
     "text": [
      "Action: emotion: 100%|██████████| 1/1 [00:00<00:00, 11.63it/s]\n",
      "Action: emotion: 100%|██████████| 1/1 [00:00<00:00, 12.49it/s]\n"
     ]
    },
    {
     "name": "stdout",
     "output_type": "stream",
     "text": [
      "[{'emotion': {'angry': 0.0007851289410609752, 'disgust': 5.464644036758115e-11, 'fear': 50.48556923866272, 'happy': 0.0009884533028525766, 'sad': 49.46618974208832, 'surprise': 6.529133855792679e-06, 'neutral': 0.04646211164072156}, 'dominant_emotion': 'fear', 'region': {'x': 132, 'y': 307, 'w': 161, 'h': 161}}, {'emotion': {'angry': 0.7909359410405159, 'disgust': 2.5874188902541562e-08, 'fear': 0.29812382999807596, 'happy': 0.0073740462539717555, 'sad': 4.727308079600334, 'surprise': 0.00017037397128660814, 'neutral': 94.17608976364136}, 'dominant_emotion': 'neutral', 'region': {'x': 588, 'y': 78, 'w': 46, 'h': 46}}]\n"
     ]
    },
    {
     "name": "stderr",
     "output_type": "stream",
     "text": [
      "Action: emotion: 100%|██████████| 1/1 [00:00<00:00, 11.34it/s]\n",
      "Action: emotion: 100%|██████████| 1/1 [00:00<00:00, 13.12it/s]\n"
     ]
    },
    {
     "name": "stdout",
     "output_type": "stream",
     "text": [
      "[{'emotion': {'angry': 0.0003113869896097781, 'disgust': 7.469639540469976e-12, 'fear': 40.977038857583864, 'happy': 0.002867365925186629, 'sad': 58.90690790497159, 'surprise': 3.7773186773854045e-05, 'neutral': 0.11284634419189027}, 'dominant_emotion': 'sad', 'region': {'x': 122, 'y': 310, 'w': 161, 'h': 161}}, {'emotion': {'angry': 0.79704150557518, 'disgust': 3.282478178157078e-08, 'fear': 0.9634822607040405, 'happy': 0.02739301125984639, 'sad': 2.1061893552541733, 'surprise': 0.0009000248610391282, 'neutral': 96.10499143600464}, 'dominant_emotion': 'neutral', 'region': {'x': 587, 'y': 77, 'w': 48, 'h': 48}}]\n"
     ]
    },
    {
     "name": "stderr",
     "output_type": "stream",
     "text": [
      "Action: emotion: 100%|██████████| 1/1 [00:00<00:00, 11.97it/s]\n",
      "Action: emotion: 100%|██████████| 1/1 [00:00<00:00, 12.01it/s]\n"
     ]
    },
    {
     "name": "stdout",
     "output_type": "stream",
     "text": [
      "[{'emotion': {'angry': 0.0013300561477080919, 'disgust': 1.0094291532205049e-11, 'fear': 96.53622508049011, 'happy': 0.03689402074087411, 'sad': 2.4170642718672752, 'surprise': 0.0038806218071840703, 'neutral': 1.0046051815152168}, 'dominant_emotion': 'fear', 'region': {'x': 111, 'y': 303, 'w': 170, 'h': 170}}, {'emotion': {'angry': 0.9176388220323536, 'disgust': 1.0662082167342706e-07, 'fear': 0.1791883279233184, 'happy': 0.020424242141374394, 'sad': 2.051359170513252, 'surprise': 0.0006806022709425625, 'neutral': 96.83070816627644}, 'dominant_emotion': 'neutral', 'region': {'x': 589, 'y': 78, 'w': 46, 'h': 46}}]\n"
     ]
    },
    {
     "name": "stderr",
     "output_type": "stream",
     "text": [
      "Action: emotion: 100%|██████████| 1/1 [00:00<00:00, 11.62it/s]\n",
      "Action: emotion: 100%|██████████| 1/1 [00:00<00:00, 11.98it/s]\n"
     ]
    },
    {
     "name": "stdout",
     "output_type": "stream",
     "text": [
      "[{'emotion': {'angry': 0.0012071748642483726, 'disgust': 7.671600442578363e-12, 'fear': 85.60320138931274, 'happy': 0.10789410443976521, 'sad': 12.304309010505676, 'surprise': 0.002902884989453014, 'neutral': 1.980482041835785}, 'dominant_emotion': 'fear', 'region': {'x': 107, 'y': 297, 'w': 177, 'h': 177}}, {'emotion': {'angry': 1.0140955170577148, 'disgust': 2.2570768949938966e-08, 'fear': 0.2983470324534735, 'happy': 0.005049214212876354, 'sad': 7.320337614972876, 'surprise': 7.260557298053967e-05, 'neutral': 91.3620959088688}, 'dominant_emotion': 'neutral', 'region': {'x': 589, 'y': 77, 'w': 47, 'h': 47}}]\n"
     ]
    },
    {
     "name": "stderr",
     "output_type": "stream",
     "text": [
      "Action: emotion: 100%|██████████| 1/1 [00:00<00:00,  9.05it/s]\n",
      "Action: emotion: 100%|██████████| 1/1 [00:00<00:00,  9.43it/s]\n"
     ]
    },
    {
     "name": "stdout",
     "output_type": "stream",
     "text": [
      "[{'emotion': {'angry': 0.0035280429358079545, 'disgust': 8.252672926214459e-08, 'fear': 0.008788129867697425, 'happy': 58.84315722245915, 'sad': 0.019384373145270983, 'surprise': 0.0017448331294411983, 'neutral': 41.12339860936395}, 'dominant_emotion': 'happy', 'region': {'x': 61, 'y': 379, 'w': 58, 'h': 58}}, {'emotion': {'angry': 0.5144920200109482, 'disgust': 1.2793092141194506e-07, 'fear': 0.15777089865878224, 'happy': 0.021941514569334686, 'sad': 1.459229364991188, 'surprise': 0.0008066241207416169, 'neutral': 97.84576296806335}, 'dominant_emotion': 'neutral', 'region': {'x': 588, 'y': 77, 'w': 48, 'h': 48}}]\n"
     ]
    },
    {
     "name": "stderr",
     "output_type": "stream",
     "text": [
      "Action: emotion: 100%|██████████| 1/1 [00:00<00:00, 11.72it/s]\n"
     ]
    },
    {
     "name": "stdout",
     "output_type": "stream",
     "text": [
      "[{'emotion': {'angry': 0.17273565754294395, 'disgust': 1.6792457424585905e-07, 'fear': 0.3887110622599721, 'happy': 0.04691359936259687, 'sad': 1.699572615325451, 'surprise': 0.0006817957455496071, 'neutral': 97.69138693809509}, 'dominant_emotion': 'neutral', 'region': {'x': 590, 'y': 78, 'w': 43, 'h': 43}}]\n"
     ]
    },
    {
     "name": "stderr",
     "output_type": "stream",
     "text": [
      "Action: emotion: 100%|██████████| 1/1 [00:00<00:00, 11.83it/s]\n"
     ]
    },
    {
     "name": "stdout",
     "output_type": "stream",
     "text": [
      "[{'emotion': {'angry': 4.12089868620166e-05, 'disgust': 1.3669938851353334e-14, 'fear': 86.10515760121851, 'happy': 0.516764478622141, 'sad': 8.228718998584867, 'surprise': 0.005154406721341367, 'neutral': 5.144155902367126}, 'dominant_emotion': 'fear', 'region': {'x': 97, 'y': 267, 'w': 191, 'h': 191}}]\n"
     ]
    },
    {
     "name": "stderr",
     "output_type": "stream",
     "text": [
      "Action: emotion: 100%|██████████| 1/1 [00:00<00:00, 11.49it/s]\n"
     ]
    },
    {
     "name": "stdout",
     "output_type": "stream",
     "text": [
      "[{'emotion': {'angry': 4.475741377518716e-05, 'disgust': 3.618903930263165e-15, 'fear': 67.47941970825195, 'happy': 0.0981308170594275, 'sad': 12.469381093978882, 'surprise': 0.00226690863200929, 'neutral': 19.950753450393677}, 'dominant_emotion': 'fear', 'region': {'x': 68, 'y': 216, 'w': 211, 'h': 211}}]\n"
     ]
    },
    {
     "name": "stderr",
     "output_type": "stream",
     "text": [
      "Action: emotion: 100%|██████████| 1/1 [00:00<00:00, 12.18it/s]\n"
     ]
    },
    {
     "name": "stdout",
     "output_type": "stream",
     "text": [
      "[{'emotion': {'angry': 0.0049293619667878374, 'disgust': 2.685437863834267e-11, 'fear': 20.649510622024536, 'happy': 0.09263975080102682, 'sad': 1.54472840949893, 'surprise': 0.4294562619179487, 'neutral': 77.278733253479}, 'dominant_emotion': 'neutral', 'region': {'x': 76, 'y': 227, 'w': 210, 'h': 210}}]\n"
     ]
    },
    {
     "name": "stderr",
     "output_type": "stream",
     "text": [
      "Action: emotion: 100%|██████████| 1/1 [00:00<00:00, 12.00it/s]\n"
     ]
    },
    {
     "name": "stdout",
     "output_type": "stream",
     "text": [
      "[{'emotion': {'angry': 1.165910035183515e-05, 'disgust': 4.8098386440729436e-17, 'fear': 70.74810266494751, 'happy': 0.055735319619998336, 'sad': 12.08752915263176, 'surprise': 0.000834798083815258, 'neutral': 17.107783257961273}, 'dominant_emotion': 'fear', 'region': {'x': 73, 'y': 209, 'w': 209, 'h': 209}}]\n"
     ]
    },
    {
     "name": "stderr",
     "output_type": "stream",
     "text": [
      "Action: emotion: 100%|██████████| 1/1 [00:00<00:00, 10.31it/s]\n",
      "Action: emotion: 100%|██████████| 1/1 [00:00<00:00, 11.97it/s]\n"
     ]
    },
    {
     "name": "stdout",
     "output_type": "stream",
     "text": [
      "[{'emotion': {'angry': 0.013024951525588425, 'disgust': 4.096694616805971e-08, 'fear': 0.37584444419857527, 'happy': 90.07996261596458, 'sad': 0.21609097144549916, 'surprise': 0.0010627468051535966, 'neutral': 9.314019043089095}, 'dominant_emotion': 'happy', 'region': {'x': 26, 'y': 290, 'w': 56, 'h': 56}}, {'emotion': {'angry': 0.0001597314849277609, 'disgust': 3.050533308301403e-14, 'fear': 17.340750992298126, 'happy': 0.006736523209838197, 'sad': 13.675813376903534, 'surprise': 0.0008182102646969724, 'neutral': 68.9757227897644}, 'dominant_emotion': 'neutral', 'region': {'x': 82, 'y': 228, 'w': 202, 'h': 202}}]\n"
     ]
    },
    {
     "name": "stderr",
     "output_type": "stream",
     "text": [
      "Action: emotion: 100%|██████████| 1/1 [00:00<00:00, 12.57it/s]\n"
     ]
    },
    {
     "name": "stdout",
     "output_type": "stream",
     "text": [
      "[{'emotion': {'angry': 4.141337475545418e-05, 'disgust': 1.1940034422435857e-13, 'fear': 11.370892755442426, 'happy': 2.4782759683296662, 'sad': 5.8999489784210315, 'surprise': 0.004799493685404394, 'neutral': 80.24604202783358}, 'dominant_emotion': 'neutral', 'region': {'x': 105, 'y': 247, 'w': 191, 'h': 191}}]\n"
     ]
    },
    {
     "name": "stderr",
     "output_type": "stream",
     "text": [
      "Action: emotion: 100%|██████████| 1/1 [00:00<00:00, 11.56it/s]\n"
     ]
    },
    {
     "name": "stdout",
     "output_type": "stream",
     "text": [
      "[{'emotion': {'angry': 5.5801069720473606e-05, 'disgust': 2.652820899318967e-14, 'fear': 55.35452961921692, 'happy': 0.12008484918624163, 'sad': 7.936523854732513, 'surprise': 0.017410227155778557, 'neutral': 36.57139837741852}, 'dominant_emotion': 'fear', 'region': {'x': 86, 'y': 229, 'w': 183, 'h': 183}}]\n"
     ]
    },
    {
     "name": "stderr",
     "output_type": "stream",
     "text": [
      "Action: emotion: 100%|██████████| 1/1 [00:00<00:00, 11.69it/s]\n"
     ]
    },
    {
     "name": "stdout",
     "output_type": "stream",
     "text": [
      "[{'emotion': {'angry': 1.0986958187686469e-05, 'disgust': 1.7371184947223931e-15, 'fear': 64.13047909736633, 'happy': 0.03456827253103256, 'sad': 27.63649821281433, 'surprise': 0.00016176010149138165, 'neutral': 8.198276162147522}, 'dominant_emotion': 'fear', 'region': {'x': 66, 'y': 172, 'w': 195, 'h': 195}}]\n"
     ]
    },
    {
     "name": "stderr",
     "output_type": "stream",
     "text": [
      "Action: emotion: 100%|██████████| 1/1 [00:00<00:00, 10.81it/s]\n"
     ]
    },
    {
     "name": "stdout",
     "output_type": "stream",
     "text": [
      "[{'emotion': {'angry': 75.15529694024288, 'disgust': 0.0024879587054799446, 'fear': 11.112435741714924, 'happy': 4.298112308754004, 'sad': 4.497281998071909, 'surprise': 0.005428938231108797, 'neutral': 4.928961611266328}, 'dominant_emotion': 'angry', 'region': {'x': 0, 'y': 0, 'w': 640, 'h': 480}}]\n"
     ]
    },
    {
     "name": "stderr",
     "output_type": "stream",
     "text": [
      "Action: emotion: 100%|██████████| 1/1 [00:00<00:00, 11.83it/s]\n"
     ]
    },
    {
     "name": "stdout",
     "output_type": "stream",
     "text": [
      "[{'emotion': {'angry': 2.93330603787971, 'disgust': 0.04771691733763127, 'fear': 50.875359877986895, 'happy': 2.053054853147847, 'sad': 27.981931326619545, 'surprise': 0.060515043089096915, 'neutral': 16.048120385184333}, 'dominant_emotion': 'fear', 'region': {'x': 0, 'y': 0, 'w': 640, 'h': 480}}]\n"
     ]
    },
    {
     "name": "stderr",
     "output_type": "stream",
     "text": [
      "Action: emotion: 100%|██████████| 1/1 [00:00<00:00,  8.37it/s]\n",
      "Action: emotion: 100%|██████████| 1/1 [00:00<00:00,  8.51it/s]\n"
     ]
    },
    {
     "name": "stdout",
     "output_type": "stream",
     "text": [
      "[{'emotion': {'angry': 0.00207088978640968, 'disgust': 3.756858366066318e-09, 'fear': 98.77402186393738, 'happy': 0.7530802860856056, 'sad': 0.4061137791723013, 'surprise': 0.005148614582139999, 'neutral': 0.059567211428657174}, 'dominant_emotion': 'fear', 'region': {'x': 92, 'y': 196, 'w': 178, 'h': 178}}, {'emotion': {'angry': 0.0014629380455064307, 'disgust': 3.7045410221615155e-10, 'fear': 0.2913952221149471, 'happy': 72.83665214021828, 'sad': 0.27724801142490046, 'surprise': 0.0027670863007074656, 'neutral': 26.590478609857392}, 'dominant_emotion': 'happy', 'region': {'x': 31, 'y': 262, 'w': 54, 'h': 54}}]\n"
     ]
    },
    {
     "name": "stderr",
     "output_type": "stream",
     "text": [
      "Action: emotion: 100%|██████████| 1/1 [00:00<00:00,  8.23it/s]\n",
      "Action: emotion: 100%|██████████| 1/1 [00:00<00:00, 11.21it/s]\n"
     ]
    },
    {
     "name": "stdout",
     "output_type": "stream",
     "text": [
      "[{'emotion': {'angry': 0.004497536256620995, 'disgust': 1.5716283066599062e-07, 'fear': 93.82552578144958, 'happy': 2.3971714947019227, 'sad': 3.1840756465106432, 'surprise': 0.01153509082366561, 'neutral': 0.5771884472294513}, 'dominant_emotion': 'fear', 'region': {'x': 103, 'y': 198, 'w': 182, 'h': 182}}, {'emotion': {'angry': 0.006868811033200473, 'disgust': 5.095965871504404e-08, 'fear': 6.02814145386219, 'happy': 1.039324514567852, 'sad': 4.422665014863014, 'surprise': 0.00028253068649064517, 'neutral': 88.50271701812744}, 'dominant_emotion': 'neutral', 'region': {'x': 37, 'y': 261, 'w': 58, 'h': 58}}]\n"
     ]
    },
    {
     "name": "stderr",
     "output_type": "stream",
     "text": [
      "Action: emotion: 100%|██████████| 1/1 [00:00<00:00,  7.87it/s]\n",
      "Action: emotion: 100%|██████████| 1/1 [00:00<00:00,  5.79it/s]\n"
     ]
    },
    {
     "name": "stdout",
     "output_type": "stream",
     "text": [
      "[{'emotion': {'angry': 0.02101424615830183, 'disgust': 2.5167118389290977e-08, 'fear': 6.912148743867874, 'happy': 2.4030856788158417, 'sad': 1.2078029103577137, 'surprise': 0.013450862024910748, 'neutral': 89.44249749183655}, 'dominant_emotion': 'neutral', 'region': {'x': 41, 'y': 262, 'w': 53, 'h': 53}}, {'emotion': {'angry': 0.002569713126997668, 'disgust': 1.5935688367683653e-08, 'fear': 97.14251790731932, 'happy': 0.4750190202124095, 'sad': 2.2022645157856324, 'surprise': 0.0038535886186786524, 'neutral': 0.1737761104075777}, 'dominant_emotion': 'fear', 'region': {'x': 91, 'y': 190, 'w': 188, 'h': 188}}]\n"
     ]
    },
    {
     "name": "stderr",
     "output_type": "stream",
     "text": [
      "Action: emotion: 100%|██████████| 1/1 [00:00<00:00,  6.51it/s]\n",
      "Action: emotion: 100%|██████████| 1/1 [00:00<00:00,  8.27it/s]\n"
     ]
    },
    {
     "name": "stdout",
     "output_type": "stream",
     "text": [
      "[{'emotion': {'angry': 0.015588075094983733, 'disgust': 2.349755641341595e-07, 'fear': 91.08291811245192, 'happy': 0.48357861204913927, 'sad': 7.080283437984194, 'surprise': 0.002925941764037379, 'neutral': 1.3347073322360117}, 'dominant_emotion': 'fear', 'region': {'x': 82, 'y': 186, 'w': 188, 'h': 188}}, {'emotion': {'angry': 0.07509147981181741, 'disgust': 1.2709048036185777e-06, 'fear': 3.0449509620666504, 'happy': 84.90648865699768, 'sad': 0.6562804337590933, 'surprise': 0.008966841414803639, 'neutral': 11.308223754167557}, 'dominant_emotion': 'happy', 'region': {'x': 345, 'y': 258, 'w': 62, 'h': 62}}]\n"
     ]
    },
    {
     "name": "stderr",
     "output_type": "stream",
     "text": [
      "Action: emotion: 100%|██████████| 1/1 [00:00<00:00,  8.97it/s]\n"
     ]
    },
    {
     "name": "stdout",
     "output_type": "stream",
     "text": [
      "[{'emotion': {'angry': 0.0005795069009374206, 'disgust': 1.0825218749009893e-09, 'fear': 99.14771904322136, 'happy': 0.4219123199626589, 'sad': 0.42495835050444014, 'surprise': 0.0012352193715766348, 'neutral': 0.0036006583031353194}, 'dominant_emotion': 'fear', 'region': {'x': 95, 'y': 189, 'w': 191, 'h': 191}}]\n"
     ]
    },
    {
     "name": "stderr",
     "output_type": "stream",
     "text": [
      "Action: emotion: 100%|██████████| 1/1 [00:00<00:00,  8.29it/s]\n",
      "Action: emotion: 100%|██████████| 1/1 [00:00<00:00,  9.66it/s]\n"
     ]
    },
    {
     "name": "stdout",
     "output_type": "stream",
     "text": [
      "[{'emotion': {'angry': 0.011108518810942769, 'disgust': 1.8444038518694583e-07, 'fear': 27.981671690940857, 'happy': 71.80131077766418, 'sad': 0.1872736494988203, 'surprise': 0.012868497287854552, 'neutral': 0.00577094906475395}, 'dominant_emotion': 'happy', 'region': {'x': 95, 'y': 190, 'w': 195, 'h': 195}}, {'emotion': {'angry': 0.55179288610816, 'disgust': 1.277414085620876e-06, 'fear': 0.4848700016736984, 'happy': 0.050796737195923924, 'sad': 12.018222361803055, 'surprise': 0.00044741991587216035, 'neutral': 86.8938684463501}, 'dominant_emotion': 'neutral', 'region': {'x': 122, 'y': 33, 'w': 48, 'h': 48}}]\n"
     ]
    },
    {
     "name": "stderr",
     "output_type": "stream",
     "text": [
      "Action: emotion: 100%|██████████| 1/1 [00:00<00:00, 10.25it/s]\n",
      "Action: emotion: 100%|██████████| 1/1 [00:00<00:00, 10.25it/s]\n"
     ]
    },
    {
     "name": "stdout",
     "output_type": "stream",
     "text": [
      "[{'emotion': {'angry': 0.022222346160560846, 'disgust': 1.3312237978624353e-07, 'fear': 93.09484362602234, 'happy': 6.6059499979019165, 'sad': 0.2709540072828531, 'surprise': 0.004917950718663633, 'neutral': 0.0011073280802520458}, 'dominant_emotion': 'fear', 'region': {'x': 92, 'y': 198, 'w': 192, 'h': 192}}, {'emotion': {'angry': 2.2181007229565712, 'disgust': 9.57030451819871e-09, 'fear': 0.17132443894676103, 'happy': 0.006053342082465266, 'sad': 13.100258934466966, 'surprise': 0.00010609054342648987, 'neutral': 84.50415319154821}, 'dominant_emotion': 'neutral', 'region': {'x': 121, 'y': 29, 'w': 52, 'h': 52}}]\n"
     ]
    },
    {
     "name": "stderr",
     "output_type": "stream",
     "text": [
      "Action: emotion: 100%|██████████| 1/1 [00:00<00:00,  9.47it/s]\n",
      "Action: emotion: 100%|██████████| 1/1 [00:00<00:00,  9.56it/s]\n"
     ]
    },
    {
     "name": "stdout",
     "output_type": "stream",
     "text": [
      "[{'emotion': {'angry': 0.015052415255922824, 'disgust': 1.9165843911927993e-08, 'fear': 92.43239760398865, 'happy': 6.86519667506218, 'sad': 0.6837102118879557, 'surprise': 0.0010335911611036863, 'neutral': 0.0026104891730938107}, 'dominant_emotion': 'fear', 'region': {'x': 79, 'y': 191, 'w': 210, 'h': 210}}, {'emotion': {'angry': 5.380401335978588, 'disgust': 6.909099127182999e-05, 'fear': 1.6079443533983442, 'happy': 0.08447854119038828, 'sad': 15.542034241082325, 'surprise': 0.0062296490871324595, 'neutral': 77.37884386651777}, 'dominant_emotion': 'neutral', 'region': {'x': 129, 'y': 28, 'w': 49, 'h': 49}}]\n"
     ]
    },
    {
     "name": "stderr",
     "output_type": "stream",
     "text": [
      "Action: emotion: 100%|██████████| 1/1 [00:00<00:00, 10.26it/s]\n",
      "Action: emotion: 100%|██████████| 1/1 [00:00<00:00, 10.15it/s]\n"
     ]
    },
    {
     "name": "stdout",
     "output_type": "stream",
     "text": [
      "[{'emotion': {'angry': 0.22971464786678553, 'disgust': 1.1384784670553927e-05, 'fear': 57.07979202270508, 'happy': 41.17836654186249, 'sad': 1.4761227183043957, 'surprise': 0.029785485821776092, 'neutral': 0.006204727105796337}, 'dominant_emotion': 'fear', 'region': {'x': 83, 'y': 192, 'w': 201, 'h': 201}}, {'emotion': {'angry': 25.577688217163086, 'disgust': 0.0054178599384613335, 'fear': 23.253832757472992, 'happy': 0.20331826526671648, 'sad': 39.43818807601929, 'surprise': 0.08427001303061843, 'neutral': 11.43728494644165}, 'dominant_emotion': 'sad', 'region': {'x': 133, 'y': 27, 'w': 49, 'h': 49}}]\n"
     ]
    },
    {
     "name": "stderr",
     "output_type": "stream",
     "text": [
      "Action: emotion: 100%|██████████| 1/1 [00:00<00:00,  9.47it/s]\n",
      "Action: emotion: 100%|██████████| 1/1 [00:00<00:00, 10.80it/s]\n"
     ]
    },
    {
     "name": "stdout",
     "output_type": "stream",
     "text": [
      "[{'emotion': {'angry': 0.08427068983516814, 'disgust': 4.504898139290609e-07, 'fear': 72.65794603133845, 'happy': 26.97757160930972, 'sad': 0.243923132100924, 'surprise': 0.03507744859446453, 'neutral': 0.0012065343451987522}, 'dominant_emotion': 'fear', 'region': {'x': 85, 'y': 192, 'w': 201, 'h': 201}}, {'emotion': {'angry': 9.659458696842194, 'disgust': 0.0010882137758017052, 'fear': 5.1783498376607895, 'happy': 0.2477304544299841, 'sad': 42.56318509578705, 'surprise': 0.01516990305390209, 'neutral': 42.335015535354614}, 'dominant_emotion': 'sad', 'region': {'x': 135, 'y': 27, 'w': 49, 'h': 49}}]\n"
     ]
    },
    {
     "name": "stderr",
     "output_type": "stream",
     "text": [
      "Action: emotion: 100%|██████████| 1/1 [00:00<00:00,  9.30it/s]\n"
     ]
    },
    {
     "name": "stdout",
     "output_type": "stream",
     "text": [
      "[{'emotion': {'angry': 2.5123757876381747, 'disgust': 1.9808028399110253e-05, 'fear': 0.2489243549584958, 'happy': 0.01812572699044508, 'sad': 7.117875344626626, 'surprise': 0.0019161910364159627, 'neutral': 90.10076463823108}, 'dominant_emotion': 'neutral', 'region': {'x': 138, 'y': 28, 'w': 47, 'h': 47}}]\n"
     ]
    },
    {
     "name": "stderr",
     "output_type": "stream",
     "text": [
      "Action: emotion: 100%|██████████| 1/1 [00:00<00:00,  8.96it/s]\n",
      "Action: emotion: 100%|██████████| 1/1 [00:00<00:00, 10.64it/s]\n"
     ]
    },
    {
     "name": "stdout",
     "output_type": "stream",
     "text": [
      "[{'emotion': {'angry': 0.002779904720562328, 'disgust': 1.4518149699243537e-09, 'fear': 83.20994176983139, 'happy': 16.577588507841647, 'sad': 0.1699149927581838, 'surprise': 0.038340392552847276, 'neutral': 0.0014347300639682898}, 'dominant_emotion': 'fear', 'region': {'x': 98, 'y': 192, 'w': 196, 'h': 196}}, {'emotion': {'angry': 10.2405662547867, 'disgust': 0.00013413893604423844, 'fear': 7.63836784501459, 'happy': 0.008193674626489773, 'sad': 26.79945805079245, 'surprise': 0.004852333371668429, 'neutral': 55.30842479366961}, 'dominant_emotion': 'neutral', 'region': {'x': 139, 'y': 29, 'w': 47, 'h': 47}}]\n"
     ]
    },
    {
     "name": "stderr",
     "output_type": "stream",
     "text": [
      "Action: emotion: 100%|██████████| 1/1 [00:00<00:00,  9.13it/s]\n"
     ]
    },
    {
     "name": "stdout",
     "output_type": "stream",
     "text": [
      "[{'emotion': {'angry': 2.308806542086991, 'disgust': 0.00013594365910576348, 'fear': 1.843148020991565, 'happy': 0.07816694444295433, 'sad': 19.779562638971964, 'surprise': 0.011650766794941458, 'neutral': 75.97852802148628}, 'dominant_emotion': 'neutral', 'region': {'x': 140, 'y': 28, 'w': 48, 'h': 48}}]\n"
     ]
    },
    {
     "name": "stderr",
     "output_type": "stream",
     "text": [
      "Action: emotion: 100%|██████████| 1/1 [00:00<00:00,  8.81it/s]\n"
     ]
    },
    {
     "name": "stdout",
     "output_type": "stream",
     "text": [
      "[{'emotion': {'angry': 4.111098498106003, 'disgust': 0.00038252887861744966, 'fear': 4.230742529034615, 'happy': 0.07959245704114437, 'sad': 23.109719157218933, 'surprise': 0.01673561055213213, 'neutral': 68.45172643661499}, 'dominant_emotion': 'neutral', 'region': {'x': 141, 'y': 29, 'w': 46, 'h': 46}}]\n"
     ]
    },
    {
     "name": "stderr",
     "output_type": "stream",
     "text": [
      "Action: emotion: 100%|██████████| 1/1 [00:00<00:00,  9.57it/s]\n",
      "Action: emotion: 100%|██████████| 1/1 [00:00<00:00,  9.13it/s]\n"
     ]
    },
    {
     "name": "stdout",
     "output_type": "stream",
     "text": [
      "[{'emotion': {'angry': 0.08869399845266333, 'disgust': 9.626196414205795e-07, 'fear': 49.099504893988666, 'happy': 50.53837004532635, 'sad': 0.08016622055381362, 'surprise': 0.19285710281026977, 'neutral': 0.00040677457642084724}, 'dominant_emotion': 'happy', 'region': {'x': 91, 'y': 194, 'w': 201, 'h': 201}}, {'emotion': {'angry': 14.612980438826137, 'disgust': 0.013867828436272257, 'fear': 26.658225257185133, 'happy': 0.1602567341298442, 'sad': 36.35624484494267, 'surprise': 0.09052430310948827, 'neutral': 22.107907784927818}, 'dominant_emotion': 'sad', 'region': {'x': 142, 'y': 29, 'w': 46, 'h': 46}}]\n"
     ]
    },
    {
     "name": "stderr",
     "output_type": "stream",
     "text": [
      "Action: emotion: 100%|██████████| 1/1 [00:00<00:00,  9.85it/s]\n",
      "Action: emotion: 100%|██████████| 1/1 [00:00<00:00, 10.81it/s]\n"
     ]
    },
    {
     "name": "stdout",
     "output_type": "stream",
     "text": [
      "[{'emotion': {'angry': 0.007304547034436837, 'disgust': 3.165180062492112e-08, 'fear': 76.1158287525177, 'happy': 23.782426118850708, 'sad': 0.08112553041428328, 'surprise': 0.01254410162800923, 'neutral': 0.0007677308531128801}, 'dominant_emotion': 'fear', 'region': {'x': 91, 'y': 198, 'w': 198, 'h': 198}}, {'emotion': {'angry': 7.830734550952911, 'disgust': 0.00286454196611885, 'fear': 6.497424095869064, 'happy': 0.049690535524860024, 'sad': 16.13653004169464, 'surprise': 0.021890968491788954, 'neutral': 69.46086287498474}, 'dominant_emotion': 'neutral', 'region': {'x': 143, 'y': 29, 'w': 45, 'h': 45}}]\n"
     ]
    },
    {
     "name": "stderr",
     "output_type": "stream",
     "text": [
      "Action: emotion: 100%|██████████| 1/1 [00:00<00:00, 10.42it/s]\n",
      "Action: emotion: 100%|██████████| 1/1 [00:00<00:00, 12.31it/s]\n"
     ]
    },
    {
     "name": "stdout",
     "output_type": "stream",
     "text": [
      "[{'emotion': {'angry': 0.0056278386182384565, 'disgust': 3.160389505652006e-07, 'fear': 84.02443528175354, 'happy': 13.88327181339264, 'sad': 1.9834401085972786, 'surprise': 0.008261144830612466, 'neutral': 0.09496797574684024}, 'dominant_emotion': 'fear', 'region': {'x': 98, 'y': 205, 'w': 190, 'h': 190}}, {'emotion': {'angry': 6.5732881041421765, 'disgust': 0.009137211966269527, 'fear': 11.203301107489931, 'happy': 0.1862263434222229, 'sad': 37.49600499916017, 'surprise': 0.07528387043966407, 'neutral': 44.45675379553392}, 'dominant_emotion': 'neutral', 'region': {'x': 143, 'y': 30, 'w': 45, 'h': 45}}]\n"
     ]
    },
    {
     "name": "stderr",
     "output_type": "stream",
     "text": [
      "Action: emotion: 100%|██████████| 1/1 [00:00<00:00, 11.22it/s]\n",
      "Action: emotion: 100%|██████████| 1/1 [00:00<00:00,  4.12it/s]\n"
     ]
    },
    {
     "name": "stdout",
     "output_type": "stream",
     "text": [
      "[{'emotion': {'angry': 0.2565100323408842, 'disgust': 0.0008884749149729032, 'fear': 84.50890183448792, 'happy': 5.578776076436043, 'sad': 6.7764416337013245, 'surprise': 0.1801894628442824, 'neutral': 2.698300965130329}, 'dominant_emotion': 'fear', 'region': {'x': 99, 'y': 207, 'w': 190, 'h': 190}}, {'emotion': {'angry': 7.581933001510262, 'disgust': 0.0009398102731054788, 'fear': 12.766434284023557, 'happy': 0.12149042734017101, 'sad': 28.844595413755822, 'surprise': 0.037708699658246296, 'neutral': 50.6469012077929}, 'dominant_emotion': 'neutral', 'region': {'x': 141, 'y': 28, 'w': 49, 'h': 49}}]\n"
     ]
    },
    {
     "name": "stderr",
     "output_type": "stream",
     "text": [
      "Action: emotion: 100%|██████████| 1/1 [00:00<00:00, 11.29it/s]\n"
     ]
    },
    {
     "name": "stdout",
     "output_type": "stream",
     "text": [
      "[{'emotion': {'angry': 3.8088060915470123, 'disgust': 0.00023699321900494397, 'fear': 4.897089302539825, 'happy': 0.054027780424803495, 'sad': 19.93003934621811, 'surprise': 0.009407819015905261, 'neutral': 71.3003933429718}, 'dominant_emotion': 'neutral', 'region': {'x': 142, 'y': 29, 'w': 47, 'h': 47}}]\n"
     ]
    },
    {
     "name": "stderr",
     "output_type": "stream",
     "text": [
      "Action: emotion: 100%|██████████| 1/1 [00:00<00:00, 12.50it/s]\n",
      "Action: emotion: 100%|██████████| 1/1 [00:00<00:00, 13.07it/s]\n"
     ]
    },
    {
     "name": "stdout",
     "output_type": "stream",
     "text": [
      "[{'emotion': {'angry': 0.10891321715050545, 'disgust': 2.652689691052131e-05, 'fear': 80.07970810886718, 'happy': 1.2325957955534215, 'sad': 11.367846145373123, 'surprise': 0.01657997542967727, 'neutral': 7.194332145968931}, 'dominant_emotion': 'fear', 'region': {'x': 94, 'y': 197, 'w': 201, 'h': 201}}, {'emotion': {'angry': 7.581432908773422, 'disgust': 0.001962612623174209, 'fear': 7.812346518039703, 'happy': 0.0822327216155827, 'sad': 31.261995434761047, 'surprise': 0.041430542478337884, 'neutral': 53.21860313415527}, 'dominant_emotion': 'neutral', 'region': {'x': 142, 'y': 29, 'w': 46, 'h': 46}}]\n"
     ]
    },
    {
     "name": "stderr",
     "output_type": "stream",
     "text": [
      "Action: emotion: 100%|██████████| 1/1 [00:00<00:00, 11.78it/s]\n",
      "Action: emotion: 100%|██████████| 1/1 [00:00<00:00, 12.82it/s]\n"
     ]
    },
    {
     "name": "stdout",
     "output_type": "stream",
     "text": [
      "[{'emotion': {'angry': 0.16078776474149614, 'disgust': 3.893132946032311e-05, 'fear': 84.52408817554046, 'happy': 3.2322043616893508, 'sad': 7.42081820492853, 'surprise': 0.09715138582297479, 'neutral': 4.564914006883741}, 'dominant_emotion': 'fear', 'region': {'x': 94, 'y': 197, 'w': 203, 'h': 203}}, {'emotion': {'angry': 1.764000579714775, 'disgust': 2.8696129561467387e-05, 'fear': 3.266150876879692, 'happy': 0.01575638889335096, 'sad': 23.355866968631744, 'surprise': 0.003403628579690121, 'neutral': 71.59479260444641}, 'dominant_emotion': 'neutral', 'region': {'x': 143, 'y': 30, 'w': 44, 'h': 44}}]\n"
     ]
    },
    {
     "name": "stderr",
     "output_type": "stream",
     "text": [
      "Action: emotion: 100%|██████████| 1/1 [00:00<00:00, 12.26it/s]\n",
      "Action: emotion: 100%|██████████| 1/1 [00:00<00:00, 12.51it/s]\n"
     ]
    },
    {
     "name": "stdout",
     "output_type": "stream",
     "text": [
      "[{'emotion': {'angry': 0.1372638473146467, 'disgust': 2.8506291294605314e-05, 'fear': 89.92202221882475, 'happy': 0.5901932602490938, 'sad': 7.3966112671262785, 'surprise': 0.01898586892298945, 'neutral': 1.93489540725323}, 'dominant_emotion': 'fear', 'region': {'x': 94, 'y': 196, 'w': 202, 'h': 202}}, {'emotion': {'angry': 10.87302714586258, 'disgust': 7.475034067283559e-05, 'fear': 17.65333116054535, 'happy': 0.07585019920952618, 'sad': 36.386385560035706, 'surprise': 0.06624780944548547, 'neutral': 34.945088624954224}, 'dominant_emotion': 'sad', 'region': {'x': 143, 'y': 30, 'w': 45, 'h': 45}}]\n"
     ]
    },
    {
     "name": "stderr",
     "output_type": "stream",
     "text": [
      "Action: emotion: 100%|██████████| 1/1 [00:00<00:00, 12.59it/s]\n",
      "Action: emotion: 100%|██████████| 1/1 [00:00<00:00, 12.50it/s]\n"
     ]
    },
    {
     "name": "stdout",
     "output_type": "stream",
     "text": [
      "[{'emotion': {'angry': 0.0727016566732786, 'disgust': 4.455811898963314e-06, 'fear': 85.82545091802467, 'happy': 0.17555213070411912, 'sad': 11.144989890457405, 'surprise': 0.009540812924994105, 'neutral': 2.771753114848958}, 'dominant_emotion': 'fear', 'region': {'x': 96, 'y': 196, 'w': 203, 'h': 203}}, {'emotion': {'angry': 8.808970976410567, 'disgust': 0.00014930314799560721, 'fear': 7.587857251635626, 'happy': 0.009182181931249466, 'sad': 40.747045919123046, 'surprise': 0.0016402506912486109, 'neutral': 42.84515636236407}, 'dominant_emotion': 'neutral', 'region': {'x': 142, 'y': 29, 'w': 46, 'h': 46}}]\n"
     ]
    },
    {
     "name": "stderr",
     "output_type": "stream",
     "text": [
      "Action: emotion: 100%|██████████| 1/1 [00:00<00:00, 10.93it/s]\n",
      "Action: emotion: 100%|██████████| 1/1 [00:00<00:00, 12.78it/s]\n"
     ]
    },
    {
     "name": "stdout",
     "output_type": "stream",
     "text": [
      "[{'emotion': {'angry': 0.07607393199577928, 'disgust': 3.5912133711235583e-06, 'fear': 93.38163733482361, 'happy': 1.2874097563326359, 'sad': 2.372261695563793, 'surprise': 0.0491368118673563, 'neutral': 2.8334757313132286}, 'dominant_emotion': 'fear', 'region': {'x': 99, 'y': 197, 'w': 195, 'h': 195}}, {'emotion': {'angry': 7.116056978702545, 'disgust': 0.0002193930640714825, 'fear': 4.13103885948658, 'happy': 0.038797949673607945, 'sad': 38.7594997882843, 'surprise': 0.00532397061761003, 'neutral': 49.94907081127167}, 'dominant_emotion': 'neutral', 'region': {'x': 142, 'y': 29, 'w': 46, 'h': 46}}]\n"
     ]
    },
    {
     "name": "stderr",
     "output_type": "stream",
     "text": [
      "Action: emotion: 100%|██████████| 1/1 [00:00<00:00, 11.97it/s]\n",
      "Action: emotion: 100%|██████████| 1/1 [00:00<00:00, 10.25it/s]\n"
     ]
    },
    {
     "name": "stdout",
     "output_type": "stream",
     "text": [
      "[{'emotion': {'angry': 0.11886002030223608, 'disgust': 3.6184411023043594e-07, 'fear': 20.384949445724487, 'happy': 3.1362637877464294, 'sad': 2.9280072078108788, 'surprise': 2.022997848689556, 'neutral': 71.40892148017883}, 'dominant_emotion': 'neutral', 'region': {'x': 100, 'y': 207, 'w': 193, 'h': 193}}, {'emotion': {'angry': 7.443214952945709, 'disgust': 0.04909850540570915, 'fear': 23.486264050006866, 'happy': 0.20017807837575674, 'sad': 41.95168912410736, 'surprise': 0.01647372409934178, 'neutral': 26.853075623512268}, 'dominant_emotion': 'sad', 'region': {'x': 143, 'y': 29, 'w': 45, 'h': 45}}]\n"
     ]
    },
    {
     "name": "stderr",
     "output_type": "stream",
     "text": [
      "Action: emotion: 100%|██████████| 1/1 [00:00<00:00,  9.21it/s]\n",
      "Action: emotion: 100%|██████████| 1/1 [00:00<00:00, 11.78it/s]\n"
     ]
    },
    {
     "name": "stdout",
     "output_type": "stream",
     "text": [
      "[{'emotion': {'angry': 0.06574025408853541, 'disgust': 4.1738629795005923e-07, 'fear': 6.520015714166675, 'happy': 0.7385621363893585, 'sad': 2.1242925227531764, 'surprise': 0.5149334520925937, 'neutral': 90.0364530043062}, 'dominant_emotion': 'neutral', 'region': {'x': 95, 'y': 200, 'w': 204, 'h': 204}}, {'emotion': {'angry': 13.434784002925872, 'disgust': 0.0055275792651529, 'fear': 8.938994683147111, 'happy': 0.03904048470111374, 'sad': 62.48640269203154, 'surprise': 0.017826130409497123, 'neutral': 15.077422252008647}, 'dominant_emotion': 'sad', 'region': {'x': 142, 'y': 29, 'w': 45, 'h': 45}}]\n"
     ]
    },
    {
     "name": "stderr",
     "output_type": "stream",
     "text": [
      "Action: emotion: 100%|██████████| 1/1 [00:00<00:00, 12.26it/s]\n",
      "Action: emotion: 100%|██████████| 1/1 [00:00<00:00, 12.47it/s]\n"
     ]
    },
    {
     "name": "stdout",
     "output_type": "stream",
     "text": [
      "[{'emotion': {'angry': 0.008749154015626625, 'disgust': 2.1373271094603247e-07, 'fear': 4.2727182372044465, 'happy': 2.143446297552961, 'sad': 1.5824430634047426, 'surprise': 0.10655322747249767, 'neutral': 91.88609074867313}, 'dominant_emotion': 'neutral', 'region': {'x': 104, 'y': 212, 'w': 189, 'h': 189}}, {'emotion': {'angry': 8.264319598674774, 'disgust': 0.0029278349757078104, 'fear': 4.769498854875565, 'happy': 0.2025028457865119, 'sad': 44.22307908535004, 'surprise': 0.05145370960235596, 'neutral': 42.486217617988586}, 'dominant_emotion': 'sad', 'region': {'x': 140, 'y': 28, 'w': 48, 'h': 48}}]\n"
     ]
    },
    {
     "name": "stderr",
     "output_type": "stream",
     "text": [
      "Action: emotion: 100%|██████████| 1/1 [00:00<00:00, 11.64it/s]\n",
      "Action: emotion: 100%|██████████| 1/1 [00:00<00:00, 12.11it/s]\n"
     ]
    },
    {
     "name": "stdout",
     "output_type": "stream",
     "text": [
      "[{'emotion': {'angry': 13.714072108268738, 'disgust': 0.0007367745183728402, 'fear': 8.663052320480347, 'happy': 0.08394832839258015, 'sad': 35.80409288406372, 'surprise': 0.011640346929198131, 'neutral': 41.722461581230164}, 'dominant_emotion': 'neutral', 'region': {'x': 140, 'y': 28, 'w': 49, 'h': 49}}, {'emotion': {'angry': 0.05461724102078325, 'disgust': 6.443804763055653e-08, 'fear': 37.527882309429785, 'happy': 0.4383237828060259, 'sad': 7.054815861869804, 'surprise': 0.09713630421713318, 'neutral': 54.82722251577511}, 'dominant_emotion': 'neutral', 'region': {'x': 102, 'y': 204, 'w': 198, 'h': 198}}]\n"
     ]
    },
    {
     "name": "stderr",
     "output_type": "stream",
     "text": [
      "Action: emotion: 100%|██████████| 1/1 [00:00<00:00, 11.17it/s]\n",
      "Action: emotion: 100%|██████████| 1/1 [00:00<00:00, 12.57it/s]\n"
     ]
    },
    {
     "name": "stdout",
     "output_type": "stream",
     "text": [
      "[{'emotion': {'angry': 0.007218595849806568, 'disgust': 4.4159685486994185e-09, 'fear': 4.27243362500868, 'happy': 0.27909348054042343, 'sad': 1.2952941310581048, 'surprise': 0.0431304212057469, 'neutral': 94.10282934324917}, 'dominant_emotion': 'neutral', 'region': {'x': 104, 'y': 210, 'w': 191, 'h': 191}}, {'emotion': {'angry': 7.029850035905838, 'disgust': 0.0006911906893947162, 'fear': 2.658458426594734, 'happy': 0.09455875842832029, 'sad': 22.65927344560623, 'surprise': 0.007262238796101883, 'neutral': 67.54990816116333}, 'dominant_emotion': 'neutral', 'region': {'x': 140, 'y': 28, 'w': 49, 'h': 49}}]\n"
     ]
    },
    {
     "name": "stderr",
     "output_type": "stream",
     "text": [
      "Action: emotion: 100%|██████████| 1/1 [00:00<00:00, 11.69it/s]\n",
      "Action: emotion: 100%|██████████| 1/1 [00:00<00:00, 12.42it/s]\n"
     ]
    },
    {
     "name": "stdout",
     "output_type": "stream",
     "text": [
      "[{'emotion': {'angry': 0.08738390170037746, 'disgust': 4.904864070454096e-06, 'fear': 68.67405772209167, 'happy': 1.7207501456141472, 'sad': 4.839441180229187, 'surprise': 0.03449460200499743, 'neutral': 24.643869698047638}, 'dominant_emotion': 'fear', 'region': {'x': 102, 'y': 215, 'w': 193, 'h': 193}}, {'emotion': {'angry': 36.718446016311646, 'disgust': 0.03665273834485561, 'fear': 10.873813182115555, 'happy': 0.05756351165473461, 'sad': 34.45962071418762, 'surprise': 0.07494813180528581, 'neutral': 17.77896136045456}, 'dominant_emotion': 'angry', 'region': {'x': 140, 'y': 28, 'w': 48, 'h': 48}}]\n"
     ]
    },
    {
     "name": "stderr",
     "output_type": "stream",
     "text": [
      "Action: emotion: 100%|██████████| 1/1 [00:00<00:00, 11.51it/s]\n",
      "Action: emotion: 100%|██████████| 1/1 [00:00<00:00, 12.57it/s]\n"
     ]
    },
    {
     "name": "stdout",
     "output_type": "stream",
     "text": [
      "[{'emotion': {'angry': 0.02663011255208403, 'disgust': 1.1371999342202344e-06, 'fear': 37.6679003238678, 'happy': 12.037405371665955, 'sad': 4.450937360525131, 'surprise': 0.3144265618175268, 'neutral': 45.50269842147827}, 'dominant_emotion': 'neutral', 'region': {'x': 102, 'y': 207, 'w': 200, 'h': 200}}, {'emotion': {'angry': 31.852304935455322, 'disgust': 0.023065696586854756, 'fear': 9.82155129313469, 'happy': 0.06967625813558698, 'sad': 38.512203097343445, 'surprise': 0.028012666734866798, 'neutral': 19.69318389892578}, 'dominant_emotion': 'sad', 'region': {'x': 141, 'y': 28, 'w': 47, 'h': 47}}]\n"
     ]
    },
    {
     "name": "stderr",
     "output_type": "stream",
     "text": [
      "Action: emotion: 100%|██████████| 1/1 [00:00<00:00, 11.61it/s]\n",
      "Action: emotion: 100%|██████████| 1/1 [00:00<00:00, 12.34it/s]\n"
     ]
    },
    {
     "name": "stdout",
     "output_type": "stream",
     "text": [
      "[{'emotion': {'angry': 0.027525858604349196, 'disgust': 1.2694685835867858e-05, 'fear': 13.097688555717468, 'happy': 9.667865931987762, 'sad': 6.562796235084534, 'surprise': 0.06609978154301643, 'neutral': 70.57801485061646}, 'dominant_emotion': 'neutral', 'region': {'x': 104, 'y': 212, 'w': 192, 'h': 192}}, {'emotion': {'angry': 5.737853019705595, 'disgust': 0.00011283538687601315, 'fear': 4.372530691178482, 'happy': 0.025109697931465384, 'sad': 40.178265582219694, 'surprise': 0.007219880783997821, 'neutral': 49.67891273968892}, 'dominant_emotion': 'neutral', 'region': {'x': 142, 'y': 30, 'w': 45, 'h': 45}}]\n"
     ]
    },
    {
     "name": "stderr",
     "output_type": "stream",
     "text": [
      "Action: emotion: 100%|██████████| 1/1 [00:00<00:00, 11.83it/s]\n",
      "Action: emotion: 100%|██████████| 1/1 [00:00<00:00, 11.68it/s]\n",
      "Action: emotion: 100%|██████████| 1/1 [00:00<00:00, 13.06it/s]\n"
     ]
    },
    {
     "name": "stdout",
     "output_type": "stream",
     "text": [
      "[{'emotion': {'angry': 0.03956498057316873, 'disgust': 2.7981739483549315e-06, 'fear': 24.056559744868263, 'happy': 2.0474679125826305, 'sad': 6.886648797193098, 'surprise': 0.31075411931449887, 'neutral': 66.65900150889168}, 'dominant_emotion': 'neutral', 'region': {'x': 101, 'y': 205, 'w': 199, 'h': 199}}, {'emotion': {'angry': 12.076790630817413, 'disgust': 0.000253432767749473, 'fear': 2.3493563756346703, 'happy': 0.010654622019501403, 'sad': 20.483748614788055, 'surprise': 0.007288346387213096, 'neutral': 65.07191061973572}, 'dominant_emotion': 'neutral', 'region': {'x': 141, 'y': 29, 'w': 46, 'h': 46}}, {'emotion': {'angry': 0.397782796489167, 'disgust': 0.0002942667327125169, 'fear': 1.3383000955462512, 'happy': 6.22127353973827, 'sad': 25.55064413253332, 'surprise': 0.00018824597403808017, 'neutral': 66.49151840755454}, 'dominant_emotion': 'neutral', 'region': {'x': 35, 'y': 39, 'w': 65, 'h': 65}}]\n"
     ]
    },
    {
     "name": "stderr",
     "output_type": "stream",
     "text": [
      "Action: emotion: 100%|██████████| 1/1 [00:00<00:00, 10.94it/s]\n",
      "Action: emotion: 100%|██████████| 1/1 [00:00<00:00, 11.97it/s]\n"
     ]
    },
    {
     "name": "stdout",
     "output_type": "stream",
     "text": [
      "[{'emotion': {'angry': 0.09843592997640371, 'disgust': 5.353450660550152e-05, 'fear': 79.98077869415283, 'happy': 10.656724870204926, 'sad': 4.9289073795080185, 'surprise': 0.5224762484431267, 'neutral': 3.812621533870697}, 'dominant_emotion': 'fear', 'region': {'x': 103, 'y': 205, 'w': 195, 'h': 195}}, {'emotion': {'angry': 13.146919012069702, 'disgust': 0.0029636084946105257, 'fear': 23.037727177143097, 'happy': 0.17710297834128141, 'sad': 52.2594690322876, 'surprise': 0.03126827359665185, 'neutral': 11.344552040100098}, 'dominant_emotion': 'sad', 'region': {'x': 141, 'y': 29, 'w': 48, 'h': 48}}]\n"
     ]
    },
    {
     "name": "stderr",
     "output_type": "stream",
     "text": [
      "Action: emotion: 100%|██████████| 1/1 [00:00<00:00, 12.08it/s]\n",
      "Action: emotion: 100%|██████████| 1/1 [00:00<00:00, 12.60it/s]\n"
     ]
    },
    {
     "name": "stdout",
     "output_type": "stream",
     "text": [
      "[{'emotion': {'angry': 0.020793556177522987, 'disgust': 4.4536299981245975e-06, 'fear': 40.192997455596924, 'happy': 37.543150782585144, 'sad': 4.388352483510971, 'surprise': 0.1437017577700317, 'neutral': 17.71100014448166}, 'dominant_emotion': 'fear', 'region': {'x': 102, 'y': 209, 'w': 195, 'h': 195}}, {'emotion': {'angry': 10.549291223287582, 'disgust': 0.05458484520204365, 'fear': 7.429274171590805, 'happy': 0.04111382586415857, 'sad': 64.10892605781555, 'surprise': 0.0038918231439311057, 'neutral': 17.812925577163696}, 'dominant_emotion': 'sad', 'region': {'x': 142, 'y': 30, 'w': 44, 'h': 44}}]\n"
     ]
    },
    {
     "name": "stderr",
     "output_type": "stream",
     "text": [
      "Action: emotion: 100%|██████████| 1/1 [00:00<00:00, 11.97it/s]\n"
     ]
    },
    {
     "name": "stdout",
     "output_type": "stream",
     "text": [
      "[{'emotion': {'angry': 0.3568471216816161, 'disgust': 7.4225758017820635e-06, 'fear': 87.45762259273259, 'happy': 0.7610051916831503, 'sad': 9.328756114392744, 'surprise': 0.8793625863656299, 'neutral': 1.2163879762425451}, 'dominant_emotion': 'fear', 'region': {'x': 98, 'y': 209, 'w': 196, 'h': 196}}]\n"
     ]
    },
    {
     "name": "stderr",
     "output_type": "stream",
     "text": [
      "Action: emotion: 100%|██████████| 1/1 [00:00<00:00, 12.05it/s]\n",
      "Action: emotion: 100%|██████████| 1/1 [00:00<00:00, 12.04it/s]\n"
     ]
    },
    {
     "name": "stdout",
     "output_type": "stream",
     "text": [
      "[{'emotion': {'angry': 0.04393841663841158, 'disgust': 1.8158972991955125e-06, 'fear': 10.073906183242798, 'happy': 29.614806175231934, 'sad': 8.551596850156784, 'surprise': 0.09063984034582973, 'neutral': 51.62511467933655}, 'dominant_emotion': 'neutral', 'region': {'x': 101, 'y': 209, 'w': 197, 'h': 197}}, {'emotion': {'angry': 0.6934241339370092, 'disgust': 3.0928697004019876e-07, 'fear': 2.4602368077776915, 'happy': 0.0004987399576615843, 'sad': 20.136813529539914, 'surprise': 0.00013913290478577805, 'neutral': 76.70888761930988}, 'dominant_emotion': 'neutral', 'region': {'x': 137, 'y': 28, 'w': 50, 'h': 50}}]\n"
     ]
    },
    {
     "name": "stderr",
     "output_type": "stream",
     "text": [
      "Action: emotion: 100%|██████████| 1/1 [00:00<00:00, 11.82it/s]\n",
      "Action: emotion: 100%|██████████| 1/1 [00:00<00:00, 12.14it/s]\n"
     ]
    },
    {
     "name": "stdout",
     "output_type": "stream",
     "text": [
      "[{'emotion': {'angry': 36.41843497753143, 'disgust': 0.005060925832367502, 'fear': 13.814064860343933, 'happy': 0.06589078693650663, 'sad': 25.84044635295868, 'surprise': 0.041352168773300946, 'neutral': 23.814749717712402}, 'dominant_emotion': 'angry', 'region': {'x': 138, 'y': 28, 'w': 50, 'h': 50}}, {'emotion': {'angry': 0.001764218723110389, 'disgust': 2.699262202643382e-08, 'fear': 5.5476658046245575, 'happy': 54.31312322616577, 'sad': 9.550600498914719, 'surprise': 0.0070733760367147624, 'neutral': 30.57977259159088}, 'dominant_emotion': 'happy', 'region': {'x': 109, 'y': 216, 'w': 184, 'h': 184}}]\n"
     ]
    },
    {
     "name": "stderr",
     "output_type": "stream",
     "text": [
      "Action: emotion: 100%|██████████| 1/1 [00:00<00:00, 11.42it/s]\n",
      "Action: emotion: 100%|██████████| 1/1 [00:00<00:00, 11.25it/s]\n"
     ]
    },
    {
     "name": "stdout",
     "output_type": "stream",
     "text": [
      "[{'emotion': {'angry': 38.00441324710846, 'disgust': 0.005776049874839373, 'fear': 20.225617289543152, 'happy': 0.08653422119095922, 'sad': 33.777907490730286, 'surprise': 0.027297638007439673, 'neutral': 7.872454822063446}, 'dominant_emotion': 'angry', 'region': {'x': 138, 'y': 28, 'w': 50, 'h': 50}}, {'emotion': {'angry': 0.18999450840055943, 'disgust': 1.6463122420873333e-06, 'fear': 19.493943452835083, 'happy': 11.980854719877243, 'sad': 25.853559374809265, 'surprise': 0.01503760286141187, 'neutral': 42.46661067008972}, 'dominant_emotion': 'neutral', 'region': {'x': 115, 'y': 219, 'w': 182, 'h': 182}}]\n"
     ]
    },
    {
     "name": "stderr",
     "output_type": "stream",
     "text": [
      "Action: emotion: 100%|██████████| 1/1 [00:00<00:00, 11.50it/s]\n",
      "Action: emotion: 100%|██████████| 1/1 [00:00<00:00, 11.69it/s]\n"
     ]
    },
    {
     "name": "stdout",
     "output_type": "stream",
     "text": [
      "[{'emotion': {'angry': 0.014938417007215321, 'disgust': 9.580300108780193e-07, 'fear': 5.099115893244743, 'happy': 5.441382527351379, 'sad': 47.40711748600006, 'surprise': 0.0043345597077859566, 'neutral': 42.03311204910278}, 'dominant_emotion': 'sad', 'region': {'x': 111, 'y': 214, 'w': 187, 'h': 187}}, {'emotion': {'angry': 13.770893064630858, 'disgust': 0.0060691290896166825, 'fear': 17.219571206620788, 'happy': 0.07795621293746377, 'sad': 47.36407728623423, 'surprise': 0.016875164317878864, 'neutral': 21.54455673163453}, 'dominant_emotion': 'sad', 'region': {'x': 143, 'y': 30, 'w': 44, 'h': 44}}]\n"
     ]
    },
    {
     "name": "stderr",
     "output_type": "stream",
     "text": [
      "Action: emotion: 100%|██████████| 1/1 [00:00<00:00, 11.69it/s]\n",
      "Action: emotion: 100%|██████████| 1/1 [00:00<00:00, 11.86it/s]\n"
     ]
    },
    {
     "name": "stdout",
     "output_type": "stream",
     "text": [
      "[{'emotion': {'angry': 0.00272271045105299, 'disgust': 5.10204900550093e-07, 'fear': 0.8739160373806953, 'happy': 67.36016869544983, 'sad': 10.08564829826355, 'surprise': 0.007070440915413201, 'neutral': 21.670472621917725}, 'dominant_emotion': 'happy', 'region': {'x': 113, 'y': 215, 'w': 183, 'h': 183}}, {'emotion': {'angry': 5.8261826129177345, 'disgust': 0.0007005948117042528, 'fear': 6.323449322396436, 'happy': 0.07478547359122022, 'sad': 24.131579593608333, 'surprise': 0.0029234466484758734, 'neutral': 63.64038153176087}, 'dominant_emotion': 'neutral', 'region': {'x': 141, 'y': 29, 'w': 47, 'h': 47}}]\n"
     ]
    },
    {
     "name": "stderr",
     "output_type": "stream",
     "text": [
      "Action: emotion: 100%|██████████| 1/1 [00:00<00:00, 11.48it/s]\n",
      "Action: emotion: 100%|██████████| 1/1 [00:00<00:00, 12.11it/s]\n",
      "Action: emotion: 100%|██████████| 1/1 [00:00<00:00, 12.82it/s]\n"
     ]
    },
    {
     "name": "stdout",
     "output_type": "stream",
     "text": [
      "[{'emotion': {'angry': 0.1047551748342812, 'disgust': 2.7187103679437996e-07, 'fear': 0.13498717453330755, 'happy': 3.586076945066452, 'sad': 63.642120361328125, 'surprise': 1.8138881330287404e-05, 'neutral': 32.532039284706116}, 'dominant_emotion': 'sad', 'region': {'x': 54, 'y': 176, 'w': 81, 'h': 81}}, {'emotion': {'angry': 0.008151435514787449, 'disgust': 9.789929920971695e-08, 'fear': 7.806106471287433, 'happy': 0.31668900927883276, 'sad': 8.880830987592818, 'surprise': 0.0031529070718008044, 'neutral': 82.9850693958915}, 'dominant_emotion': 'neutral', 'region': {'x': 109, 'y': 204, 'w': 197, 'h': 197}}, {'emotion': {'angry': 3.90704907476902, 'disgust': 6.808336934227555e-05, 'fear': 3.191930800676346, 'happy': 0.04834651481360197, 'sad': 18.72440129518509, 'surprise': 0.006921788735780865, 'neutral': 74.1212785243988}, 'dominant_emotion': 'neutral', 'region': {'x': 141, 'y': 29, 'w': 46, 'h': 46}}]\n"
     ]
    },
    {
     "name": "stderr",
     "output_type": "stream",
     "text": [
      "Action: emotion: 100%|██████████| 1/1 [00:00<00:00, 11.87it/s]\n",
      "Action: emotion: 100%|██████████| 1/1 [00:00<00:00, 12.41it/s]\n"
     ]
    },
    {
     "name": "stdout",
     "output_type": "stream",
     "text": [
      "[{'emotion': {'angry': 0.059676525415852666, 'disgust': 0.00011509742989801452, 'fear': 9.551936388015747, 'happy': 13.923594355583191, 'sad': 9.892476350069046, 'surprise': 0.8108494803309441, 'neutral': 65.76135754585266}, 'dominant_emotion': 'neutral', 'region': {'x': 109, 'y': 205, 'w': 196, 'h': 196}}, {'emotion': {'angry': 3.12187597155571, 'disgust': 2.4652888441778487e-05, 'fear': 1.690622791647911, 'happy': 0.048972119111567736, 'sad': 19.595664739608765, 'surprise': 0.006589261465705931, 'neutral': 75.53625106811523}, 'dominant_emotion': 'neutral', 'region': {'x': 143, 'y': 28, 'w': 48, 'h': 48}}]\n"
     ]
    },
    {
     "name": "stderr",
     "output_type": "stream",
     "text": [
      "Action: emotion: 100%|██████████| 1/1 [00:00<00:00, 11.16it/s]\n"
     ]
    },
    {
     "name": "stdout",
     "output_type": "stream",
     "text": [
      "[{'emotion': {'angry': 0.018623692449182272, 'disgust': 5.999792329625109e-08, 'fear': 51.52022838592529, 'happy': 2.8532620519399643, 'sad': 2.511889301240444, 'surprise': 1.0338351130485535, 'neutral': 42.06215441226959}, 'dominant_emotion': 'fear', 'region': {'x': 105, 'y': 209, 'w': 193, 'h': 193}}]\n"
     ]
    },
    {
     "name": "stderr",
     "output_type": "stream",
     "text": [
      "Action: emotion: 100%|██████████| 1/1 [00:00<00:00, 11.90it/s]\n"
     ]
    },
    {
     "name": "stdout",
     "output_type": "stream",
     "text": [
      "[{'emotion': {'angry': 0.02343977260143413, 'disgust': 3.885010460946889e-08, 'fear': 0.7415826945355303, 'happy': 0.21903596069980136, 'sad': 0.5447798224801037, 'surprise': 0.20435966909114492, 'neutral': 98.26679846444148}, 'dominant_emotion': 'neutral', 'region': {'x': 102, 'y': 201, 'w': 198, 'h': 198}}]\n"
     ]
    },
    {
     "name": "stderr",
     "output_type": "stream",
     "text": [
      "Action: emotion: 100%|██████████| 1/1 [00:00<00:00, 11.46it/s]\n"
     ]
    },
    {
     "name": "stdout",
     "output_type": "stream",
     "text": [
      "[{'emotion': {'angry': 0.006696961574758327, 'disgust': 2.3748634774012075e-10, 'fear': 3.664194355703073, 'happy': 0.04698110882790579, 'sad': 0.9335315604768323, 'surprise': 0.20766709783916498, 'neutral': 95.14092860926048}, 'dominant_emotion': 'neutral', 'region': {'x': 101, 'y': 200, 'w': 204, 'h': 204}}]\n"
     ]
    },
    {
     "name": "stderr",
     "output_type": "stream",
     "text": [
      "Action: emotion: 100%|██████████| 1/1 [00:00<00:00, 11.76it/s]\n"
     ]
    },
    {
     "name": "stdout",
     "output_type": "stream",
     "text": [
      "[{'emotion': {'angry': 0.00024771291688760125, 'disgust': 7.109570196239887e-13, 'fear': 0.4454577872702822, 'happy': 1.8240198372295056e-05, 'sad': 0.016292592531956588, 'surprise': 99.53271145018476, 'neutral': 0.005275087361420674}, 'dominant_emotion': 'surprise', 'region': {'x': 0, 'y': 0, 'w': 640, 'h': 480}}]\n"
     ]
    },
    {
     "name": "stderr",
     "output_type": "stream",
     "text": [
      "Action: emotion: 100%|██████████| 1/1 [00:00<00:00, 11.17it/s]\n"
     ]
    },
    {
     "name": "stdout",
     "output_type": "stream",
     "text": [
      "[{'emotion': {'angry': 0.027315373881720006, 'disgust': 1.402089777613469e-07, 'fear': 23.290690779685974, 'happy': 6.973285228013992, 'sad': 8.919568359851837, 'surprise': 60.76524257659912, 'neutral': 0.023898018116597086}, 'dominant_emotion': 'surprise', 'region': {'x': 0, 'y': 0, 'w': 640, 'h': 480}}]\n"
     ]
    },
    {
     "name": "stderr",
     "output_type": "stream",
     "text": [
      "Action: emotion: 100%|██████████| 1/1 [00:00<00:00, 11.55it/s]\n"
     ]
    },
    {
     "name": "stdout",
     "output_type": "stream",
     "text": [
      "[{'emotion': {'angry': 0.18831472843885422, 'disgust': 1.9965954223266635e-06, 'fear': 45.55307626724243, 'happy': 1.2805523350834846, 'sad': 7.435806095600128, 'surprise': 0.16441880725324154, 'neutral': 45.377832651138306}, 'dominant_emotion': 'fear', 'region': {'x': 110, 'y': 206, 'w': 192, 'h': 192}}]\n"
     ]
    },
    {
     "name": "stderr",
     "output_type": "stream",
     "text": [
      "Action: emotion: 100%|██████████| 1/1 [00:00<00:00, 10.36it/s]\n"
     ]
    },
    {
     "name": "stdout",
     "output_type": "stream",
     "text": [
      "[{'emotion': {'angry': 0.21832630873926334, 'disgust': 1.916089587960275e-05, 'fear': 5.929569135878631, 'happy': 3.959374365769289, 'sad': 30.708779734896407, 'surprise': 59.143338152369154, 'neutral': 0.04059614098924494}, 'dominant_emotion': 'surprise', 'region': {'x': 0, 'y': 0, 'w': 640, 'h': 480}}]\n"
     ]
    },
    {
     "name": "stderr",
     "output_type": "stream",
     "text": [
      "Action: emotion: 100%|██████████| 1/1 [00:00<00:00, 10.35it/s]\n",
      "Action: emotion: 100%|██████████| 1/1 [00:00<00:00, 10.46it/s]\n"
     ]
    },
    {
     "name": "stdout",
     "output_type": "stream",
     "text": [
      "[{'emotion': {'angry': 0.5095798380428745, 'disgust': 5.0464199953745615e-05, 'fear': 43.26941451198882, 'happy': 2.988477067532889, 'sad': 8.576839884896293, 'surprise': 0.8625426232763977, 'neutral': 43.79308595739771}, 'dominant_emotion': 'neutral', 'region': {'x': 107, 'y': 201, 'w': 194, 'h': 194}}, {'emotion': {'angry': 9.1741200775957, 'disgust': 0.7348549141907794, 'fear': 9.60286145176155, 'happy': 0.12675081032877442, 'sad': 79.7210598324466, 'surprise': 0.15346666831175468, 'neutral': 0.48688350960510857}, 'dominant_emotion': 'sad', 'region': {'x': 159, 'y': 29, 'w': 44, 'h': 44}}]\n"
     ]
    },
    {
     "name": "stderr",
     "output_type": "stream",
     "text": [
      "Action: emotion: 100%|██████████| 1/1 [00:00<00:00, 10.47it/s]\n",
      "Action: emotion: 100%|██████████| 1/1 [00:00<00:00, 10.57it/s]\n"
     ]
    },
    {
     "name": "stdout",
     "output_type": "stream",
     "text": [
      "[{'emotion': {'angry': 1.6924949207908009, 'disgust': 0.00014988796042770015, 'fear': 1.4453350705999053, 'happy': 0.2857845634404345, 'sad': 3.2596438962645653, 'surprise': 0.04829688993561835, 'neutral': 93.26829394480062}, 'dominant_emotion': 'neutral', 'region': {'x': 152, 'y': 28, 'w': 46, 'h': 46}}, {'emotion': {'angry': 0.0756029097829014, 'disgust': 7.227683909150073e-05, 'fear': 20.91076225042343, 'happy': 3.623819723725319, 'sad': 10.533474385738373, 'surprise': 0.07673206855542958, 'neutral': 64.779531955719}, 'dominant_emotion': 'neutral', 'region': {'x': 110, 'y': 214, 'w': 188, 'h': 188}}]\n"
     ]
    },
    {
     "name": "stderr",
     "output_type": "stream",
     "text": [
      "Action: emotion: 100%|██████████| 1/1 [00:00<00:00,  8.58it/s]\n"
     ]
    },
    {
     "name": "stdout",
     "output_type": "stream",
     "text": [
      "[{'emotion': {'angry': 12.10295706987381, 'disgust': 0.006978068267926574, 'fear': 9.626220166683197, 'happy': 0.5479859653860331, 'sad': 18.724194169044495, 'surprise': 0.5029942840337753, 'neutral': 58.488672971725464}, 'dominant_emotion': 'neutral', 'region': {'x': 152, 'y': 28, 'w': 46, 'h': 46}}]\n"
     ]
    },
    {
     "name": "stderr",
     "output_type": "stream",
     "text": [
      "Action: emotion: 100%|██████████| 1/1 [00:00<00:00,  9.75it/s]\n",
      "Action: emotion: 100%|██████████| 1/1 [00:00<00:00,  9.56it/s]\n"
     ]
    },
    {
     "name": "stdout",
     "output_type": "stream",
     "text": [
      "[{'emotion': {'angry': 1.874176412820816, 'disgust': 7.239689403526484e-09, 'fear': 92.1021819114685, 'happy': 0.12491806410253048, 'sad': 5.733858421444893, 'surprise': 0.004681508289650083, 'neutral': 0.16018151072785258}, 'dominant_emotion': 'fear', 'region': {'x': 358, 'y': 232, 'w': 63, 'h': 63}}, {'emotion': {'angry': 5.401376634836197, 'disgust': 0.0008663078915560618, 'fear': 2.460271865129471, 'happy': 0.18737594364210963, 'sad': 20.516450703144073, 'surprise': 0.014820568321738392, 'neutral': 71.41883969306946}, 'dominant_emotion': 'neutral', 'region': {'x': 151, 'y': 29, 'w': 45, 'h': 45}}]\n"
     ]
    },
    {
     "name": "stderr",
     "output_type": "stream",
     "text": [
      "Action: emotion: 100%|██████████| 1/1 [00:00<00:00,  9.13it/s]\n",
      "Action: emotion: 100%|██████████| 1/1 [00:00<00:00,  9.21it/s]\n"
     ]
    },
    {
     "name": "stdout",
     "output_type": "stream",
     "text": [
      "[{'emotion': {'angry': 0.04228659459605431, 'disgust': 6.210866583520634e-10, 'fear': 29.26189848638791, 'happy': 0.0015137445203349472, 'sad': 59.536289031947966, 'surprise': 0.00015982803147473557, 'neutral': 11.157845865744845}, 'dominant_emotion': 'sad', 'region': {'x': 352, 'y': 231, 'w': 64, 'h': 64}}, {'emotion': {'angry': 0.8706460600321221, 'disgust': 7.476633886674465e-06, 'fear': 0.5708958273058143, 'happy': 0.0233080879706561, 'sad': 1.0756325557073885, 'surprise': 0.004606078251774407, 'neutral': 97.45489985288383}, 'dominant_emotion': 'neutral', 'region': {'x': 152, 'y': 29, 'w': 45, 'h': 45}}]\n"
     ]
    },
    {
     "name": "stderr",
     "output_type": "stream",
     "text": [
      "Action: emotion: 100%|██████████| 1/1 [00:00<00:00, 10.05it/s]\n"
     ]
    },
    {
     "name": "stdout",
     "output_type": "stream",
     "text": [
      "[{'emotion': {'angry': 4.021221026778221, 'disgust': 0.0009136108928942122, 'fear': 2.5948423892259598, 'happy': 0.06794141372665763, 'sad': 25.72096586227417, 'surprise': 0.009774268983164802, 'neutral': 67.58434176445007}, 'dominant_emotion': 'neutral', 'region': {'x': 152, 'y': 29, 'w': 44, 'h': 44}}]\n"
     ]
    },
    {
     "name": "stderr",
     "output_type": "stream",
     "text": [
      "Action: emotion: 100%|██████████| 1/1 [00:00<00:00, 10.69it/s]\n",
      "Action: emotion: 100%|██████████| 1/1 [00:00<00:00, 10.41it/s]\n"
     ]
    },
    {
     "name": "stdout",
     "output_type": "stream",
     "text": [
      "[{'emotion': {'angry': 1.333090104162693, 'disgust': 8.759525882418018e-08, 'fear': 75.94274878501892, 'happy': 0.20197152625769377, 'sad': 19.88344043493271, 'surprise': 0.009933652472682297, 'neutral': 2.628818154335022}, 'dominant_emotion': 'fear', 'region': {'x': 353, 'y': 232, 'w': 64, 'h': 64}}, {'emotion': {'angry': 1.4857390986992003, 'disgust': 1.0190587069518525e-05, 'fear': 1.061882603987145, 'happy': 0.024052325213609612, 'sad': 1.3563377097144473, 'surprise': 0.012703277693577535, 'neutral': 96.05926918276916}, 'dominant_emotion': 'neutral', 'region': {'x': 150, 'y': 28, 'w': 47, 'h': 47}}]\n"
     ]
    },
    {
     "name": "stderr",
     "output_type": "stream",
     "text": [
      "Action: emotion: 100%|██████████| 1/1 [00:00<00:00,  9.56it/s]\n"
     ]
    },
    {
     "name": "stdout",
     "output_type": "stream",
     "text": [
      "[{'emotion': {'angry': 1.8856607377529144, 'disgust': 7.428085382343852e-05, 'fear': 3.9923030883073807, 'happy': 0.056636991212144494, 'sad': 16.817128658294678, 'surprise': 0.005588429849012755, 'neutral': 77.24260687828064}, 'dominant_emotion': 'neutral', 'region': {'x': 146, 'y': 30, 'w': 45, 'h': 45}}]\n"
     ]
    },
    {
     "name": "stderr",
     "output_type": "stream",
     "text": [
      "Action: emotion: 100%|██████████| 1/1 [00:00<00:00,  9.57it/s]\n",
      "Action: emotion: 100%|██████████| 1/1 [00:00<00:00, 10.36it/s]\n"
     ]
    },
    {
     "name": "stdout",
     "output_type": "stream",
     "text": [
      "[{'emotion': {'angry': 0.002742498854543014, 'disgust': 8.762584930363744e-10, 'fear': 1.4898996756911085, 'happy': 0.13222798794749308, 'sad': 1.49002894327217, 'surprise': 0.07420034240821555, 'neutral': 96.81090097492343}, 'dominant_emotion': 'neutral', 'region': {'x': 104, 'y': 202, 'w': 201, 'h': 201}}, {'emotion': {'angry': 0.47961026430130005, 'disgust': 3.4982789998139197e-06, 'fear': 0.5873873364180326, 'happy': 0.014871956955175847, 'sad': 1.875033974647522, 'surprise': 0.006396940443664789, 'neutral': 97.03669548034668}, 'dominant_emotion': 'neutral', 'region': {'x': 143, 'y': 30, 'w': 46, 'h': 46}}]\n"
     ]
    },
    {
     "name": "stderr",
     "output_type": "stream",
     "text": [
      "Action: emotion: 100%|██████████| 1/1 [00:00<00:00,  9.21it/s]\n"
     ]
    },
    {
     "name": "stdout",
     "output_type": "stream",
     "text": [
      "[{'emotion': {'angry': 4.285484690723979, 'disgust': 0.00010030055422848294, 'fear': 4.003266722353306, 'happy': 0.1746047496324479, 'sad': 37.53503412425925, 'surprise': 0.017533112894034433, 'neutral': 53.98398089217912}, 'dominant_emotion': 'neutral', 'region': {'x': 140, 'y': 29, 'w': 48, 'h': 48}}]\n"
     ]
    },
    {
     "name": "stderr",
     "output_type": "stream",
     "text": [
      "Action: emotion: 100%|██████████| 1/1 [00:00<00:00, 10.05it/s]\n"
     ]
    },
    {
     "name": "stdout",
     "output_type": "stream",
     "text": [
      "[{'emotion': {'angry': 5.272284150123596, 'disgust': 0.0019468034224701114, 'fear': 3.8887348026037216, 'happy': 0.011813282617367804, 'sad': 62.49616742134094, 'surprise': 0.0012884519492217805, 'neutral': 28.3277690410614}, 'dominant_emotion': 'sad', 'region': {'x': 142, 'y': 30, 'w': 45, 'h': 45}}]\n"
     ]
    },
    {
     "name": "stderr",
     "output_type": "stream",
     "text": [
      "Action: emotion: 100%|██████████| 1/1 [00:00<00:00, 10.05it/s]\n"
     ]
    },
    {
     "name": "stdout",
     "output_type": "stream",
     "text": [
      "[{'emotion': {'angry': 0.21902349686017614, 'disgust': 1.759192563228686e-07, 'fear': 0.18517996589794553, 'happy': 0.008682402193708104, 'sad': 2.5453218844724823, 'surprise': 0.00026247450223448047, 'neutral': 97.04152924069936}, 'dominant_emotion': 'neutral', 'region': {'x': 143, 'y': 31, 'w': 45, 'h': 45}}]\n"
     ]
    },
    {
     "name": "stderr",
     "output_type": "stream",
     "text": [
      "Action: emotion: 100%|██████████| 1/1 [00:00<00:00, 10.15it/s]\n"
     ]
    },
    {
     "name": "stdout",
     "output_type": "stream",
     "text": [
      "[{'emotion': {'angry': 1.384967379271984, 'disgust': 0.0006758563358744141, 'fear': 2.4650827050209045, 'happy': 0.054220680613070726, 'sad': 22.107209265232086, 'surprise': 0.0009259787475457415, 'neutral': 73.98691773414612}, 'dominant_emotion': 'neutral', 'region': {'x': 141, 'y': 30, 'w': 45, 'h': 45}}]\n"
     ]
    },
    {
     "name": "stderr",
     "output_type": "stream",
     "text": [
      "Action: emotion: 100%|██████████| 1/1 [00:00<00:00,  9.13it/s]\n"
     ]
    },
    {
     "name": "stdout",
     "output_type": "stream",
     "text": [
      "[{'emotion': {'angry': 0.7034891750663519, 'disgust': 0.00015603301335431752, 'fear': 2.9740022495388985, 'happy': 0.024323933757841587, 'sad': 58.77261161804199, 'surprise': 5.986580617900472e-05, 'neutral': 37.52535581588745}, 'dominant_emotion': 'sad', 'region': {'x': 145, 'y': 31, 'w': 43, 'h': 43}}]\n"
     ]
    },
    {
     "name": "stderr",
     "output_type": "stream",
     "text": [
      "Action: emotion: 100%|██████████| 1/1 [00:00<00:00,  9.84it/s]\n",
      "Action: emotion: 100%|██████████| 1/1 [00:00<00:00,  9.38it/s]\n",
      "Action: emotion: 100%|██████████| 1/1 [00:00<00:00,  9.66it/s]\n"
     ]
    },
    {
     "name": "stdout",
     "output_type": "stream",
     "text": [
      "[{'emotion': {'angry': 7.987763463721482, 'disgust': 3.215747304712434e-08, 'fear': 66.63639346578083, 'happy': 0.06472367480612844, 'sad': 18.822535504253835, 'surprise': 0.0044584517056037755, 'neutral': 6.484125941045638}, 'dominant_emotion': 'fear', 'region': {'x': 354, 'y': 233, 'w': 62, 'h': 62}}, {'emotion': {'angry': 0.17517677042633295, 'disgust': 1.9580715715505903e-06, 'fear': 56.757307052612305, 'happy': 0.519324466586113, 'sad': 7.081813365221024, 'surprise': 0.18644125666469336, 'neutral': 35.27993559837341}, 'dominant_emotion': 'fear', 'region': {'x': 105, 'y': 198, 'w': 193, 'h': 193}}, {'emotion': {'angry': 0.22255621314383822, 'disgust': 2.7888418571429063e-06, 'fear': 1.348747765943275, 'happy': 0.02557965206177694, 'sad': 4.511608452296761, 'surprise': 4.5984285078362615e-05, 'neutral': 93.89145933934803}, 'dominant_emotion': 'neutral', 'region': {'x': 144, 'y': 29, 'w': 47, 'h': 47}}]\n"
     ]
    },
    {
     "name": "stderr",
     "output_type": "stream",
     "text": [
      "Action: emotion: 100%|██████████| 1/1 [00:00<00:00, 10.28it/s]\n",
      "Action: emotion: 100%|██████████| 1/1 [00:00<00:00,  9.94it/s]\n"
     ]
    },
    {
     "name": "stdout",
     "output_type": "stream",
     "text": [
      "[{'emotion': {'angry': 0.15717700362142942, 'disgust': 7.298760642370481e-09, 'fear': 80.03389120303936, 'happy': 0.025910041675197584, 'sad': 15.75277392582738, 'surprise': 0.00017951535870881213, 'neutral': 4.030069576505993}, 'dominant_emotion': 'fear', 'region': {'x': 357, 'y': 235, 'w': 58, 'h': 58}}, {'emotion': {'angry': 0.9960281662642956, 'disgust': 0.0004315262231102679, 'fear': 9.428273886442184, 'happy': 0.0850678829010576, 'sad': 31.745809316635132, 'surprise': 0.00037648399029421853, 'neutral': 57.744020223617554}, 'dominant_emotion': 'neutral', 'region': {'x': 145, 'y': 30, 'w': 45, 'h': 45}}]\n"
     ]
    },
    {
     "name": "stderr",
     "output_type": "stream",
     "text": [
      "Action: emotion: 100%|██████████| 1/1 [00:00<00:00, 11.55it/s]\n",
      "Action: emotion: 100%|██████████| 1/1 [00:00<00:00, 12.42it/s]\n"
     ]
    },
    {
     "name": "stdout",
     "output_type": "stream",
     "text": [
      "[{'emotion': {'angry': 0.5384351126849651, 'disgust': 4.611499946349795e-05, 'fear': 1.6389081254601479, 'happy': 0.08737359894439578, 'sad': 10.11207327246666, 'surprise': 0.0007715061656199396, 'neutral': 87.62239813804626}, 'dominant_emotion': 'neutral', 'region': {'x': 145, 'y': 31, 'w': 44, 'h': 44}}, {'emotion': {'angry': 0.3078395966440439, 'disgust': 1.8533069176540629e-09, 'fear': 51.74943208694458, 'happy': 0.005536526805371977, 'sad': 35.32107472419739, 'surprise': 0.0002964307896036189, 'neutral': 12.615816295146942}, 'dominant_emotion': 'fear', 'region': {'x': 353, 'y': 235, 'w': 59, 'h': 59}}]\n"
     ]
    },
    {
     "name": "stderr",
     "output_type": "stream",
     "text": [
      "Action: emotion: 100%|██████████| 1/1 [00:00<00:00, 11.47it/s]\n",
      "Action: emotion: 100%|██████████| 1/1 [00:00<00:00, 12.11it/s]\n"
     ]
    },
    {
     "name": "stdout",
     "output_type": "stream",
     "text": [
      "[{'emotion': {'angry': 0.3024809993803501, 'disgust': 6.004319957897408e-09, 'fear': 51.279622316360474, 'happy': 0.054031674517318606, 'sad': 34.16634798049927, 'surprise': 0.0006354888228088384, 'neutral': 14.196883141994476}, 'dominant_emotion': 'fear', 'region': {'x': 352, 'y': 233, 'w': 61, 'h': 61}}, {'emotion': {'angry': 2.833046205341816, 'disgust': 0.0005400933787313988, 'fear': 5.116167664527893, 'happy': 0.21241093054413795, 'sad': 24.423086643218994, 'surprise': 0.002305571069882717, 'neutral': 67.41244792938232}, 'dominant_emotion': 'neutral', 'region': {'x': 144, 'y': 30, 'w': 46, 'h': 46}}]\n"
     ]
    },
    {
     "name": "stderr",
     "output_type": "stream",
     "text": [
      "Action: emotion: 100%|██████████| 1/1 [00:00<00:00, 11.97it/s]\n",
      "Action: emotion: 100%|██████████| 1/1 [00:00<00:00, 12.42it/s]\n"
     ]
    },
    {
     "name": "stdout",
     "output_type": "stream",
     "text": [
      "[{'emotion': {'angry': 3.256189450621605, 'disgust': 1.3491521788644434e-08, 'fear': 48.11198711395264, 'happy': 0.4549081437289715, 'sad': 14.129874110221863, 'surprise': 0.0016998026694636792, 'neutral': 34.04534459114075}, 'dominant_emotion': 'fear', 'region': {'x': 349, 'y': 232, 'w': 65, 'h': 65}}, {'emotion': {'angry': 0.3243144368752837, 'disgust': 3.2675234962198374e-06, 'fear': 66.35669469833374, 'happy': 0.16564273973926902, 'sad': 17.708440124988556, 'surprise': 0.11719310423359275, 'neutral': 15.327715873718262}, 'dominant_emotion': 'fear', 'region': {'x': 107, 'y': 196, 'w': 191, 'h': 191}}]\n"
     ]
    },
    {
     "name": "stderr",
     "output_type": "stream",
     "text": [
      "Action: emotion: 100%|██████████| 1/1 [00:00<00:00, 12.03it/s]\n"
     ]
    },
    {
     "name": "stdout",
     "output_type": "stream",
     "text": [
      "[{'emotion': {'angry': 1.601976901292801, 'disgust': 2.4479007362798733e-09, 'fear': 80.50530552864075, 'happy': 0.06263588438741863, 'sad': 8.746109902858734, 'surprise': 0.00016651329133310355, 'neutral': 9.08380001783371}, 'dominant_emotion': 'fear', 'region': {'x': 351, 'y': 231, 'w': 65, 'h': 65}}]\n"
     ]
    },
    {
     "name": "stderr",
     "output_type": "stream",
     "text": [
      "Action: emotion: 100%|██████████| 1/1 [00:00<00:00, 11.90it/s]\n"
     ]
    },
    {
     "name": "stdout",
     "output_type": "stream",
     "text": [
      "[{'emotion': {'angry': 0.008233129737284598, 'disgust': 6.553401234639211e-05, 'fear': 1.1061094157230158, 'happy': 1.2275261405141522, 'sad': 0.044285781954955396, 'surprise': 97.28171196957969, 'neutral': 0.3320709965239163}, 'dominant_emotion': 'surprise', 'region': {'x': 0, 'y': 0, 'w': 640, 'h': 480}}]\n"
     ]
    },
    {
     "name": "stderr",
     "output_type": "stream",
     "text": [
      "Action: emotion: 100%|██████████| 1/1 [00:00<00:00, 12.11it/s]\n"
     ]
    },
    {
     "name": "stdout",
     "output_type": "stream",
     "text": [
      "[{'emotion': {'angry': 0.006999706965871155, 'disgust': 3.2351807864594573e-10, 'fear': 38.84458541870117, 'happy': 0.04575194325298071, 'sad': 3.2042521983385086, 'surprise': 0.0690035056322813, 'neutral': 57.8294038772583}, 'dominant_emotion': 'neutral', 'region': {'x': 91, 'y': 191, 'w': 194, 'h': 194}}]\n"
     ]
    },
    {
     "name": "stderr",
     "output_type": "stream",
     "text": [
      "Action: emotion: 100%|██████████| 1/1 [00:00<00:00, 11.69it/s]\n"
     ]
    },
    {
     "name": "stdout",
     "output_type": "stream",
     "text": [
      "[{'emotion': {'angry': 0.016968439740594476, 'disgust': 4.1698423685308794e-11, 'fear': 13.488727807998657, 'happy': 0.010785240738186985, 'sad': 10.281127691268921, 'surprise': 0.07228243048302829, 'neutral': 76.13011002540588}, 'dominant_emotion': 'neutral', 'region': {'x': 73, 'y': 179, 'w': 200, 'h': 200}}]\n"
     ]
    },
    {
     "name": "stderr",
     "output_type": "stream",
     "text": [
      "Action: emotion: 100%|██████████| 1/1 [00:00<00:00, 11.59it/s]\n"
     ]
    },
    {
     "name": "stdout",
     "output_type": "stream",
     "text": [
      "[{'emotion': {'angry': 1.614359201269245, 'disgust': 0.0003355492308572968, 'fear': 70.63771240261646, 'happy': 0.5346628199919676, 'sad': 0.9939208373223737, 'surprise': 23.290714825306555, 'neutral': 2.92829109838115}, 'dominant_emotion': 'fear', 'region': {'x': 40, 'y': 176, 'w': 221, 'h': 221}}]\n"
     ]
    },
    {
     "name": "stderr",
     "output_type": "stream",
     "text": [
      "Action: emotion: 100%|██████████| 1/1 [00:00<00:00, 10.90it/s]\n"
     ]
    },
    {
     "name": "stdout",
     "output_type": "stream",
     "text": [
      "[{'emotion': {'angry': 2.2350772413519335, 'disgust': 1.845500527776089e-05, 'fear': 82.43949622637078, 'happy': 0.21890704238777847, 'sad': 1.9302825936338195, 'surprise': 8.09513010440706, 'neutral': 5.081076686849989}, 'dominant_emotion': 'fear', 'region': {'x': 33, 'y': 171, 'w': 223, 'h': 223}}]\n"
     ]
    },
    {
     "name": "stderr",
     "output_type": "stream",
     "text": [
      "Action: emotion: 100%|██████████| 1/1 [00:00<00:00, 11.83it/s]\n"
     ]
    },
    {
     "name": "stdout",
     "output_type": "stream",
     "text": [
      "[{'emotion': {'angry': 1.2213864363729954, 'disgust': 4.3453241005408927e-07, 'fear': 19.270402193069458, 'happy': 0.16486122040078044, 'sad': 6.055762991309166, 'surprise': 3.290458396077156, 'neutral': 69.99713182449341}, 'dominant_emotion': 'neutral', 'region': {'x': 39, 'y': 173, 'w': 214, 'h': 214}}]\n"
     ]
    },
    {
     "name": "stderr",
     "output_type": "stream",
     "text": [
      "Action: emotion: 100%|██████████| 1/1 [00:00<00:00, 11.42it/s]\n",
      "Action: emotion: 100%|██████████| 1/1 [00:00<00:00, 12.19it/s]\n"
     ]
    },
    {
     "name": "stdout",
     "output_type": "stream",
     "text": [
      "[{'emotion': {'angry': 0.8429979905486107, 'disgust': 9.492353569839906e-07, 'fear': 17.26042777299881, 'happy': 0.03901039308402687, 'sad': 11.92832812666893, 'surprise': 0.5506551824510098, 'neutral': 69.37857866287231}, 'dominant_emotion': 'neutral', 'region': {'x': 51, 'y': 177, 'w': 210, 'h': 210}}, {'emotion': {'angry': 1.2782509777544764, 'disgust': 0.001190766164585418, 'fear': 8.524958518152413, 'happy': 0.0020500322819299696, 'sad': 82.58102743851812, 'surprise': 5.8977649150330374e-05, 'neutral': 7.6124569639614865}, 'dominant_emotion': 'sad', 'region': {'x': 147, 'y': 32, 'w': 43, 'h': 43}}]\n"
     ]
    },
    {
     "name": "stderr",
     "output_type": "stream",
     "text": [
      "Action: emotion: 100%|██████████| 1/1 [00:00<00:00, 11.82it/s]\n"
     ]
    },
    {
     "name": "stdout",
     "output_type": "stream",
     "text": [
      "[{'emotion': {'angry': 3.606323367734156, 'disgust': 6.645750941548552e-05, 'fear': 27.673296789723445, 'happy': 0.1736387015440286, 'sad': 8.926044936540421, 'surprise': 3.4640437194135023, 'neutral': 56.15659094790166}, 'dominant_emotion': 'neutral', 'region': {'x': 60, 'y': 175, 'w': 205, 'h': 205}}]\n"
     ]
    },
    {
     "name": "stderr",
     "output_type": "stream",
     "text": [
      "Action: emotion: 100%|██████████| 1/1 [00:00<00:00, 12.27it/s]\n",
      "Action: emotion: 100%|██████████| 1/1 [00:00<00:00, 13.11it/s]\n"
     ]
    },
    {
     "name": "stdout",
     "output_type": "stream",
     "text": [
      "[{'emotion': {'angry': 2.02594343572855, 'disgust': 3.409641351481696e-05, 'fear': 40.67007303237915, 'happy': 0.6730075925588608, 'sad': 4.186763241887093, 'surprise': 5.147641152143478, 'neutral': 47.29653596878052}, 'dominant_emotion': 'neutral', 'region': {'x': 69, 'y': 175, 'w': 201, 'h': 201}}, {'emotion': {'angry': 0.4769412619287528, 'disgust': 4.366418669321878e-05, 'fear': 81.72410617614425, 'happy': 1.1991757682964663, 'sad': 16.264986471234945, 'surprise': 0.05733578341965576, 'neutral': 0.27741204738092706}, 'dominant_emotion': 'fear', 'region': {'x': 253, 'y': 201, 'w': 128, 'h': 128}}]\n"
     ]
    },
    {
     "name": "stderr",
     "output_type": "stream",
     "text": [
      "Action: emotion: 100%|██████████| 1/1 [00:00<00:00, 11.63it/s]\n"
     ]
    },
    {
     "name": "stdout",
     "output_type": "stream",
     "text": [
      "[{'emotion': {'angry': 0.07402942865155637, 'disgust': 1.8015545721894455e-07, 'fear': 10.014649480581284, 'happy': 0.14984749723225832, 'sad': 3.292250633239746, 'surprise': 0.4047148395329714, 'neutral': 86.06451153755188}, 'dominant_emotion': 'neutral', 'region': {'x': 78, 'y': 176, 'w': 192, 'h': 192}}]\n"
     ]
    },
    {
     "name": "stderr",
     "output_type": "stream",
     "text": [
      "Action: emotion: 100%|██████████| 1/1 [00:00<00:00, 11.53it/s]\n"
     ]
    },
    {
     "name": "stdout",
     "output_type": "stream",
     "text": [
      "[{'emotion': {'angry': 0.006056321581127122, 'disgust': 4.0331496822809676e-10, 'fear': 0.3025205107405782, 'happy': 0.021662205108441412, 'sad': 0.10209089377894998, 'surprise': 0.04208472673781216, 'neutral': 99.52558875083923}, 'dominant_emotion': 'neutral', 'region': {'x': 79, 'y': 176, 'w': 192, 'h': 192}}]\n"
     ]
    },
    {
     "name": "stderr",
     "output_type": "stream",
     "text": [
      "Action: emotion: 100%|██████████| 1/1 [00:00<00:00, 11.30it/s]\n",
      "Action: emotion: 100%|██████████| 1/1 [00:00<00:00, 11.97it/s]\n"
     ]
    },
    {
     "name": "stdout",
     "output_type": "stream",
     "text": [
      "[{'emotion': {'angry': 0.5431493278592825, 'disgust': 1.0833582031466449e-06, 'fear': 27.423223853111267, 'happy': 0.09994424181059003, 'sad': 7.834073901176453, 'surprise': 0.39231819100677967, 'neutral': 63.70729207992554}, 'dominant_emotion': 'neutral', 'region': {'x': 80, 'y': 162, 'w': 195, 'h': 195}}, {'emotion': {'angry': 2.4568326373000526, 'disgust': 0.0006271346511311063, 'fear': 1.0264764220402491, 'happy': 0.046414727550505255, 'sad': 20.501421123827765, 'surprise': 0.0004485924177051426, 'neutral': 75.96778130339273}, 'dominant_emotion': 'neutral', 'region': {'x': 146, 'y': 32, 'w': 44, 'h': 44}}]\n"
     ]
    },
    {
     "name": "stderr",
     "output_type": "stream",
     "text": [
      "Action: emotion: 100%|██████████| 1/1 [00:00<00:00, 12.33it/s]\n",
      "Action: emotion: 100%|██████████| 1/1 [00:00<00:00, 12.32it/s]\n"
     ]
    },
    {
     "name": "stdout",
     "output_type": "stream",
     "text": [
      "[{'emotion': {'angry': 0.044690328650176525, 'disgust': 1.4838484607704316e-09, 'fear': 27.31214463710785, 'happy': 0.03286765422672033, 'sad': 6.528481096029282, 'surprise': 0.2551618032157421, 'neutral': 65.82664847373962}, 'dominant_emotion': 'neutral', 'region': {'x': 69, 'y': 169, 'w': 196, 'h': 196}}, {'emotion': {'angry': 0.2286866443566468, 'disgust': 1.0033073637057454e-05, 'fear': 2.947961714742286, 'happy': 0.02138461841374224, 'sad': 33.15876919977482, 'surprise': 5.077092471521912e-05, 'neutral': 63.64313743371591}, 'dominant_emotion': 'neutral', 'region': {'x': 145, 'y': 33, 'w': 43, 'h': 43}}]\n"
     ]
    },
    {
     "name": "stderr",
     "output_type": "stream",
     "text": [
      "Action: emotion: 100%|██████████| 1/1 [00:00<00:00, 11.63it/s]\n",
      "Action: emotion: 100%|██████████| 1/1 [00:00<00:00, 12.73it/s]\n"
     ]
    },
    {
     "name": "stdout",
     "output_type": "stream",
     "text": [
      "[{'emotion': {'angry': 0.2626460278406739, 'disgust': 7.983878447248571e-07, 'fear': 8.880077302455902, 'happy': 0.1586785656400025, 'sad': 5.16616553068161, 'surprise': 0.35590422339737415, 'neutral': 85.17652750015259}, 'dominant_emotion': 'neutral', 'region': {'x': 78, 'y': 164, 'w': 194, 'h': 194}}, {'emotion': {'angry': 0.15086405910551548, 'disgust': 1.0841275432937891e-06, 'fear': 0.1060388283804059, 'happy': 0.019721045100595802, 'sad': 1.7563611268997192, 'surprise': 0.0001366262495139381, 'neutral': 97.96687960624695}, 'dominant_emotion': 'neutral', 'region': {'x': 144, 'y': 31, 'w': 47, 'h': 47}}]\n"
     ]
    },
    {
     "name": "stderr",
     "output_type": "stream",
     "text": [
      "Action: emotion: 100%|██████████| 1/1 [00:00<00:00, 11.56it/s]\n",
      "Action: emotion: 100%|██████████| 1/1 [00:00<00:00, 12.97it/s]\n"
     ]
    },
    {
     "name": "stdout",
     "output_type": "stream",
     "text": [
      "[{'emotion': {'angry': 6.267927119552041e-05, 'disgust': 9.09514120850277e-14, 'fear': 68.36624145507812, 'happy': 0.547331664711237, 'sad': 9.574853628873825, 'surprise': 0.014644867042079568, 'neutral': 21.496868133544922}, 'dominant_emotion': 'fear', 'region': {'x': 104, 'y': 186, 'w': 170, 'h': 170}}, {'emotion': {'angry': 0.03965291252825409, 'disgust': 1.949299402448368e-09, 'fear': 0.057820946676656604, 'happy': 0.0017399890566593967, 'sad': 0.3853987669572234, 'surprise': 0.0003160639835186885, 'neutral': 99.51506853103638}, 'dominant_emotion': 'neutral', 'region': {'x': 144, 'y': 32, 'w': 46, 'h': 46}}]\n"
     ]
    },
    {
     "name": "stderr",
     "output_type": "stream",
     "text": [
      "Action: emotion: 100%|██████████| 1/1 [00:00<00:00, 11.62it/s]\n",
      "Action: emotion: 100%|██████████| 1/1 [00:00<00:00, 12.42it/s]\n"
     ]
    },
    {
     "name": "stdout",
     "output_type": "stream",
     "text": [
      "[{'emotion': {'angry': 0.00016437938116220334, 'disgust': 6.677965667221182e-14, 'fear': 80.91442812509202, 'happy': 0.03465452051183337, 'sad': 3.878780737068565, 'surprise': 0.008676744312398814, 'neutral': 15.163287202920054}, 'dominant_emotion': 'fear', 'region': {'x': 118, 'y': 215, 'w': 162, 'h': 162}}, {'emotion': {'angry': 1.7376287944691655, 'disgust': 0.0004276781765186724, 'fear': 1.7502225116027899, 'happy': 0.07674369137882837, 'sad': 27.090938513930947, 'surprise': 0.0010701171687571322, 'neutral': 69.34296902078205}, 'dominant_emotion': 'neutral', 'region': {'x': 145, 'y': 32, 'w': 45, 'h': 45}}]\n"
     ]
    },
    {
     "name": "stderr",
     "output_type": "stream",
     "text": [
      "Action: emotion: 100%|██████████| 1/1 [00:00<00:00, 11.69it/s]\n",
      "Action: emotion: 100%|██████████| 1/1 [00:00<00:00, 12.49it/s]\n"
     ]
    },
    {
     "name": "stdout",
     "output_type": "stream",
     "text": [
      "[{'emotion': {'angry': 0.0002009202609474507, 'disgust': 1.0535597172728015e-12, 'fear': 93.6801072168414, 'happy': 0.013169498618550516, 'sad': 4.192769032285752, 'surprise': 0.00361219921317487, 'neutral': 2.1101425728286847}, 'dominant_emotion': 'fear', 'region': {'x': 107, 'y': 202, 'w': 163, 'h': 163}}, {'emotion': {'angry': 0.04537462996509612, 'disgust': 1.5027867435341038e-08, 'fear': 0.07448854433881708, 'happy': 0.004370511876139306, 'sad': 3.1330008050202363, 'surprise': 2.8490790683149573e-05, 'neutral': 96.74273172107557}, 'dominant_emotion': 'neutral', 'region': {'x': 145, 'y': 33, 'w': 44, 'h': 44}}]\n"
     ]
    },
    {
     "name": "stderr",
     "output_type": "stream",
     "text": [
      "Action: emotion: 100%|██████████| 1/1 [00:00<00:00, 10.80it/s]\n",
      "Action: emotion: 100%|██████████| 1/1 [00:00<00:00, 12.26it/s]\n"
     ]
    },
    {
     "name": "stdout",
     "output_type": "stream",
     "text": [
      "[{'emotion': {'angry': 7.655436776719129e-05, 'disgust': 4.272986028495757e-11, 'fear': 93.08617073811118, 'happy': 6.182840089967256, 'sad': 0.683935446452227, 'surprise': 0.004230888841698771, 'neutral': 0.04274957427845593}, 'dominant_emotion': 'fear', 'region': {'x': 105, 'y': 198, 'w': 159, 'h': 159}}, {'emotion': {'angry': 0.06285387789830565, 'disgust': 1.2283419836833787e-07, 'fear': 0.2318409737199545, 'happy': 0.008572899969294667, 'sad': 3.016301989555359, 'surprise': 5.865856564923888e-05, 'neutral': 96.68037295341492}, 'dominant_emotion': 'neutral', 'region': {'x': 145, 'y': 32, 'w': 45, 'h': 45}}]\n"
     ]
    },
    {
     "name": "stderr",
     "output_type": "stream",
     "text": [
      "Action: emotion: 100%|██████████| 1/1 [00:00<00:00, 11.83it/s]\n",
      "Action: emotion: 100%|██████████| 1/1 [00:00<00:00, 11.99it/s]\n"
     ]
    },
    {
     "name": "stdout",
     "output_type": "stream",
     "text": [
      "[{'emotion': {'angry': 0.00023199140249964594, 'disgust': 7.831587092057822e-11, 'fear': 74.42103333222468, 'happy': 0.5017862522707877, 'sad': 25.027871128574475, 'surprise': 8.89011695085591e-05, 'neutral': 0.04898398181428232}, 'dominant_emotion': 'fear', 'region': {'x': 114, 'y': 202, 'w': 151, 'h': 151}}, {'emotion': {'angry': 0.7955029606819153, 'disgust': 2.142885620060042e-05, 'fear': 1.8100650981068611, 'happy': 0.009377181413583457, 'sad': 20.240776240825653, 'surprise': 0.000394263179259724, 'neutral': 77.14386582374573}, 'dominant_emotion': 'neutral', 'region': {'x': 146, 'y': 33, 'w': 42, 'h': 42}}]\n"
     ]
    },
    {
     "name": "stderr",
     "output_type": "stream",
     "text": [
      "Action: emotion: 100%|██████████| 1/1 [00:00<00:00, 11.75it/s]\n",
      "Action: emotion: 100%|██████████| 1/1 [00:00<00:00, 12.11it/s]\n"
     ]
    },
    {
     "name": "stdout",
     "output_type": "stream",
     "text": [
      "[{'emotion': {'angry': 0.0017434220612938737, 'disgust': 1.0735709609064384e-09, 'fear': 98.90517579378793, 'happy': 0.08785962592440855, 'sad': 0.9624030656997044, 'surprise': 0.02074265314038806, 'neutral': 0.022081493529427024}, 'dominant_emotion': 'fear', 'region': {'x': 117, 'y': 194, 'w': 154, 'h': 154}}, {'emotion': {'angry': 0.14155670069158077, 'disgust': 6.33826013896055e-07, 'fear': 0.11052952613681555, 'happy': 0.02829715085681528, 'sad': 2.071772515773773, 'surprise': 0.0005032610715716146, 'neutral': 97.64734506607056}, 'dominant_emotion': 'neutral', 'region': {'x': 145, 'y': 32, 'w': 45, 'h': 45}}]\n"
     ]
    },
    {
     "name": "stderr",
     "output_type": "stream",
     "text": [
      "Action: emotion: 100%|██████████| 1/1 [00:00<00:00, 10.72it/s]\n",
      "Action: emotion: 100%|██████████| 1/1 [00:00<00:00,  8.92it/s]\n"
     ]
    },
    {
     "name": "stdout",
     "output_type": "stream",
     "text": [
      "[{'emotion': {'angry': 0.029526345315389335, 'disgust': 4.96858909571074e-07, 'fear': 75.6826639175415, 'happy': 22.16646373271942, 'sad': 2.016766741871834, 'surprise': 0.10014551226049662, 'neutral': 0.004432120840647258}, 'dominant_emotion': 'fear', 'region': {'x': 118, 'y': 191, 'w': 155, 'h': 155}}, {'emotion': {'angry': 0.08981863013768135, 'disgust': 9.547760332148149e-08, 'fear': 0.49388784615542336, 'happy': 0.007798712411210697, 'sad': 3.0721675667563, 'surprise': 0.00017190191326196547, 'neutral': 96.33615060613744}, 'dominant_emotion': 'neutral', 'region': {'x': 144, 'y': 32, 'w': 46, 'h': 46}}]\n"
     ]
    },
    {
     "name": "stderr",
     "output_type": "stream",
     "text": [
      "Action: emotion: 100%|██████████| 1/1 [00:00<00:00, 11.29it/s]\n",
      "Action: emotion: 100%|██████████| 1/1 [00:00<00:00, 12.11it/s]\n"
     ]
    },
    {
     "name": "stdout",
     "output_type": "stream",
     "text": [
      "[{'emotion': {'angry': 0.005133522369242675, 'disgust': 1.4726333531072124e-08, 'fear': 88.45350673517625, 'happy': 0.6954365358761868, 'sad': 10.808262128130325, 'surprise': 0.012113148835712602, 'neutral': 0.025555062233958377}, 'dominant_emotion': 'fear', 'region': {'x': 121, 'y': 188, 'w': 153, 'h': 153}}, {'emotion': {'angry': 0.27649716939777136, 'disgust': 1.0631289626417129e-06, 'fear': 0.14354371232911944, 'happy': 0.03664076793938875, 'sad': 2.7035385370254517, 'surprise': 0.0001510597144260828, 'neutral': 96.83963060379028}, 'dominant_emotion': 'neutral', 'region': {'x': 144, 'y': 31, 'w': 47, 'h': 47}}]\n"
     ]
    },
    {
     "name": "stderr",
     "output_type": "stream",
     "text": [
      "Action: emotion: 100%|██████████| 1/1 [00:00<00:00, 11.86it/s]\n",
      "Action: emotion: 100%|██████████| 1/1 [00:00<00:00, 11.23it/s]\n"
     ]
    },
    {
     "name": "stdout",
     "output_type": "stream",
     "text": [
      "[{'emotion': {'angry': 0.0027071639534975533, 'disgust': 6.454132291936279e-09, 'fear': 97.96592021394727, 'happy': 0.17426378577410748, 'sad': 1.8420407215308283, 'surprise': 0.009500688933918082, 'neutral': 0.005564591329528307}, 'dominant_emotion': 'fear', 'region': {'x': 125, 'y': 182, 'w': 153, 'h': 153}}, {'emotion': {'angry': 0.0770145665658007, 'disgust': 4.5248989476761173e-07, 'fear': 0.16075271208600475, 'happy': 0.02067070432046901, 'sad': 0.766117450810519, 'surprise': 0.0008653597949089267, 'neutral': 98.97457951155779}, 'dominant_emotion': 'neutral', 'region': {'x': 144, 'y': 32, 'w': 46, 'h': 46}}]\n"
     ]
    },
    {
     "name": "stderr",
     "output_type": "stream",
     "text": [
      "Action: emotion: 100%|██████████| 1/1 [00:00<00:00, 12.34it/s]\n",
      "Action: emotion: 100%|██████████| 1/1 [00:00<00:00, 12.26it/s]\n"
     ]
    },
    {
     "name": "stdout",
     "output_type": "stream",
     "text": [
      "[{'emotion': {'angry': 0.024673894237847282, 'disgust': 7.311754415869428e-08, 'fear': 98.08731067701046, 'happy': 0.111281890070104, 'sad': 1.755761087284153, 'surprise': 0.017768771399000072, 'neutral': 0.0031988101997169225}, 'dominant_emotion': 'fear', 'region': {'x': 126, 'y': 183, 'w': 152, 'h': 152}}, {'emotion': {'angry': 0.029989785980433226, 'disgust': 1.4223838773474995e-08, 'fear': 0.04801849427167326, 'happy': 0.006947971269255504, 'sad': 0.6470887456089258, 'surprise': 0.00011196128752999357, 'neutral': 99.26784038543701}, 'dominant_emotion': 'neutral', 'region': {'x': 145, 'y': 32, 'w': 46, 'h': 46}}]\n"
     ]
    },
    {
     "name": "stderr",
     "output_type": "stream",
     "text": [
      "Action: emotion: 100%|██████████| 1/1 [00:00<00:00, 11.30it/s]\n",
      "Action: emotion: 100%|██████████| 1/1 [00:00<00:00, 12.34it/s]\n"
     ]
    },
    {
     "name": "stdout",
     "output_type": "stream",
     "text": [
      "[{'emotion': {'angry': 0.25868768948690235, 'disgust': 5.680072928611716e-06, 'fear': 95.76262210384739, 'happy': 2.1893904918068943, 'sad': 1.6352917111093825, 'surprise': 0.15120377966858622, 'neutral': 0.002793721599199979}, 'dominant_emotion': 'fear', 'region': {'x': 133, 'y': 186, 'w': 151, 'h': 151}}, {'emotion': {'angry': 0.3287417581304908, 'disgust': 8.549914554123461e-07, 'fear': 0.5498819518834352, 'happy': 0.01335940760327503, 'sad': 3.7146270275115967, 'surprise': 0.00034903200685221236, 'neutral': 95.39303779602051}, 'dominant_emotion': 'neutral', 'region': {'x': 144, 'y': 32, 'w': 46, 'h': 46}}]\n"
     ]
    },
    {
     "name": "stderr",
     "output_type": "stream",
     "text": [
      "Action: emotion: 100%|██████████| 1/1 [00:00<00:00, 11.52it/s]\n",
      "Action: emotion: 100%|██████████| 1/1 [00:00<00:00, 11.42it/s]\n"
     ]
    },
    {
     "name": "stdout",
     "output_type": "stream",
     "text": [
      "[{'emotion': {'angry': 1.3268204686855711, 'disgust': 1.5775170931935277e-05, 'fear': 97.86590959240084, 'happy': 0.46892262993185163, 'sad': 0.28756271413711143, 'surprise': 0.04995944314188443, 'neutral': 0.0008106194343331385}, 'dominant_emotion': 'fear', 'region': {'x': 134, 'y': 182, 'w': 153, 'h': 153}}, {'emotion': {'angry': 0.8027836227586045, 'disgust': 1.349664780447375e-05, 'fear': 0.5159261943951962, 'happy': 0.03825321555901859, 'sad': 6.4181249688938244, 'surprise': 0.0005623917212295999, 'neutral': 92.22433520700545}, 'dominant_emotion': 'neutral', 'region': {'x': 144, 'y': 32, 'w': 45, 'h': 45}}]\n"
     ]
    },
    {
     "name": "stderr",
     "output_type": "stream",
     "text": [
      "Action: emotion: 100%|██████████| 1/1 [00:00<00:00, 11.38it/s]\n",
      "Action: emotion: 100%|██████████| 1/1 [00:00<00:00, 11.69it/s]\n"
     ]
    },
    {
     "name": "stdout",
     "output_type": "stream",
     "text": [
      "[{'emotion': {'angry': 0.023910147047832824, 'disgust': 1.1680009050160238e-08, 'fear': 99.89596007394077, 'happy': 0.007359398156874297, 'sad': 0.06228056685800556, 'surprise': 0.010247871627883383, 'neutral': 0.00024447415222818937}, 'dominant_emotion': 'fear', 'region': {'x': 134, 'y': 182, 'w': 153, 'h': 153}}, {'emotion': {'angry': 0.011284408482911198, 'disgust': 3.6916856322686964e-10, 'fear': 0.007625421585307439, 'happy': 0.001418357981450307, 'sad': 0.16849514635623375, 'surprise': 3.20592638227353e-05, 'neutral': 99.8111426717724}, 'dominant_emotion': 'neutral', 'region': {'x': 144, 'y': 32, 'w': 46, 'h': 46}}]\n"
     ]
    },
    {
     "name": "stderr",
     "output_type": "stream",
     "text": [
      "Action: emotion: 100%|██████████| 1/1 [00:00<00:00, 11.17it/s]\n",
      "Action: emotion: 100%|██████████| 1/1 [00:00<00:00, 12.41it/s]\n"
     ]
    },
    {
     "name": "stdout",
     "output_type": "stream",
     "text": [
      "[{'emotion': {'angry': 0.8399772958443937, 'disgust': 1.321814345716507e-05, 'fear': 0.2796156964222012, 'happy': 0.04728048215708775, 'sad': 6.412700945895967, 'surprise': 0.0001583232441370202, 'neutral': 92.42025568605993}, 'dominant_emotion': 'neutral', 'region': {'x': 144, 'y': 31, 'w': 47, 'h': 47}}, {'emotion': {'angry': 0.012480601468139316, 'disgust': 5.6830741337503975e-09, 'fear': 99.71416589190554, 'happy': 0.08330797256289095, 'sad': 0.18889327689850652, 'surprise': 0.0010506197556486155, 'neutral': 0.00010239244913535284}, 'dominant_emotion': 'fear', 'region': {'x': 127, 'y': 183, 'w': 151, 'h': 151}}]\n"
     ]
    },
    {
     "name": "stderr",
     "output_type": "stream",
     "text": [
      "Action: emotion: 100%|██████████| 1/1 [00:00<00:00, 11.04it/s]\n",
      "Action: emotion: 100%|██████████| 1/1 [00:00<00:00, 11.97it/s]\n"
     ]
    },
    {
     "name": "stdout",
     "output_type": "stream",
     "text": [
      "[{'emotion': {'angry': 0.005366405909275677, 'disgust': 1.7309663789976119e-09, 'fear': 97.9538860376017, 'happy': 0.0693725222910914, 'sad': 1.9703274106589066, 'surprise': 0.000880451338705354, 'neutral': 0.00016888004926345656}, 'dominant_emotion': 'fear', 'region': {'x': 119, 'y': 181, 'w': 154, 'h': 154}}, {'emotion': {'angry': 0.15141740441322327, 'disgust': 4.6205636539120576e-08, 'fear': 0.05521148559637368, 'happy': 0.003921001552953385, 'sad': 1.1746504344046116, 'surprise': 0.00011189690667379182, 'neutral': 98.6146867275238}, 'dominant_emotion': 'neutral', 'region': {'x': 144, 'y': 32, 'w': 46, 'h': 46}}]\n"
     ]
    },
    {
     "name": "stderr",
     "output_type": "stream",
     "text": [
      "Action: emotion: 100%|██████████| 1/1 [00:00<00:00, 11.13it/s]\n",
      "Action: emotion: 100%|██████████| 1/1 [00:00<00:00, 12.04it/s]\n"
     ]
    },
    {
     "name": "stdout",
     "output_type": "stream",
     "text": [
      "[{'emotion': {'angry': 0.027143998886458576, 'disgust': 1.1856365889073572e-08, 'fear': 99.66568946838379, 'happy': 0.08186348713934422, 'sad': 0.22291280329227448, 'surprise': 0.00235225470532896, 'neutral': 4.044603656438994e-05}, 'dominant_emotion': 'fear', 'region': {'x': 120, 'y': 180, 'w': 152, 'h': 152}}, {'emotion': {'angry': 2.460130490362644, 'disgust': 1.4655705626864801e-05, 'fear': 0.6795232184231281, 'happy': 0.0697292503900826, 'sad': 5.685614421963692, 'surprise': 0.0014796662981098052, 'neutral': 91.10351204872131}, 'dominant_emotion': 'neutral', 'region': {'x': 143, 'y': 31, 'w': 48, 'h': 48}}]\n"
     ]
    },
    {
     "name": "stderr",
     "output_type": "stream",
     "text": [
      "Action: emotion: 100%|██████████| 1/1 [00:00<00:00, 11.69it/s]\n",
      "Action: emotion: 100%|██████████| 1/1 [00:00<00:00, 12.11it/s]\n"
     ]
    },
    {
     "name": "stdout",
     "output_type": "stream",
     "text": [
      "[{'emotion': {'angry': 0.046645683791160145, 'disgust': 1.3330218519371013e-07, 'fear': 99.0756331772367, 'happy': 0.575486732332317, 'sad': 0.28708703978652234, 'surprise': 0.014420559719048109, 'neutral': 0.0007279517334737553}, 'dominant_emotion': 'fear', 'region': {'x': 123, 'y': 184, 'w': 149, 'h': 149}}, {'emotion': {'angry': 1.0383116706238185, 'disgust': 9.401592693815876e-06, 'fear': 0.16816759339957316, 'happy': 0.019013079061476403, 'sad': 6.113488243402452, 'surprise': 5.7170432234267634e-05, 'neutral': 92.66095248926253}, 'dominant_emotion': 'neutral', 'region': {'x': 144, 'y': 31, 'w': 47, 'h': 47}}]\n"
     ]
    },
    {
     "name": "stderr",
     "output_type": "stream",
     "text": [
      "Action: emotion: 100%|██████████| 1/1 [00:00<00:00, 11.37it/s]\n",
      "Action: emotion: 100%|██████████| 1/1 [00:00<00:00, 12.18it/s]\n"
     ]
    },
    {
     "name": "stdout",
     "output_type": "stream",
     "text": [
      "[{'emotion': {'angry': 0.00042648602548035677, 'disgust': 2.769909893297967e-11, 'fear': 74.85466899220121, 'happy': 0.16281995145515185, 'sad': 24.97577071478716, 'surprise': 0.00034957775294983074, 'neutral': 0.005954199532035236}, 'dominant_emotion': 'fear', 'region': {'x': 125, 'y': 185, 'w': 150, 'h': 150}}, {'emotion': {'angry': 0.8235204914485822, 'disgust': 6.12728239489442e-07, 'fear': 0.34278832014938354, 'happy': 0.003317987980248908, 'sad': 4.902689319528422, 'surprise': 0.00013282349990782516, 'neutral': 93.9275450792855}, 'dominant_emotion': 'neutral', 'region': {'x': 145, 'y': 32, 'w': 45, 'h': 45}}]\n"
     ]
    },
    {
     "name": "stderr",
     "output_type": "stream",
     "text": [
      "Action: emotion: 100%|██████████| 1/1 [00:00<00:00, 10.15it/s]\n",
      "Action: emotion: 100%|██████████| 1/1 [00:00<00:00, 10.36it/s]\n"
     ]
    },
    {
     "name": "stdout",
     "output_type": "stream",
     "text": [
      "[{'emotion': {'angry': 0.00885588233359158, 'disgust': 7.215617880973468e-07, 'fear': 16.527849435806274, 'happy': 0.12384243309497833, 'sad': 83.23713541030884, 'surprise': 0.0002561459268690669, 'neutral': 0.10206263978034258}, 'dominant_emotion': 'sad', 'region': {'x': 338, 'y': 179, 'w': 87, 'h': 87}}, {'emotion': {'angry': 3.3187225461006165, 'disgust': 0.00027133723961014766, 'fear': 2.836466208100319, 'happy': 0.03094883286394179, 'sad': 20.732924342155457, 'surprise': 0.0005748758212575922, 'neutral': 73.08009266853333}, 'dominant_emotion': 'neutral', 'region': {'x': 144, 'y': 31, 'w': 47, 'h': 47}}]\n"
     ]
    },
    {
     "name": "stderr",
     "output_type": "stream",
     "text": [
      "Action: emotion: 100%|██████████| 1/1 [00:00<00:00,  8.65it/s]\n"
     ]
    },
    {
     "name": "stdout",
     "output_type": "stream",
     "text": [
      "[{'emotion': {'angry': 1.08603273472385, 'disgust': 1.585595536119935e-05, 'fear': 0.5868321168769668, 'happy': 0.06963861357129297, 'sad': 4.889901646369794, 'surprise': 0.0024090926289157275, 'neutral': 93.36516817600537}, 'dominant_emotion': 'neutral', 'region': {'x': 143, 'y': 31, 'w': 48, 'h': 48}}]\n"
     ]
    },
    {
     "name": "stderr",
     "output_type": "stream",
     "text": [
      "Action: emotion: 100%|██████████| 1/1 [00:00<00:00,  8.87it/s]\n",
      "Action: emotion: 100%|██████████| 1/1 [00:00<00:00, 10.15it/s]\n"
     ]
    },
    {
     "name": "stdout",
     "output_type": "stream",
     "text": [
      "[{'emotion': {'angry': 0.2549403114244342, 'disgust': 4.758261840098754e-09, 'fear': 85.80881357192993, 'happy': 5.172906816005707, 'sad': 6.602943688631058, 'surprise': 0.004803926276508719, 'neutral': 2.155594155192375}, 'dominant_emotion': 'fear', 'region': {'x': 275, 'y': 100, 'w': 169, 'h': 169}}, {'emotion': {'angry': 0.7601289078593254, 'disgust': 1.3714515034735086e-05, 'fear': 0.8201401680707932, 'happy': 0.036689452826976776, 'sad': 5.619199201464653, 'surprise': 0.00043411509977886453, 'neutral': 92.76340007781982}, 'dominant_emotion': 'neutral', 'region': {'x': 144, 'y': 31, 'w': 47, 'h': 47}}]\n"
     ]
    },
    {
     "name": "stderr",
     "output_type": "stream",
     "text": [
      "Action: emotion: 100%|██████████| 1/1 [00:00<00:00, 10.36it/s]\n",
      "Action: emotion: 100%|██████████| 1/1 [00:00<00:00, 10.81it/s]\n"
     ]
    },
    {
     "name": "stdout",
     "output_type": "stream",
     "text": [
      "[{'emotion': {'angry': 0.2848488448470142, 'disgust': 1.070172849731396e-05, 'fear': 17.920252258792654, 'happy': 0.0013843494259387845, 'sad': 80.67639354922733, 'surprise': 0.00027657458133543674, 'neutral': 1.1168380933605488}, 'dominant_emotion': 'sad', 'region': {'x': 280, 'y': 117, 'w': 146, 'h': 146}}, {'emotion': {'angry': 0.2181145026901068, 'disgust': 6.324999234997642e-08, 'fear': 0.09149152283133702, 'happy': 0.008201298385284, 'sad': 1.890238673403184, 'surprise': 0.0001290806457831688, 'neutral': 97.7918265933887}, 'dominant_emotion': 'neutral', 'region': {'x': 145, 'y': 32, 'w': 45, 'h': 45}}]\n"
     ]
    },
    {
     "name": "stderr",
     "output_type": "stream",
     "text": [
      "Action: emotion: 100%|██████████| 1/1 [00:00<00:00,  9.85it/s]\n"
     ]
    },
    {
     "name": "stdout",
     "output_type": "stream",
     "text": [
      "[{'emotion': {'angry': 0.20857052877545357, 'disgust': 2.0520292132175655e-07, 'fear': 0.3088441677391529, 'happy': 0.005342341682990082, 'sad': 1.246786955744028, 'surprise': 0.0004713258022093214, 'neutral': 98.22998642921448}, 'dominant_emotion': 'neutral', 'region': {'x': 145, 'y': 32, 'w': 46, 'h': 46}}]\n"
     ]
    },
    {
     "name": "stderr",
     "output_type": "stream",
     "text": [
      "Action: emotion: 100%|██████████| 1/1 [00:00<00:00, 10.15it/s]\n",
      "Action: emotion: 100%|██████████| 1/1 [00:00<00:00,  9.66it/s]\n"
     ]
    },
    {
     "name": "stdout",
     "output_type": "stream",
     "text": [
      "[{'emotion': {'angry': 0.7991274840089659, 'disgust': 0.036443963451150176, 'fear': 8.775653246122985, 'happy': 0.0068657246628429335, 'sad': 90.32446030669931, 'surprise': 0.00012740157826445254, 'neutral': 0.057324727380243225}, 'dominant_emotion': 'sad', 'region': {'x': 292, 'y': 124, 'w': 121, 'h': 121}}, {'emotion': {'angry': 1.4042914845049381, 'disgust': 0.000141636314765492, 'fear': 1.489242073148489, 'happy': 0.12752700131386518, 'sad': 13.166444003582, 'surprise': 0.0006841125014034333, 'neutral': 83.8116705417633}, 'dominant_emotion': 'neutral', 'region': {'x': 144, 'y': 31, 'w': 48, 'h': 48}}]\n"
     ]
    },
    {
     "name": "stderr",
     "output_type": "stream",
     "text": [
      "Action: emotion: 100%|██████████| 1/1 [00:00<00:00, 10.60it/s]\n",
      "Action: emotion: 100%|██████████| 1/1 [00:00<00:00, 10.92it/s]\n"
     ]
    },
    {
     "name": "stdout",
     "output_type": "stream",
     "text": [
      "[{'emotion': {'angry': 0.83919228399946, 'disgust': 3.314121015313717e-05, 'fear': 49.07661372879826, 'happy': 0.00256647269288474, 'sad': 48.9242255046502, 'surprise': 0.0008075610393683021, 'neutral': 1.1565695274811703}, 'dominant_emotion': 'fear', 'region': {'x': 274, 'y': 109, 'w': 153, 'h': 153}}, {'emotion': {'angry': 2.2955698892474174, 'disgust': 0.0017344254956697114, 'fear': 7.210296392440796, 'happy': 0.20829129498451948, 'sad': 29.462575912475586, 'surprise': 0.0012190575944259763, 'neutral': 60.82031726837158}, 'dominant_emotion': 'neutral', 'region': {'x': 144, 'y': 31, 'w': 46, 'h': 46}}]\n"
     ]
    },
    {
     "name": "stderr",
     "output_type": "stream",
     "text": [
      "Action: emotion: 100%|██████████| 1/1 [00:00<00:00,  9.39it/s]\n",
      "Action: emotion: 100%|██████████| 1/1 [00:00<00:00, 10.17it/s]\n",
      "Action: emotion: 100%|██████████| 1/1 [00:00<00:00, 10.88it/s]\n"
     ]
    },
    {
     "name": "stdout",
     "output_type": "stream",
     "text": [
      "[{'emotion': {'angry': 1.3406720012426376, 'disgust': 0.0005116452939546434, 'fear': 9.187471866607666, 'happy': 0.00263450183410896, 'sad': 88.00445199012756, 'surprise': 0.0007074697805364849, 'neutral': 1.4635528437793255}, 'dominant_emotion': 'sad', 'region': {'x': 275, 'y': 112, 'w': 146, 'h': 146}}, {'emotion': {'angry': 0.008540867347377827, 'disgust': 6.194667370810949e-09, 'fear': 60.55459145036885, 'happy': 0.019706471076900278, 'sad': 38.750531598957274, 'surprise': 0.0007627820195827393, 'neutral': 0.665865459121195}, 'dominant_emotion': 'fear', 'region': {'x': 123, 'y': 180, 'w': 143, 'h': 143}}, {'emotion': {'angry': 0.8661638115243687, 'disgust': 5.927820008738512e-05, 'fear': 1.788424727430907, 'happy': 0.1093731392172741, 'sad': 9.477785614464953, 'surprise': 0.0017494954857373817, 'neutral': 87.75644752460093}, 'dominant_emotion': 'neutral', 'region': {'x': 145, 'y': 32, 'w': 46, 'h': 46}}]\n"
     ]
    },
    {
     "name": "stderr",
     "output_type": "stream",
     "text": [
      "Action: emotion: 100%|██████████| 1/1 [00:00<00:00, 10.58it/s]\n",
      "Action: emotion: 100%|██████████| 1/1 [00:00<00:00,  9.27it/s]\n",
      "Action: emotion: 100%|██████████| 1/1 [00:00<00:00,  9.56it/s]\n"
     ]
    },
    {
     "name": "stdout",
     "output_type": "stream",
     "text": [
      "[{'emotion': {'angry': 2.7247099683034457, 'disgust': 0.0016305269912514325, 'fear': 38.40171534994658, 'happy': 0.004151353510563961, 'sad': 58.175926425942606, 'surprise': 0.0023939944059878735, 'neutral': 0.6894667742291958}, 'dominant_emotion': 'sad', 'region': {'x': 278, 'y': 112, 'w': 144, 'h': 144}}, {'emotion': {'angry': 0.23859378416091204, 'disgust': 2.1014818774034438e-07, 'fear': 47.49649167060852, 'happy': 0.17969488399103284, 'sad': 13.458429276943207, 'surprise': 0.6450903136283159, 'neutral': 37.98169791698456}, 'dominant_emotion': 'fear', 'region': {'x': 123, 'y': 175, 'w': 145, 'h': 145}}, {'emotion': {'angry': 1.074114814400673, 'disgust': 6.956546485525905e-05, 'fear': 0.6261677015572786, 'happy': 0.10423923376947641, 'sad': 5.711361765861511, 'surprise': 0.0011217225619475357, 'neutral': 92.48293042182922}, 'dominant_emotion': 'neutral', 'region': {'x': 144, 'y': 31, 'w': 47, 'h': 47}}]\n"
     ]
    },
    {
     "name": "stderr",
     "output_type": "stream",
     "text": [
      "Action: emotion: 100%|██████████| 1/1 [00:00<00:00, 10.15it/s]\n",
      "Action: emotion: 100%|██████████| 1/1 [00:00<00:00, 10.35it/s]\n",
      "Action: emotion: 100%|██████████| 1/1 [00:00<00:00,  9.94it/s]\n"
     ]
    },
    {
     "name": "stdout",
     "output_type": "stream",
     "text": [
      "[{'emotion': {'angry': 1.295042069847337, 'disgust': 0.003135459327521926, 'fear': 25.917357096987118, 'happy': 0.009067605070859706, 'sad': 71.4972351196724, 'surprise': 0.000320219654011607, 'neutral': 1.2778370980516556}, 'dominant_emotion': 'sad', 'region': {'x': 279, 'y': 116, 'w': 136, 'h': 136}}, {'emotion': {'angry': 0.9047226049005985, 'disgust': 3.061645656998735e-05, 'fear': 49.81048107147217, 'happy': 0.687583489343524, 'sad': 13.491600751876831, 'surprise': 0.11043493868783116, 'neutral': 34.995147585868835}, 'dominant_emotion': 'fear', 'region': {'x': 119, 'y': 177, 'w': 146, 'h': 146}}, {'emotion': {'angry': 0.34184362448564914, 'disgust': 1.7506454219463178e-06, 'fear': 0.12751575155277559, 'happy': 0.04124744109794146, 'sad': 2.2893659272412017, 'surprise': 0.000247906692717891, 'neutral': 97.19977958201048}, 'dominant_emotion': 'neutral', 'region': {'x': 144, 'y': 31, 'w': 47, 'h': 47}}]\n"
     ]
    },
    {
     "name": "stderr",
     "output_type": "stream",
     "text": [
      "Action: emotion: 100%|██████████| 1/1 [00:00<00:00, 10.14it/s]\n",
      "Action: emotion: 100%|██████████| 1/1 [00:00<00:00, 11.04it/s]\n",
      "Action: emotion: 100%|██████████| 1/1 [00:00<00:00, 10.25it/s]\n"
     ]
    },
    {
     "name": "stdout",
     "output_type": "stream",
     "text": [
      "[{'emotion': {'angry': 3.578916510472714, 'disgust': 0.004138614401693788, 'fear': 38.315735660107656, 'happy': 0.012098375022325662, 'sad': 57.34960349206883, 'surprise': 0.008658472929816195, 'neutral': 0.7308402624469683}, 'dominant_emotion': 'sad', 'region': {'x': 275, 'y': 112, 'w': 144, 'h': 144}}, {'emotion': {'angry': 0.8957771186993789, 'disgust': 0.00033138153113888624, 'fear': 77.63287291722732, 'happy': 0.48076173362205826, 'sad': 12.713690859895399, 'surprise': 0.23587270648763814, 'neutral': 8.040696861785463}, 'dominant_emotion': 'fear', 'region': {'x': 116, 'y': 181, 'w': 146, 'h': 146}}, {'emotion': {'angry': 0.020859921642113477, 'disgust': 4.048931329103667e-09, 'fear': 0.02663258055690676, 'happy': 0.0029153323339414783, 'sad': 0.30190316028892994, 'surprise': 0.00011752094906114507, 'neutral': 99.64757561683655}, 'dominant_emotion': 'neutral', 'region': {'x': 144, 'y': 32, 'w': 46, 'h': 46}}]\n"
     ]
    },
    {
     "name": "stderr",
     "output_type": "stream",
     "text": [
      "Action: emotion: 100%|██████████| 1/1 [00:00<00:00,  9.47it/s]\n",
      "Action: emotion: 100%|██████████| 1/1 [00:00<00:00, 10.25it/s]\n"
     ]
    },
    {
     "name": "stdout",
     "output_type": "stream",
     "text": [
      "[{'emotion': {'angry': 0.24960937444120646, 'disgust': 8.504894566385701e-06, 'fear': 92.32571125030518, 'happy': 0.37112548016011715, 'sad': 3.174182027578354, 'surprise': 0.4504722077399492, 'neutral': 3.42889241874218}, 'dominant_emotion': 'fear', 'region': {'x': 116, 'y': 184, 'w': 141, 'h': 141}}, {'emotion': {'angry': 0.07638197149005363, 'disgust': 1.6826323282877312e-08, 'fear': 0.029889111791647185, 'happy': 0.007790358823102866, 'sad': 0.8934062506798656, 'surprise': 7.105430054854391e-05, 'neutral': 98.99246090605622}, 'dominant_emotion': 'neutral', 'region': {'x': 143, 'y': 31, 'w': 48, 'h': 48}}]\n"
     ]
    },
    {
     "name": "stderr",
     "output_type": "stream",
     "text": [
      "Action: emotion: 100%|██████████| 1/1 [00:00<00:00,  9.34it/s]\n",
      "Action: emotion: 100%|██████████| 1/1 [00:00<00:00, 11.05it/s]\n",
      "Action: emotion: 100%|██████████| 1/1 [00:00<00:00,  9.13it/s]\n"
     ]
    },
    {
     "name": "stdout",
     "output_type": "stream",
     "text": [
      "[{'emotion': {'angry': 0.8664843626320362, 'disgust': 3.102980272728928e-06, 'fear': 13.29226940870285, 'happy': 0.06568689714185894, 'sad': 23.720373213291168, 'surprise': 0.0004239552708895644, 'neutral': 62.05476522445679}, 'dominant_emotion': 'neutral', 'region': {'x': 270, 'y': 102, 'w': 152, 'h': 152}}, {'emotion': {'angry': 0.22192699517434894, 'disgust': 2.8100938667879532e-06, 'fear': 93.68075803747678, 'happy': 0.2908680241265268, 'sad': 3.3600445556587513, 'surprise': 0.6764774801310921, 'neutral': 1.7699163159827809}, 'dominant_emotion': 'fear', 'region': {'x': 115, 'y': 182, 'w': 146, 'h': 146}}, {'emotion': {'angry': 0.19173084292560816, 'disgust': 3.5677306442494228e-06, 'fear': 1.041921228170395, 'happy': 0.03837009135168046, 'sad': 12.112534046173096, 'surprise': 0.0003901356194546679, 'neutral': 86.61504983901978}, 'dominant_emotion': 'neutral', 'region': {'x': 144, 'y': 32, 'w': 46, 'h': 46}}]\n"
     ]
    },
    {
     "name": "stderr",
     "output_type": "stream",
     "text": [
      "Action: emotion: 100%|██████████| 1/1 [00:00<00:00, 11.56it/s]\n",
      "Action: emotion: 100%|██████████| 1/1 [00:00<00:00, 11.42it/s]\n",
      "Action: emotion: 100%|██████████| 1/1 [00:00<00:00, 12.57it/s]\n"
     ]
    },
    {
     "name": "stdout",
     "output_type": "stream",
     "text": [
      "[{'emotion': {'angry': 0.6176785295243824, 'disgust': 0.00018788110798963992, 'fear': 30.91628778978732, 'happy': 0.014642315801031494, 'sad': 67.08237325163206, 'surprise': 0.00015802190026784364, 'neutral': 1.368668605396914}, 'dominant_emotion': 'sad', 'region': {'x': 270, 'y': 109, 'w': 144, 'h': 144}}, {'emotion': {'angry': 0.09446717449463904, 'disgust': 3.0573520604093574e-06, 'fear': 95.05441188812256, 'happy': 0.07275799289345741, 'sad': 3.3372141420841217, 'surprise': 0.031560161733068526, 'neutral': 1.4095845632255077}, 'dominant_emotion': 'fear', 'region': {'x': 114, 'y': 183, 'w': 147, 'h': 147}}, {'emotion': {'angry': 0.17514013452455401, 'disgust': 7.247976885338403e-07, 'fear': 0.17340461490675807, 'happy': 0.027358770603314042, 'sad': 3.1061306595802307, 'surprise': 6.790396014366706e-05, 'neutral': 96.51789665222168}, 'dominant_emotion': 'neutral', 'region': {'x': 145, 'y': 32, 'w': 46, 'h': 46}}]\n"
     ]
    },
    {
     "name": "stderr",
     "output_type": "stream",
     "text": [
      "Action: emotion: 100%|██████████| 1/1 [00:00<00:00, 11.42it/s]\n",
      "Action: emotion: 100%|██████████| 1/1 [00:00<00:00, 12.26it/s]\n",
      "Action: emotion: 100%|██████████| 1/1 [00:00<00:00, 12.26it/s]\n"
     ]
    },
    {
     "name": "stdout",
     "output_type": "stream",
     "text": [
      "[{'emotion': {'angry': 1.2389494106173515, 'disgust': 8.520510164089501e-05, 'fear': 54.95818257331848, 'happy': 0.018342451949138194, 'sad': 38.485607504844666, 'surprise': 0.0031217197829391807, 'neutral': 5.295703187584877}, 'dominant_emotion': 'fear', 'region': {'x': 270, 'y': 108, 'w': 147, 'h': 147}}, {'emotion': {'angry': 0.10911598801612854, 'disgust': 8.276647700533601e-08, 'fear': 86.35708689689636, 'happy': 0.04440050688572228, 'sad': 8.487216383218765, 'surprise': 0.009625048551242799, 'neutral': 4.992552474141121}, 'dominant_emotion': 'fear', 'region': {'x': 113, 'y': 184, 'w': 147, 'h': 147}}, {'emotion': {'angry': 0.36438575480133295, 'disgust': 1.6006721281769387e-06, 'fear': 0.11704679345712066, 'happy': 0.020805311214644462, 'sad': 2.5570904836058617, 'surprise': 0.00022188426100910874, 'neutral': 96.94045186042786}, 'dominant_emotion': 'neutral', 'region': {'x': 144, 'y': 31, 'w': 47, 'h': 47}}]\n"
     ]
    },
    {
     "name": "stderr",
     "output_type": "stream",
     "text": [
      "Action: emotion: 100%|██████████| 1/1 [00:00<00:00, 10.62it/s]\n",
      "Action: emotion: 100%|██████████| 1/1 [00:00<00:00, 12.57it/s]\n",
      "Action: emotion: 100%|██████████| 1/1 [00:00<00:00, 12.02it/s]\n"
     ]
    },
    {
     "name": "stdout",
     "output_type": "stream",
     "text": [
      "[{'emotion': {'angry': 0.8656012825667858, 'disgust': 0.00011940045396841015, 'fear': 33.75825583934784, 'happy': 0.03174440353177488, 'sad': 40.78311622142792, 'surprise': 7.776955612825986e-05, 'neutral': 24.56108331680298}, 'dominant_emotion': 'sad', 'region': {'x': 270, 'y': 108, 'w': 147, 'h': 147}}, {'emotion': {'angry': 0.006627649480559988, 'disgust': 4.0508576326176175e-08, 'fear': 95.40868346794646, 'happy': 0.35132765301497615, 'sad': 3.9115608676148494, 'surprise': 0.005084174214419256, 'neutral': 0.3167169778978202}, 'dominant_emotion': 'fear', 'region': {'x': 114, 'y': 185, 'w': 147, 'h': 147}}, {'emotion': {'angry': 0.3816925687715411, 'disgust': 5.179908768582209e-06, 'fear': 2.073223516345024, 'happy': 0.032810846460051835, 'sad': 11.84166967868805, 'surprise': 0.00031212539397529326, 'neutral': 85.67028641700745}, 'dominant_emotion': 'neutral', 'region': {'x': 145, 'y': 32, 'w': 45, 'h': 45}}]\n"
     ]
    },
    {
     "name": "stderr",
     "output_type": "stream",
     "text": [
      "Action: emotion: 100%|██████████| 1/1 [00:00<00:00, 10.92it/s]\n",
      "Action: emotion: 100%|██████████| 1/1 [00:00<00:00, 11.90it/s]\n"
     ]
    },
    {
     "name": "stdout",
     "output_type": "stream",
     "text": [
      "[{'emotion': {'angry': 0.014761013153474778, 'disgust': 3.609171628227159e-07, 'fear': 99.0902841091156, 'happy': 0.2152985194697976, 'sad': 0.6701427046209574, 'surprise': 0.003916852801921777, 'neutral': 0.005597548806690611}, 'dominant_emotion': 'fear', 'region': {'x': 113, 'y': 183, 'w': 146, 'h': 146}}, {'emotion': {'angry': 0.3079870151563901, 'disgust': 2.1816151488098155e-06, 'fear': 0.7498877551272816, 'happy': 0.03950210118784472, 'sad': 1.9792819892504203, 'surprise': 0.0014845964820679274, 'neutral': 96.92185484431444}, 'dominant_emotion': 'neutral', 'region': {'x': 145, 'y': 32, 'w': 46, 'h': 46}}]\n"
     ]
    },
    {
     "name": "stderr",
     "output_type": "stream",
     "text": [
      "Action: emotion: 100%|██████████| 1/1 [00:00<00:00, 11.83it/s]\n",
      "Action: emotion: 100%|██████████| 1/1 [00:00<00:00, 12.73it/s]\n"
     ]
    },
    {
     "name": "stdout",
     "output_type": "stream",
     "text": [
      "[{'emotion': {'angry': 0.012498734577093273, 'disgust': 8.809405982468377e-08, 'fear': 98.99966716766357, 'happy': 0.28309186454862356, 'sad': 0.6628412287682295, 'surprise': 0.009463637979933992, 'neutral': 0.03243985120207071}, 'dominant_emotion': 'fear', 'region': {'x': 113, 'y': 183, 'w': 146, 'h': 146}}, {'emotion': {'angry': 1.399607975827697, 'disgust': 1.185763168409403e-05, 'fear': 1.4392517653999608, 'happy': 0.010867959077145195, 'sad': 7.76127558812194, 'surprise': 0.00028061261966244523, 'neutral': 89.38870556489162}, 'dominant_emotion': 'neutral', 'region': {'x': 145, 'y': 32, 'w': 44, 'h': 44}}]\n"
     ]
    },
    {
     "name": "stderr",
     "output_type": "stream",
     "text": [
      "Action: emotion: 100%|██████████| 1/1 [00:00<00:00, 11.29it/s]\n",
      "Action: emotion: 100%|██████████| 1/1 [00:00<00:00, 11.97it/s]\n"
     ]
    },
    {
     "name": "stdout",
     "output_type": "stream",
     "text": [
      "[{'emotion': {'angry': 0.003742680564755574, 'disgust': 2.735559175015556e-09, 'fear': 98.2490599155426, 'happy': 0.22653357591480017, 'sad': 1.5065357089042664, 'surprise': 0.009428104385733604, 'neutral': 0.004699833516497165}, 'dominant_emotion': 'fear', 'region': {'x': 111, 'y': 185, 'w': 143, 'h': 143}}, {'emotion': {'angry': 0.17080378020182252, 'disgust': 2.0247885590407577e-07, 'fear': 0.15360997058451176, 'happy': 0.008167997293639928, 'sad': 3.2265421003103256, 'surprise': 7.246229074553412e-05, 'neutral': 96.44080400466919}, 'dominant_emotion': 'neutral', 'region': {'x': 145, 'y': 32, 'w': 45, 'h': 45}}]\n"
     ]
    },
    {
     "name": "stderr",
     "output_type": "stream",
     "text": [
      "Action: emotion: 100%|██████████| 1/1 [00:00<00:00, 11.32it/s]\n",
      "Action: emotion: 100%|██████████| 1/1 [00:00<00:00, 11.69it/s]\n",
      "Action: emotion: 100%|██████████| 1/1 [00:00<00:00, 12.41it/s]\n"
     ]
    },
    {
     "name": "stdout",
     "output_type": "stream",
     "text": [
      "[{'emotion': {'angry': 0.030831903169381995, 'disgust': 4.296947685313018e-09, 'fear': 0.4649408250231534, 'happy': 0.009289491952215293, 'sad': 3.040530895058023, 'surprise': 8.172039948590846e-05, 'neutral': 96.45432787589166}, 'dominant_emotion': 'neutral', 'region': {'x': 274, 'y': 111, 'w': 142, 'h': 142}}, {'emotion': {'angry': 0.013016490169232021, 'disgust': 4.342862218385779e-08, 'fear': 96.93020022747514, 'happy': 0.17579170176634767, 'sad': 2.6885537950928455, 'surprise': 0.003878870385586834, 'neutral': 0.18855561582826189}, 'dominant_emotion': 'fear', 'region': {'x': 110, 'y': 188, 'w': 142, 'h': 142}}, {'emotion': {'angry': 0.8290594500672162, 'disgust': 1.1202094810442733e-05, 'fear': 0.3978820991971611, 'happy': 0.048555128127389026, 'sad': 7.485627530291978, 'surprise': 0.0002005398994562399, 'neutral': 91.23866453631693}, 'dominant_emotion': 'neutral', 'region': {'x': 143, 'y': 31, 'w': 48, 'h': 48}}]\n"
     ]
    },
    {
     "name": "stderr",
     "output_type": "stream",
     "text": [
      "Action: emotion: 100%|██████████| 1/1 [00:00<00:00, 11.69it/s]\n",
      "Action: emotion: 100%|██████████| 1/1 [00:00<00:00, 12.41it/s]\n",
      "Action: emotion: 100%|██████████| 1/1 [00:00<00:00, 12.94it/s]\n"
     ]
    },
    {
     "name": "stdout",
     "output_type": "stream",
     "text": [
      "[{'emotion': {'angry': 0.004592639015754685, 'disgust': 3.342773649030184e-11, 'fear': 0.4546334967017174, 'happy': 0.010003558418247849, 'sad': 0.49752029590308666, 'surprise': 3.366926364378742e-05, 'neutral': 99.03321862220764}, 'dominant_emotion': 'neutral', 'region': {'x': 269, 'y': 110, 'w': 147, 'h': 147}}, {'emotion': {'angry': 0.0020622395233212314, 'disgust': 1.9752048397359028e-09, 'fear': 94.34731568976139, 'happy': 0.04453817356884769, 'sad': 5.597998162984738, 'surprise': 0.001372781107390058, 'neutral': 0.006718049953882766}, 'dominant_emotion': 'fear', 'region': {'x': 111, 'y': 188, 'w': 145, 'h': 145}}, {'emotion': {'angry': 1.3591967523097992, 'disgust': 4.476447372780967e-05, 'fear': 1.0584627278149128, 'happy': 0.044720974983647466, 'sad': 10.768382996320724, 'surprise': 0.0007462239864253206, 'neutral': 86.76844835281372}, 'dominant_emotion': 'neutral', 'region': {'x': 144, 'y': 31, 'w': 47, 'h': 47}}]\n"
     ]
    },
    {
     "name": "stderr",
     "output_type": "stream",
     "text": [
      "Action: emotion: 100%|██████████| 1/1 [00:00<00:00, 11.42it/s]\n",
      "Action: emotion: 100%|██████████| 1/1 [00:00<00:00, 12.11it/s]\n"
     ]
    },
    {
     "name": "stdout",
     "output_type": "stream",
     "text": [
      "[{'emotion': {'angry': 0.002654886156960856, 'disgust': 5.702678346902745e-10, 'fear': 91.88987016677856, 'happy': 0.014010675658937544, 'sad': 8.033490180969238, 'surprise': 0.0006656796813331312, 'neutral': 0.05930683691985905}, 'dominant_emotion': 'fear', 'region': {'x': 112, 'y': 188, 'w': 143, 'h': 143}}, {'emotion': {'angry': 0.8126014880956993, 'disgust': 2.533571343876941e-06, 'fear': 0.17440397974449154, 'happy': 0.01618318830984468, 'sad': 4.2269659610946135, 'surprise': 0.000337131900040324, 'neutral': 94.76950702303732}, 'dominant_emotion': 'neutral', 'region': {'x': 143, 'y': 31, 'w': 48, 'h': 48}}]\n"
     ]
    },
    {
     "name": "stderr",
     "output_type": "stream",
     "text": [
      "Action: emotion: 100%|██████████| 1/1 [00:00<00:00, 11.43it/s]\n",
      "Action: emotion: 100%|██████████| 1/1 [00:00<00:00, 11.97it/s]\n"
     ]
    },
    {
     "name": "stdout",
     "output_type": "stream",
     "text": [
      "[{'emotion': {'angry': 0.0004725798935924178, 'disgust': 1.4640746720694697e-10, 'fear': 99.4518221078131, 'happy': 0.024545547769563168, 'sad': 0.5121086579282692, 'surprise': 0.006965669205779528, 'neutral': 0.004080069870921836}, 'dominant_emotion': 'fear', 'region': {'x': 113, 'y': 189, 'w': 142, 'h': 142}}, {'emotion': {'angry': 1.7594402421188067, 'disgust': 0.0003890600046407845, 'fear': 1.5180869080916752, 'happy': 0.0873780705180084, 'sad': 16.97150713544999, 'surprise': 0.0006858412326486523, 'neutral': 79.6625101968634}, 'dominant_emotion': 'neutral', 'region': {'x': 144, 'y': 31, 'w': 47, 'h': 47}}]\n"
     ]
    },
    {
     "name": "stderr",
     "output_type": "stream",
     "text": [
      "Action: emotion: 100%|██████████| 1/1 [00:00<00:00, 11.63it/s]\n",
      "Action: emotion: 100%|██████████| 1/1 [00:00<00:00, 12.20it/s]\n"
     ]
    },
    {
     "name": "stdout",
     "output_type": "stream",
     "text": [
      "[{'emotion': {'angry': 0.016668031457811594, 'disgust': 6.596390100810368e-08, 'fear': 95.61081528663635, 'happy': 0.0771843595430255, 'sad': 4.217951372265816, 'surprise': 0.008083727880148217, 'neutral': 0.06929959054104984}, 'dominant_emotion': 'fear', 'region': {'x': 116, 'y': 188, 'w': 143, 'h': 143}}, {'emotion': {'angry': 0.05836478085257113, 'disgust': 5.4027726736904924e-08, 'fear': 0.04542708629742265, 'happy': 0.009378312097396702, 'sad': 0.7602724712342024, 'surprise': 0.00019818342025246238, 'neutral': 99.12636280059814}, 'dominant_emotion': 'neutral', 'region': {'x': 144, 'y': 32, 'w': 46, 'h': 46}}]\n"
     ]
    },
    {
     "name": "stderr",
     "output_type": "stream",
     "text": [
      "Action: emotion: 100%|██████████| 1/1 [00:00<00:00, 10.81it/s]\n",
      "Action: emotion: 100%|██████████| 1/1 [00:00<00:00, 11.56it/s]\n",
      "Action: emotion: 100%|██████████| 1/1 [00:00<00:00, 12.82it/s]\n"
     ]
    },
    {
     "name": "stdout",
     "output_type": "stream",
     "text": [
      "[{'emotion': {'angry': 0.00801039786892943, 'disgust': 1.7489173997908836e-08, 'fear': 99.53303337097168, 'happy': 0.03636940964497626, 'sad': 0.40118503384292126, 'surprise': 0.020819120982196182, 'neutral': 0.0005803028216178063}, 'dominant_emotion': 'fear', 'region': {'x': 116, 'y': 188, 'w': 143, 'h': 143}}, {'emotion': {'angry': 4.144361615180969, 'disgust': 0.006097375808167271, 'fear': 38.33356499671936, 'happy': 0.014296844892669469, 'sad': 53.83102297782898, 'surprise': 0.0012873028026660904, 'neutral': 3.6693744361400604}, 'dominant_emotion': 'sad', 'region': {'x': 273, 'y': 113, 'w': 137, 'h': 137}}, {'emotion': {'angry': 0.025932449899284553, 'disgust': 3.1297635749096774e-08, 'fear': 0.03931707874165282, 'happy': 0.005540257619784237, 'sad': 0.7151297838086148, 'surprise': 7.052039177938351e-05, 'neutral': 99.21401152443748}, 'dominant_emotion': 'neutral', 'region': {'x': 144, 'y': 32, 'w': 46, 'h': 46}}]\n"
     ]
    },
    {
     "name": "stderr",
     "output_type": "stream",
     "text": [
      "Action: emotion: 100%|██████████| 1/1 [00:00<00:00, 11.34it/s]\n",
      "Action: emotion: 100%|██████████| 1/1 [00:00<00:00, 11.69it/s]\n"
     ]
    },
    {
     "name": "stdout",
     "output_type": "stream",
     "text": [
      "[{'emotion': {'angry': 0.002831559868354816, 'disgust': 9.567190789594449e-09, 'fear': 96.24178409576416, 'happy': 0.1262391684576869, 'sad': 3.617217391729355, 'surprise': 0.0035022629162995145, 'neutral': 0.008432067261310294}, 'dominant_emotion': 'fear', 'region': {'x': 114, 'y': 188, 'w': 145, 'h': 145}}, {'emotion': {'angry': 1.094657154807875, 'disgust': 0.00014334626429839844, 'fear': 1.0248406469726947, 'happy': 0.1979468275500433, 'sad': 7.8713064117018225, 'surprise': 0.008168902909671689, 'neutral': 89.80293809193003}, 'dominant_emotion': 'neutral', 'region': {'x': 143, 'y': 31, 'w': 46, 'h': 46}}]\n"
     ]
    },
    {
     "name": "stderr",
     "output_type": "stream",
     "text": [
      "Action: emotion: 100%|██████████| 1/1 [00:00<00:00, 11.97it/s]\n",
      "Action: emotion: 100%|██████████| 1/1 [00:00<00:00, 12.47it/s]\n",
      "Action: emotion: 100%|██████████| 1/1 [00:00<00:00, 12.11it/s]\n"
     ]
    },
    {
     "name": "stdout",
     "output_type": "stream",
     "text": [
      "[{'emotion': {'angry': 0.04169303574599326, 'disgust': 9.629705921554432e-08, 'fear': 99.33138489723206, 'happy': 0.04545980773400515, 'sad': 0.5621737334877253, 'surprise': 0.013766602205578238, 'neutral': 0.005519519982044585}, 'dominant_emotion': 'fear', 'region': {'x': 111, 'y': 182, 'w': 145, 'h': 145}}, {'emotion': {'angry': 0.8331554507109792, 'disgust': 0.0004192421124348139, 'fear': 7.703225028707089, 'happy': 0.007962424316997785, 'sad': 79.39715858680955, 'surprise': 6.04717265224054e-05, 'neutral': 12.058018121601231}, 'dominant_emotion': 'sad', 'region': {'x': 269, 'y': 79, 'w': 151, 'h': 151}}, {'emotion': {'angry': 0.24198581839521904, 'disgust': 6.903618630904156e-07, 'fear': 0.1545505879610076, 'happy': 0.02865728114905582, 'sad': 1.5592149462741678, 'surprise': 0.0004806062288534853, 'neutral': 98.01510596095252}, 'dominant_emotion': 'neutral', 'region': {'x': 143, 'y': 32, 'w': 48, 'h': 48}}]\n"
     ]
    },
    {
     "name": "stderr",
     "output_type": "stream",
     "text": [
      "Action: emotion: 100%|██████████| 1/1 [00:00<00:00, 11.34it/s]\n",
      "Action: emotion: 100%|██████████| 1/1 [00:00<00:00, 12.41it/s]\n",
      "Action: emotion: 100%|██████████| 1/1 [00:00<00:00, 12.41it/s]\n"
     ]
    },
    {
     "name": "stdout",
     "output_type": "stream",
     "text": [
      "[{'emotion': {'angry': 0.013560920908769708, 'disgust': 5.3101655626278824e-08, 'fear': 96.68476621094153, 'happy': 0.14539904090475547, 'sad': 3.134152292114223, 'surprise': 0.005427129589093302, 'neutral': 0.01668879359619172}, 'dominant_emotion': 'fear', 'region': {'x': 113, 'y': 186, 'w': 146, 'h': 146}}, {'emotion': {'angry': 1.545870304107666, 'disgust': 0.0002976956693601096, 'fear': 6.9846004247665405, 'happy': 0.12288984144106507, 'sad': 38.849541544914246, 'surprise': 0.0026297779186279513, 'neutral': 52.494168281555176}, 'dominant_emotion': 'neutral', 'region': {'x': 267, 'y': 80, 'w': 152, 'h': 152}}, {'emotion': {'angry': 0.14121083721985372, 'disgust': 1.045108586097765e-06, 'fear': 0.28297087529648834, 'happy': 0.03479990285878296, 'sad': 1.601597103286135, 'surprise': 0.0014266582302343998, 'neutral': 97.93798948073513}, 'dominant_emotion': 'neutral', 'region': {'x': 144, 'y': 32, 'w': 47, 'h': 47}}]\n"
     ]
    },
    {
     "name": "stderr",
     "output_type": "stream",
     "text": [
      "Action: emotion: 100%|██████████| 1/1 [00:00<00:00, 10.69it/s]\n",
      "Action: emotion: 100%|██████████| 1/1 [00:00<00:00, 12.27it/s]\n",
      "Action: emotion: 100%|██████████| 1/1 [00:00<00:00, 12.90it/s]\n"
     ]
    },
    {
     "name": "stdout",
     "output_type": "stream",
     "text": [
      "[{'emotion': {'angry': 0.02810667792800814, 'disgust': 5.080657672351663e-07, 'fear': 98.80884289741516, 'happy': 0.30972298700362444, 'sad': 0.8328087627887726, 'surprise': 0.007809187809471041, 'neutral': 0.012705563858617097}, 'dominant_emotion': 'fear', 'region': {'x': 115, 'y': 189, 'w': 147, 'h': 147}}, {'emotion': {'angry': 0.8526823483407497, 'disgust': 0.0011060161341447383, 'fear': 12.740086019039154, 'happy': 0.026941197575069964, 'sad': 74.60446357727051, 'surprise': 0.00018145532294511213, 'neutral': 11.774539947509766}, 'dominant_emotion': 'sad', 'region': {'x': 269, 'y': 86, 'w': 151, 'h': 151}}, {'emotion': {'angry': 1.1250465698484695, 'disgust': 8.372108620870658e-05, 'fear': 0.5929632336839159, 'happy': 0.17731302865215795, 'sad': 5.382262646286172, 'surprise': 0.001666697773127989, 'neutral': 92.7206644152803}, 'dominant_emotion': 'neutral', 'region': {'x': 143, 'y': 31, 'w': 48, 'h': 48}}]\n"
     ]
    },
    {
     "name": "stderr",
     "output_type": "stream",
     "text": [
      "Action: emotion: 100%|██████████| 1/1 [00:00<00:00, 11.49it/s]\n",
      "Action: emotion: 100%|██████████| 1/1 [00:00<00:00, 12.51it/s]\n",
      "Action: emotion: 100%|██████████| 1/1 [00:00<00:00, 12.41it/s]\n"
     ]
    },
    {
     "name": "stdout",
     "output_type": "stream",
     "text": [
      "[{'emotion': {'angry': 0.1801097058011416, 'disgust': 1.7338950753928807e-08, 'fear': 86.60277048365894, 'happy': 0.009385045100369385, 'sad': 6.686603676474314, 'surprise': 0.007035815052494559, 'neutral': 6.514095903283113}, 'dominant_emotion': 'fear', 'region': {'x': 112, 'y': 192, 'w': 150, 'h': 150}}, {'emotion': {'angry': 0.2978565637022257, 'disgust': 0.0002789054406093783, 'fear': 5.21538108587265, 'happy': 0.2538428409025073, 'sad': 86.179119348526, 'surprise': 0.0011462178008514456, 'neutral': 8.05237591266632}, 'dominant_emotion': 'sad', 'region': {'x': 268, 'y': 89, 'w': 152, 'h': 152}}, {'emotion': {'angry': 0.7675589544255788, 'disgust': 1.9417608671024204e-05, 'fear': 0.2774768178192594, 'happy': 0.06365924896822882, 'sad': 4.7580933114179, 'surprise': 0.00016521313759329463, 'neutral': 94.13302610718893}, 'dominant_emotion': 'neutral', 'region': {'x': 144, 'y': 31, 'w': 47, 'h': 47}}]\n"
     ]
    },
    {
     "name": "stderr",
     "output_type": "stream",
     "text": [
      "Action: emotion: 100%|██████████| 1/1 [00:00<00:00, 11.16it/s]\n",
      "Action: emotion: 100%|██████████| 1/1 [00:00<00:00, 12.25it/s]\n",
      "Action: emotion: 100%|██████████| 1/1 [00:00<00:00, 12.57it/s]\n"
     ]
    },
    {
     "name": "stdout",
     "output_type": "stream",
     "text": [
      "[{'emotion': {'angry': 0.028327497420832515, 'disgust': 3.4936262216511693e-09, 'fear': 98.06112051010132, 'happy': 0.005963069997960702, 'sad': 1.5147630125284195, 'surprise': 0.009422416769666597, 'neutral': 0.3804061096161604}, 'dominant_emotion': 'fear', 'region': {'x': 110, 'y': 192, 'w': 151, 'h': 151}}, {'emotion': {'angry': 0.9082249365746975, 'disgust': 0.0003681739372041193, 'fear': 4.979244992136955, 'happy': 0.22576027549803257, 'sad': 39.055171608924866, 'surprise': 0.0026764248104882427, 'neutral': 54.82855439186096}, 'dominant_emotion': 'neutral', 'region': {'x': 265, 'y': 90, 'w': 153, 'h': 153}}, {'emotion': {'angry': 2.7208011597394943, 'disgust': 0.000572704266232904, 'fear': 1.9149798899888992, 'happy': 0.1801061793230474, 'sad': 27.17278003692627, 'surprise': 0.0013688517356058583, 'neutral': 68.00938844680786}, 'dominant_emotion': 'neutral', 'region': {'x': 145, 'y': 32, 'w': 45, 'h': 45}}]\n"
     ]
    },
    {
     "name": "stderr",
     "output_type": "stream",
     "text": [
      "Action: emotion: 100%|██████████| 1/1 [00:00<00:00, 11.05it/s]\n",
      "Action: emotion: 100%|██████████| 1/1 [00:00<00:00, 12.31it/s]\n",
      "Action: emotion: 100%|██████████| 1/1 [00:00<00:00, 11.76it/s]\n"
     ]
    },
    {
     "name": "stdout",
     "output_type": "stream",
     "text": [
      "[{'emotion': {'angry': 1.4608840458095074, 'disgust': 0.0005195301127969287, 'fear': 15.663306415081024, 'happy': 0.03322288976050913, 'sad': 67.8487777709961, 'surprise': 0.0014596784239984117, 'neutral': 14.991828799247742}, 'dominant_emotion': 'sad', 'region': {'x': 265, 'y': 90, 'w': 152, 'h': 152}}, {'emotion': {'angry': 0.06264695921857412, 'disgust': 2.3993358731082147e-08, 'fear': 99.12481898813361, 'happy': 0.010318226010181442, 'sad': 0.5631874651126543, 'surprise': 0.0064107658728389215, 'neutral': 0.23261920072848802}, 'dominant_emotion': 'fear', 'region': {'x': 111, 'y': 194, 'w': 146, 'h': 146}}, {'emotion': {'angry': 0.4543326795101166, 'disgust': 3.5601257497575034e-07, 'fear': 0.11155758984386921, 'happy': 0.010815672430908307, 'sad': 2.4269327521324158, 'surprise': 0.00015970614413163275, 'neutral': 96.99620604515076}, 'dominant_emotion': 'neutral', 'region': {'x': 143, 'y': 31, 'w': 48, 'h': 48}}]\n"
     ]
    },
    {
     "name": "stderr",
     "output_type": "stream",
     "text": [
      "Action: emotion: 100%|██████████| 1/1 [00:00<00:00,  9.94it/s]\n",
      "Action: emotion: 100%|██████████| 1/1 [00:00<00:00, 10.05it/s]\n",
      "Action: emotion: 100%|██████████| 1/1 [00:00<00:00, 11.97it/s]\n"
     ]
    },
    {
     "name": "stdout",
     "output_type": "stream",
     "text": [
      "[{'emotion': {'angry': 0.004636619632947259, 'disgust': 1.6361113852614295e-09, 'fear': 93.46689581871033, 'happy': 0.00878603896126151, 'sad': 6.32367804646492, 'surprise': 0.0009156956366496161, 'neutral': 0.19508680561557412}, 'dominant_emotion': 'fear', 'region': {'x': 109, 'y': 191, 'w': 148, 'h': 148}}, {'emotion': {'angry': 0.6895952392369509, 'disgust': 0.0001943380084412638, 'fear': 17.177842557430267, 'happy': 0.04400017496664077, 'sad': 63.238346576690674, 'surprise': 0.0005272975613479502, 'neutral': 18.84949505329132}, 'dominant_emotion': 'sad', 'region': {'x': 267, 'y': 91, 'w': 151, 'h': 151}}, {'emotion': {'angry': 3.027241490781307, 'disgust': 0.0022289656044449657, 'fear': 2.9921848326921463, 'happy': 0.09302092948928475, 'sad': 40.86219072341919, 'surprise': 0.000894122331374092, 'neutral': 53.02223563194275}, 'dominant_emotion': 'neutral', 'region': {'x': 144, 'y': 31, 'w': 46, 'h': 46}}]\n"
     ]
    },
    {
     "name": "stderr",
     "output_type": "stream",
     "text": [
      "Action: emotion: 100%|██████████| 1/1 [00:00<00:00, 11.68it/s]\n",
      "Action: emotion: 100%|██████████| 1/1 [00:00<00:00, 12.42it/s]\n",
      "Action: emotion: 100%|██████████| 1/1 [00:00<00:00, 12.01it/s]\n"
     ]
    },
    {
     "name": "stdout",
     "output_type": "stream",
     "text": [
      "[{'emotion': {'angry': 1.423863135278225, 'disgust': 0.007928169361548498, 'fear': 23.026666045188904, 'happy': 0.18581764306873083, 'sad': 66.00737571716309, 'surprise': 0.009265627159038559, 'neutral': 9.339085221290588}, 'dominant_emotion': 'sad', 'region': {'x': 268, 'y': 92, 'w': 146, 'h': 146}}, {'emotion': {'angry': 0.05991663783788681, 'disgust': 1.5187412438777415e-08, 'fear': 85.38393378257751, 'happy': 0.026903257821686566, 'sad': 12.595470249652863, 'surprise': 0.15594431897625327, 'neutral': 1.7778320237994194}, 'dominant_emotion': 'fear', 'region': {'x': 106, 'y': 189, 'w': 152, 'h': 152}}, {'emotion': {'angry': 2.908729761838913, 'disgust': 0.0009091571882891003, 'fear': 3.065328672528267, 'happy': 0.04024997178930789, 'sad': 20.33243328332901, 'surprise': 0.000947756961977575, 'neutral': 73.65140318870544}, 'dominant_emotion': 'neutral', 'region': {'x': 145, 'y': 32, 'w': 44, 'h': 44}}]\n"
     ]
    },
    {
     "name": "stderr",
     "output_type": "stream",
     "text": [
      "Action: emotion: 100%|██████████| 1/1 [00:00<00:00, 11.29it/s]\n",
      "Action: emotion: 100%|██████████| 1/1 [00:00<00:00, 12.34it/s]\n",
      "Action: emotion: 100%|██████████| 1/1 [00:00<00:00, 12.42it/s]\n"
     ]
    },
    {
     "name": "stdout",
     "output_type": "stream",
     "text": [
      "[{'emotion': {'angry': 0.8938945829868317, 'disgust': 0.00025706565338623477, 'fear': 3.3619578927755356, 'happy': 0.24193953722715378, 'sad': 27.66648530960083, 'surprise': 0.0035717832361115143, 'neutral': 67.83189177513123}, 'dominant_emotion': 'neutral', 'region': {'x': 264, 'y': 88, 'w': 153, 'h': 153}}, {'emotion': {'angry': 0.03023847460697894, 'disgust': 1.719703896339242e-08, 'fear': 24.126473173323493, 'happy': 0.14934702160170416, 'sad': 10.65711922560701, 'surprise': 0.03696573108284401, 'neutral': 64.99985277654496}, 'dominant_emotion': 'neutral', 'region': {'x': 104, 'y': 190, 'w': 156, 'h': 156}}, {'emotion': {'angry': 0.03187224691717308, 'disgust': 5.2366260285144e-09, 'fear': 0.039569034736993, 'happy': 0.0020746184745459653, 'sad': 0.5679640326180477, 'surprise': 4.4943399594022266e-05, 'neutral': 99.35847517004461}, 'dominant_emotion': 'neutral', 'region': {'x': 144, 'y': 32, 'w': 46, 'h': 46}}]\n"
     ]
    },
    {
     "name": "stderr",
     "output_type": "stream",
     "text": [
      "Action: emotion: 100%|██████████| 1/1 [00:00<00:00, 11.83it/s]\n",
      "Action: emotion: 100%|██████████| 1/1 [00:00<00:00, 11.56it/s]\n",
      "Action: emotion: 100%|██████████| 1/1 [00:00<00:00, 13.16it/s]\n"
     ]
    },
    {
     "name": "stdout",
     "output_type": "stream",
     "text": [
      "[{'emotion': {'angry': 0.17131370259448886, 'disgust': 4.304926692899613e-08, 'fear': 16.126397252082825, 'happy': 0.11473445920273662, 'sad': 9.304949641227722, 'surprise': 0.44726100750267506, 'neutral': 73.8353431224823}, 'dominant_emotion': 'neutral', 'region': {'x': 106, 'y': 191, 'w': 150, 'h': 150}}, {'emotion': {'angry': 1.1105738972811576, 'disgust': 0.0004036453928225537, 'fear': 10.185830764273495, 'happy': 0.033316902014951646, 'sad': 60.640348272365124, 'surprise': 0.00037099659823731245, 'neutral': 28.029162052769905}, 'dominant_emotion': 'sad', 'region': {'x': 265, 'y': 88, 'w': 153, 'h': 153}}, {'emotion': {'angry': 2.443109452724457, 'disgust': 0.0002872164486689144, 'fear': 1.5168560668826103, 'happy': 0.08558445260860026, 'sad': 22.954048216342926, 'surprise': 0.0022613719920627773, 'neutral': 72.99785017967224}, 'dominant_emotion': 'neutral', 'region': {'x': 144, 'y': 31, 'w': 46, 'h': 46}}]\n"
     ]
    },
    {
     "name": "stderr",
     "output_type": "stream",
     "text": [
      "Action: emotion: 100%|██████████| 1/1 [00:00<00:00, 11.83it/s]\n",
      "Action: emotion: 100%|██████████| 1/1 [00:00<00:00, 12.27it/s]\n",
      "Action: emotion: 100%|██████████| 1/1 [00:00<00:00, 12.11it/s]\n"
     ]
    },
    {
     "name": "stdout",
     "output_type": "stream",
     "text": [
      "[{'emotion': {'angry': 1.6693150624632835, 'disgust': 0.005072779458714649, 'fear': 11.822370439767838, 'happy': 0.06326927687041461, 'sad': 72.60832190513611, 'surprise': 0.0017595426470506936, 'neutral': 13.8298898935318}, 'dominant_emotion': 'sad', 'region': {'x': 265, 'y': 92, 'w': 147, 'h': 147}}, {'emotion': {'angry': 0.009858744306256995, 'disgust': 3.173899294425797e-10, 'fear': 53.782737255096436, 'happy': 0.12721584644168615, 'sad': 2.9020382091403008, 'surprise': 0.15270643634721637, 'neutral': 43.02544593811035}, 'dominant_emotion': 'fear', 'region': {'x': 105, 'y': 191, 'w': 151, 'h': 151}}, {'emotion': {'angry': 2.096663726667388, 'disgust': 0.00011431330448580113, 'fear': 0.9061103295451599, 'happy': 0.052296163837383024, 'sad': 13.926533694656712, 'surprise': 0.0003268929016696831, 'neutral': 83.01795619833209}, 'dominant_emotion': 'neutral', 'region': {'x': 144, 'y': 31, 'w': 47, 'h': 47}}]\n"
     ]
    },
    {
     "name": "stderr",
     "output_type": "stream",
     "text": [
      "Action: emotion: 100%|██████████| 1/1 [00:00<00:00, 11.68it/s]\n",
      "Action: emotion: 100%|██████████| 1/1 [00:00<00:00, 12.57it/s]\n",
      "Action: emotion: 100%|██████████| 1/1 [00:00<00:00, 12.33it/s]\n"
     ]
    },
    {
     "name": "stdout",
     "output_type": "stream",
     "text": [
      "[{'emotion': {'angry': 0.8944022334334572, 'disgust': 0.0005013455704898965, 'fear': 6.7073933234937995, 'happy': 0.030827020927463956, 'sad': 55.47308856569665, 'surprise': 0.0002248387277449531, 'neutral': 36.89355708437478}, 'dominant_emotion': 'sad', 'region': {'x': 262, 'y': 90, 'w': 154, 'h': 154}}, {'emotion': {'angry': 0.0017232216358625976, 'disgust': 2.1903382870796047e-11, 'fear': 2.0205626810267785, 'happy': 0.026227935666382093, 'sad': 0.6326511325122276, 'surprise': 0.059105032184574864, 'neutral': 97.25972977396604}, 'dominant_emotion': 'neutral', 'region': {'x': 109, 'y': 192, 'w': 149, 'h': 149}}, {'emotion': {'angry': 3.2139852643013, 'disgust': 0.0038912632589926943, 'fear': 5.289027094841003, 'happy': 0.17774944426491857, 'sad': 29.460594058036804, 'surprise': 0.0029166072636144236, 'neutral': 61.85184121131897}, 'dominant_emotion': 'neutral', 'region': {'x': 144, 'y': 31, 'w': 47, 'h': 47}}]\n"
     ]
    },
    {
     "name": "stderr",
     "output_type": "stream",
     "text": [
      "Action: emotion: 100%|██████████| 1/1 [00:00<00:00, 11.88it/s]\n",
      "Action: emotion: 100%|██████████| 1/1 [00:00<00:00, 11.97it/s]\n",
      "Action: emotion: 100%|██████████| 1/1 [00:00<00:00, 12.11it/s]\n"
     ]
    },
    {
     "name": "stdout",
     "output_type": "stream",
     "text": [
      "[{'emotion': {'angry': 2.1483516320586205, 'disgust': 0.0006128053883003304, 'fear': 5.884881317615509, 'happy': 0.04320639418438077, 'sad': 48.14864993095398, 'surprise': 0.0025445027858950198, 'neutral': 43.7717467546463}, 'dominant_emotion': 'sad', 'region': {'x': 264, 'y': 90, 'w': 153, 'h': 153}}, {'emotion': {'angry': 0.00016465621683892095, 'disgust': 2.1800768655599878e-11, 'fear': 97.65045046806335, 'happy': 0.044813944259658456, 'sad': 0.5711808800697327, 'surprise': 1.184971071779728, 'neutral': 0.5484214518219233}, 'dominant_emotion': 'fear', 'region': {'x': 104, 'y': 177, 'w': 150, 'h': 150}}, {'emotion': {'angry': 0.019231197074986994, 'disgust': 2.0215160101422214e-08, 'fear': 0.10558489011600614, 'happy': 0.009474863327341154, 'sad': 3.010886162519455, 'surprise': 0.00014190884485287825, 'neutral': 96.85468077659607}, 'dominant_emotion': 'neutral', 'region': {'x': 145, 'y': 33, 'w': 44, 'h': 44}}]\n"
     ]
    },
    {
     "name": "stderr",
     "output_type": "stream",
     "text": [
      "Action: emotion: 100%|██████████| 1/1 [00:00<00:00, 10.69it/s]\n",
      "Action: emotion: 100%|██████████| 1/1 [00:00<00:00, 12.21it/s]\n",
      "Action: emotion:   0%|          | 0/1 [00:00<?, ?it/s]"
     ]
    }
   ],
   "source": [
    "# Capture video from the default camera (index 0)\n",
    "# Note: You can adjust the camera index based on your setup.\n",
    "# For example, if you have multiple cameras, you might need to change the index to 1, 2, etc.\n",
    "cap = cv2.VideoCapture(0)\n",
    "\n",
    "# Check if the camera is opened successfully\n",
    "if not cap.isOpened():\n",
    "    print(\"Error: Could not open camera.\")\n",
    "    exit()\n",
    "\n",
    "while True:\n",
    "    ret, frame = cap.read()\n",
    "\n",
    "    # Check if the frame is empty\n",
    "    if not ret:\n",
    "        print(\"Error: Could not read frame.\")\n",
    "        break\n",
    "        \n",
    "    # Convert the frame to grayscale\n",
    "    frame_gray = cv2.cvtColor(frame, cv2.COLOR_BGR2GRAY)\n",
    "    \n",
    "    # Detect faces in the grayscale frame\n",
    "    faces = face_classifier.detectMultiScale(frame_gray)\n",
    "    \n",
    "    # Analyze the emotion in the frame using DeepFace library\n",
    "    response = DeepFace.analyze(frame, actions=(\"emotion\",), enforce_detection=False)\n",
    "    print(response)\n",
    "    \n",
    "    # Iterate over detected faces\n",
    "    for face in faces:\n",
    "        x, y, w, h = face\n",
    "        \n",
    "        # Access the emotion information from the DeepFace analysis\n",
    "        emotion_info = response[0][\"emotion\"]\n",
    "        dominant_emotion = response[0][\"dominant_emotion\"]\n",
    "        \n",
    "        # Display the dominant emotion as text on the frame\n",
    "        cv2.putText(frame, text=dominant_emotion, org=(x, y), fontFace=cv2.FONT_HERSHEY_COMPLEX, fontScale=1, color=(0, 0, 255))\n",
    "        \n",
    "        # Draw a rectangle around the detected face\n",
    "        new_frame = cv2.rectangle(frame, (x, y), (x+w, y+h), color=(0, 255, 0), thickness=2)\n",
    "    \n",
    "    # Display the frame with emotion information\n",
    "    cv2.imshow(\"Emotion Detection\", new_frame)\n",
    "    \n",
    "    # Break the loop if 'q' key is pressed\n",
    "    if cv2.waitKey(1) & 0xFF == ord('q'):\n",
    "        break\n",
    "        \n",
    "# Release the camera and close all windows\n",
    "cap.release()\n",
    "cv2.destroyAllWindows()"
   ]
  },
  {
   "cell_type": "markdown",
   "id": "020ca5ce",
   "metadata": {},
   "source": [
    "Note: Ensure that the `haarcascade_frontaface_default.xml` file, which is used by the face_classifier, is present in the same directory as this script for easier usage."
   ]
  },
  {
   "cell_type": "markdown",
   "id": "c92455db",
   "metadata": {},
   "source": [
    "# Results and Discussion"
   ]
  },
  {
   "cell_type": "markdown",
   "id": "49b08524",
   "metadata": {},
   "source": [
    "In this section, we will discuss the results and analysis of this study: the `facial emotion recognition` used for classify facial expressions in real-time, focusing on the integration of emotion recognition into applications that can benefit from a deeper understanding of human emotions. The results of this study are crucial as they pave the way for advancements that transcend mere technological innovation. They have the potential to reshape the landscape of human-computer interactions, foster empathy in technology, and contribute to improved well-being in various aspects of our lives, ultimately enhancing the synergy between humans and machines in our technologically-driven world."
   ]
  },
  {
   "cell_type": "markdown",
   "id": "54d1c4e2",
   "metadata": {},
   "source": [
    "In conclusion, the implementation of `real-time facial emotion recognition` has been successfully executed, demonstrating the capability to recognize a spectrum of emotions. The system adeptly identifies and categorizes diverse emotional states, including `anger`, `disgust`, `fear`, `happiness`, `sadness`, `surprise`, and `neutrality`. By leveraging the integration of `OpenCV` and `DeepFace` libraries, coupled with the efficient loading of the `cascade classifier`, the methodology ensures a seamless and accurate process of capturing, analyzing, and displaying facial expressions in real-time.\n",
    "\n",
    "This achievement holds promising implications for various applications, spanning from user experience enhancements in technology to potential contributions in fields such as `mental health`, `human-computer interaction`, and beyond. The accurate recognition of emotions in real-time represents a significant step forward in creating more empathetic and responsive systems that can cater to individual emotional nuances, fostering a deeper understanding of human-machine interactions."
   ]
  },
  {
   "cell_type": "code",
   "execution_count": null,
   "id": "e15ed99a",
   "metadata": {},
   "outputs": [],
   "source": []
  }
 ],
 "metadata": {
  "kernelspec": {
   "display_name": "Python 3 (ipykernel)",
   "language": "python",
   "name": "python3"
  },
  "language_info": {
   "codemirror_mode": {
    "name": "ipython",
    "version": 3
   },
   "file_extension": ".py",
   "mimetype": "text/x-python",
   "name": "python",
   "nbconvert_exporter": "python",
   "pygments_lexer": "ipython3",
   "version": "3.11.4"
  }
 },
 "nbformat": 4,
 "nbformat_minor": 5
}
